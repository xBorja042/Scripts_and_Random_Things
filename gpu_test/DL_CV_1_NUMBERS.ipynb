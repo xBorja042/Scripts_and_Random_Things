{
 "cells": [
  {
   "cell_type": "code",
   "execution_count": 3,
   "id": "alpha-marina",
   "metadata": {},
   "outputs": [
    {
     "name": "stdout",
     "output_type": "stream",
     "text": [
      "Tensor Flow Version: 2.1.0\n",
      "Keras Version: 2.2.4-tf\n",
      "\n",
      "Python 3.7.9 (default, Aug 31 2020, 17:10:11) [MSC v.1916 64 bit (AMD64)]\n",
      "Pandas 1.2.1\n",
      "Scikit-Learn 0.23.2\n",
      "GPU is available name: \"/device:GPU:0\"\n",
      "device_type: \"GPU\"\n",
      "memory_limit: 1437850011\n",
      "locality {\n",
      "  bus_id: 1\n",
      "  links {\n",
      "  }\n",
      "}\n",
      "incarnation: 3403144232941753976\n",
      "physical_device_desc: \"device: 0, name: GeForce GTX 960M, pci bus id: 0000:01:00.0, compute capability: 5.0\"\n",
      "\n"
     ]
    }
   ],
   "source": [
    "import sys\n",
    "import pandas as pd\n",
    "import sklearn as sk\n",
    "import tensorflow as tf\n",
    "print(f\"Tensor Flow Version: {tf.__version__}\")\n",
    "print(f\"Keras Version: {tf.keras.__version__}\")\n",
    "print()\n",
    "print(f\"Python {sys.version}\")\n",
    "print(f\"Pandas {pd.__version__}\")\n",
    "print(f\"Scikit-Learn {sk.__version__}\")\n",
    "gpu = len(tf.config.list_physical_devices('GPU'))>0\n",
    "from tensorflow.python.client import device_lib\n",
    "print(\"GPU is\", \"available \" + str(device_lib.list_local_devices()[1]) if gpu else \"NOT AVAILABLE\")"
   ]
  },
  {
   "cell_type": "code",
   "execution_count": 4,
   "id": "looking-identity",
   "metadata": {},
   "outputs": [
    {
     "name": "stdout",
     "output_type": "stream",
     "text": [
      "DATA LOADED, with shapes --->  (60000, 28, 28) (10000, 28, 28)\n"
     ]
    }
   ],
   "source": [
    "import time\n",
    "\n",
    "mnist = tf.keras.datasets.mnist\n",
    "\n",
    "(x_train, y_train), (x_test, y_test) = mnist.load_data()\n",
    "x_train_sc, x_test_sc = x_train / 255.0, x_test / 255.0\n",
    "\n",
    "print(\"DATA LOADED, with shapes ---> \", x_train_sc.shape, x_test_sc.shape)"
   ]
  },
  {
   "cell_type": "code",
   "execution_count": 5,
   "id": "operational-howard",
   "metadata": {},
   "outputs": [],
   "source": [
    "# import numpy as np\n",
    "# import matplotlib.pyplot as plt\n",
    "\n",
    "# for example in np.random.randint(x_train.shape[0], size = 10):\n",
    "#     f, axarr = plt.subplots(1,2)\n",
    "#     axarr[0].imshow(x_train[example])\n",
    "#     axarr[1].imshow(x_train_sc[example])\n",
    "    "
   ]
  },
  {
   "cell_type": "code",
   "execution_count": 6,
   "id": "progressive-council",
   "metadata": {},
   "outputs": [],
   "source": [
    "xtr1 = x_train_sc.reshape(x_train_sc.shape[0], 28, 28, 1)\n",
    "xte1 = x_test_sc.reshape(x_test_sc.shape[0], 28, 28, 1)"
   ]
  },
  {
   "cell_type": "code",
   "execution_count": 7,
   "id": "behavioral-passenger",
   "metadata": {},
   "outputs": [],
   "source": [
    "\n",
    "import tensorflow as tf\n",
    "\n",
    "model = tf.keras.models.Sequential([\n",
    "  tf.keras.layers.Conv2D(64,(3,3), input_shape=(28, 28,1)),\n",
    "  tf.keras.layers.MaxPooling2D((2,2)),\n",
    "  tf.keras.layers.Conv2D(32,(3,3), input_shape=(28, 28,1)),\n",
    "  tf.keras.layers.MaxPooling2D((2,2)),\n",
    "  tf.keras.layers.Flatten(),\n",
    "  tf.keras.layers.Dense(128, activation='relu'),\n",
    "  tf.keras.layers.Dropout(0.2),\n",
    "  tf.keras.layers.Dense(10, activation='softmax')\n",
    "])\n",
    "\n",
    "model.compile(optimizer='adam',\n",
    "              loss='sparse_categorical_crossentropy',\n",
    "              metrics=['accuracy'])"
   ]
  },
  {
   "cell_type": "code",
   "execution_count": 8,
   "id": "explicit-amazon",
   "metadata": {},
   "outputs": [
    {
     "name": "stdout",
     "output_type": "stream",
     "text": [
      "Train on 60000 samples\n",
      "Epoch 1/10\n",
      "60000/60000 [==============================] - 12s 198us/sample - loss: 0.1694 - accuracy: 0.9488\n",
      "Epoch 2/10\n",
      "60000/60000 [==============================] - 10s 166us/sample - loss: 0.0599 - accuracy: 0.9818\n",
      "Epoch 3/10\n",
      "60000/60000 [==============================] - 10s 162us/sample - loss: 0.0451 - accuracy: 0.9863\n",
      "Epoch 4/10\n",
      "60000/60000 [==============================] - 10s 164us/sample - loss: 0.0359 - accuracy: 0.9888\n",
      "Epoch 5/10\n",
      "60000/60000 [==============================] - 10s 165us/sample - loss: 0.0303 - accuracy: 0.9906\n",
      "Epoch 6/10\n",
      "60000/60000 [==============================] - 10s 163us/sample - loss: 0.0261 - accuracy: 0.9912\n",
      "Epoch 7/10\n",
      "60000/60000 [==============================] - 10s 162us/sample - loss: 0.0221 - accuracy: 0.9930\n",
      "Epoch 8/10\n",
      "60000/60000 [==============================] - 10s 165us/sample - loss: 0.0205 - accuracy: 0.9935\n",
      "Epoch 9/10\n",
      "60000/60000 [==============================] - 10s 162us/sample - loss: 0.0194 - accuracy: 0.9935\n",
      "Epoch 10/10\n",
      "60000/60000 [==============================] - 10s 163us/sample - loss: 0.0173 - accuracy: 0.9944- loss: 0.0174 - accuracy: 0.99\n",
      "10000/10000 - 1s - loss: 0.0656 - accuracy: 0.9866\n",
      " Training time: 101.63206601142883\n"
     ]
    }
   ],
   "source": [
    "import time\n",
    "t0 = time.time()\n",
    "model.fit(xtr1, y_train, epochs=10)\n",
    "\n",
    "model.evaluate(xte1,  y_test, verbose=2)\n",
    "t1 = time.time()\n",
    "\n",
    "print(f\" Training time: {t1-t0}\")"
   ]
  },
  {
   "cell_type": "markdown",
   "id": "aerial-dylan",
   "metadata": {},
   "source": [
    "## Model Performance"
   ]
  },
  {
   "cell_type": "code",
   "execution_count": 9,
   "id": "chief-organizer",
   "metadata": {},
   "outputs": [
    {
     "data": {
      "image/png": "[encoded data removed]",
      "text/plain": [
       "<Figure size 432x288 with 1 Axes>"
      ]
     },
     "metadata": {
      "needs_background": "light"
     },
     "output_type": "display_data"
    },
    {
     "name": "stdout",
     "output_type": "stream",
     "text": [
      " Model thinks this is a 2\n"
     ]
    },
    {
     "data": {
      "image/png": "[encoded data removed]",
      "text/plain": [
       "<Figure size 432x288 with 1 Axes>"
      ]
     },
     "metadata": {
      "needs_background": "light"
     },
     "output_type": "display_data"
    },
    {
     "name": "stdout",
     "output_type": "stream",
     "text": [
      " Model thinks this is a 3\n"
     ]
    },
    {
     "data": {
      "image/png": "[encoded data removed]",
      "text/plain": [
       "<Figure size 432x288 with 1 Axes>"
      ]
     },
     "metadata": {
      "needs_background": "light"
     },
     "output_type": "display_data"
    },
    {
     "name": "stdout",
     "output_type": "stream",
     "text": [
      " Model thinks this is a 2\n"
     ]
    },
    {
     "data": {
      "image/png": "[encoded data removed]",
      "text/plain": [
       "<Figure size 432x288 with 1 Axes>"
      ]
     },
     "metadata": {
      "needs_background": "light"
     },
     "output_type": "display_data"
    },
    {
     "name": "stdout",
     "output_type": "stream",
     "text": [
      " Model thinks this is a 5\n"
     ]
    },
    {
     "data": {
      "image/png": "[encoded data removed]",
      "text/plain": [
       "<Figure size 432x288 with 1 Axes>"
      ]
     },
     "metadata": {
      "needs_background": "light"
     },
     "output_type": "display_data"
    },
    {
     "name": "stdout",
     "output_type": "stream",
     "text": [
      " Model thinks this is a 5\n"
     ]
    },
    {
     "data": {
      "image/png": "[encoded data removed]",
      "text/plain": [
       "<Figure size 432x288 with 1 Axes>"
      ]
     },
     "metadata": {
      "needs_background": "light"
     },
     "output_type": "display_data"
    },
    {
     "name": "stdout",
     "output_type": "stream",
     "text": [
      " Model thinks this is a 2\n"
     ]
    },
    {
     "data": {
      "image/png": "[encoded data removed]",
      "text/plain": [
       "<Figure size 432x288 with 1 Axes>"
      ]
     },
     "metadata": {
      "needs_background": "light"
     },
     "output_type": "display_data"
    },
    {
     "name": "stdout",
     "output_type": "stream",
     "text": [
      " Model thinks this is a 4\n"
     ]
    },
    {
     "data": {
      "image/png": "[encoded data removed]",
      "text/plain": [
       "<Figure size 432x288 with 1 Axes>"
      ]
     },
     "metadata": {
      "needs_background": "light"
     },
     "output_type": "display_data"
    },
    {
     "name": "stdout",
     "output_type": "stream",
     "text": [
      " Model thinks this is a 7\n"
     ]
    },
    {
     "data": {
      "image/png": "[encoded data removed]",
      "text/plain": [
       "<Figure size 432x288 with 1 Axes>"
      ]
     },
     "metadata": {
      "needs_background": "light"
     },
     "output_type": "display_data"
    },
    {
     "name": "stdout",
     "output_type": "stream",
     "text": [
      " Model thinks this is a 0\n"
     ]
    },
    {
     "data": {
      "image/png": "[encoded data removed]",
      "text/plain": [
       "<Figure size 432x288 with 1 Axes>"
      ]
     },
     "metadata": {
      "needs_background": "light"
     },
     "output_type": "display_data"
    },
    {
     "name": "stdout",
     "output_type": "stream",
     "text": [
      " Model thinks this is a 1\n",
      " Inference time: 2.2973005771636963\n"
     ]
    }
   ],
   "source": [
    "import numpy as np\n",
    "import matplotlib.pyplot as plt\n",
    "\n",
    "t0 = time.time()\n",
    "for example in np.random.randint(x_train.shape[0], size = 10):\n",
    "    plt.imshow(x_train_sc[example])\n",
    "    plt.show()\n",
    "    print(f\" Model thinks this is a {model.predict_classes(x_train_sc[example].reshape(1, 28,28,1))[0]}\")\n",
    "t1 = time.time()\n",
    "print(f\" Inference time: {t1-t0}\")"
   ]
  }
 ],
 "metadata": {
  "kernelspec": {
   "display_name": "Python 3",
   "language": "python",
   "name": "python3"
  },
  "language_info": {
   "codemirror_mode": {
    "name": "ipython",
    "version": 3
   },
   "file_extension": ".py",
   "mimetype": "text/x-python",
   "name": "python",
   "nbconvert_exporter": "python",
   "pygments_lexer": "ipython3",
   "version": "3.7.9"
  }
 },
 "nbformat": 4,
 "nbformat_minor": 5
}
