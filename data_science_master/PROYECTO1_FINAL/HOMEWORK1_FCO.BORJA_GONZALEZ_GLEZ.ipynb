{
 "cells": [
  {
   "cell_type": "markdown",
   "metadata": {},
   "source": [
    "# HOMEWORK 1. Finding the hidden writer. Fco. de Borja González.\n",
    "This first project is about figuring out who is the writer of a model using as input and training data .txt files that contain books of the two presumed writers using Naive Bayes Classifiers. This two famous writers are Verne and Maupassant and we will learn their differences in style through the probabilities of the different words they wrote on the texts we have been given. "
   ]
  },
  {
   "cell_type": "markdown",
   "metadata": {},
   "source": [
    "## Initial imports"
   ]
  },
  {
   "cell_type": "code",
   "execution_count": 1,
   "metadata": {},
   "outputs": [],
   "source": [
    "from os import listdir\n",
    "from os.path import isfile, join\n",
    "import re\n",
    "\n",
    "from sklearn.feature_extraction.text import TfidfVectorizer\n",
    "from sklearn import preprocessing \n",
    "from sklearn.model_selection import train_test_split\n",
    "from sklearn.feature_selection import SelectPercentile, f_classif, mutual_info_classif\n",
    "\n",
    "from sklearn.metrics import accuracy_score\n",
    "from sklearn import naive_bayes, metrics\n",
    "import numpy as np\n",
    "\n",
    "\n",
    "import os\n",
    "import textwrap\n",
    "import math\n",
    "import numpy as np\n",
    "import matplotlib.pyplot as plt"
   ]
  },
  {
   "cell_type": "markdown",
   "metadata": {},
   "source": [
    "##  File Reading and File Preprocessing.\n",
    "We have downloaded 4 books of each writer and and the novel we want to assing. The books will be stored on the input foldier. Since we have not much books to train, I will cut the books on 10 equal parts as if they were mini-books and I will retrieve the name of the writer (labels) from the title of the .txt document. This will be helpfull for perfomance purposes and for having more precise results on the % of classifications but the true results will depend on word's frecuency. Also, I have observed that all the books at the end have a generic part of generic data that is not important and it just slows our computer since they are characters and are stored on memory so I found in which character number do they begin and I delete from that point untill the end of the document."
   ]
  },
  {
   "cell_type": "code",
   "execution_count": 2,
   "metadata": {},
   "outputs": [],
   "source": [
    "initial_path = os.getcwd()\n",
    "directory_books = os.path.join(initial_path, 'books')"
   ]
  },
  {
   "cell_type": "code",
   "execution_count": 3,
   "metadata": {},
   "outputs": [],
   "source": [
    "texts_classified = []\n",
    "authors_labels = []\n",
    "texts_unknown = []\n",
    "labels_unknown = []\n",
    "\n",
    "for idx, filename in enumerate(os.listdir(directory_books)):\n",
    "    data = open(os.path.join(directory_books, filename), encoding=\"latin-1\").read()\n",
    "    data = data.replace('\\n',' ')\n",
    "    data = data.replace('\\t',' ')\n",
    "    data = data[:data.find('END OF THIS PROJECT')]\n",
    "    for i in textwrap.wrap(data, math.ceil(len(data)/10)):\n",
    "        if len(i) > 40:\n",
    "                new_label = filename.split('-')\n",
    "                if new_label[0] != 'texte':\n",
    "                    authors_labels.append(new_label[0])\n",
    "                    texts_classified.append(i)\n",
    "                else:\n",
    "                    labels_unknown.append(new_label[0])\n",
    "                    texts_unknown.append(i)\n",
    "                    \n",
    "                "
   ]
  },
  {
   "cell_type": "markdown",
   "metadata": {},
   "source": [
    "Now, we have 2 lists with the same lenght, one with the different labels of the writer extracted from the titles of the .txt files and another with the chunks of text from the books with the garbage text of the end removed. Also we have the data to be classified."
   ]
  },
  {
   "cell_type": "code",
   "execution_count": 4,
   "metadata": {},
   "outputs": [
    {
     "name": "stdout",
     "output_type": "stream",
     "text": [
      "Number of Labels of Chunks -->  80 ['maupassant', 'maupassant', 'maupassant', 'maupassant', 'maupassant', 'maupassant', 'maupassant', 'maupassant', 'maupassant', 'maupassant', 'maupassant', 'maupassant', 'maupassant', 'maupassant', 'maupassant', 'maupassant', 'maupassant', 'maupassant', 'maupassant', 'maupassant', 'maupassant', 'maupassant', 'maupassant', 'maupassant', 'maupassant', 'maupassant', 'maupassant', 'maupassant', 'maupassant', 'maupassant', 'maupassant', 'maupassant', 'maupassant', 'maupassant', 'maupassant', 'maupassant', 'maupassant', 'maupassant', 'maupassant', 'maupassant', 'verne', 'verne', 'verne', 'verne', 'verne', 'verne', 'verne', 'verne', 'verne', 'verne', 'verne', 'verne', 'verne', 'verne', 'verne', 'verne', 'verne', 'verne', 'verne', 'verne', 'verne', 'verne', 'verne', 'verne', 'verne', 'verne', 'verne', 'verne', 'verne', 'verne', 'verne', 'verne', 'verne', 'verne', 'verne', 'verne', 'verne', 'verne', 'verne', 'verne']\n",
      " \n",
      "Number of Unlabelled Chunks -->  10 ['texte', 'texte', 'texte', 'texte', 'texte', 'texte', 'texte', 'texte', 'texte', 'texte']\n"
     ]
    }
   ],
   "source": [
    "print(\"Number of Labels of Chunks --> \", len(authors_labels), authors_labels)\n",
    "print(\" \")\n",
    "print(\"Number of Unlabelled Chunks --> \", len(labels_unknown), labels_unknown)"
   ]
  },
  {
   "cell_type": "code",
   "execution_count": 5,
   "metadata": {},
   "outputs": [
    {
     "name": "stdout",
     "output_type": "stream",
     "text": [
      "Number of Labeled Chunks -->  80\n",
      " \n",
      "Number of Unabeled Chunks -->  10\n"
     ]
    }
   ],
   "source": [
    "print(\"Number of Labeled Chunks --> \", len(texts_classified))\n",
    "print(\" \")\n",
    "print(\"Number of Unabeled Chunks --> \", len(texts_unknown))"
   ]
  },
  {
   "cell_type": "markdown",
   "metadata": {},
   "source": [
    "## Some numbers. \n",
    "We will check how many characters we have by writer."
   ]
  },
  {
   "cell_type": "code",
   "execution_count": 6,
   "metadata": {},
   "outputs": [
    {
     "data": {
      "text/html": [
       "<div>\n",
       "<style scoped>\n",
       "    .dataframe tbody tr th:only-of-type {\n",
       "        vertical-align: middle;\n",
       "    }\n",
       "\n",
       "    .dataframe tbody tr th {\n",
       "        vertical-align: top;\n",
       "    }\n",
       "\n",
       "    .dataframe thead th {\n",
       "        text-align: right;\n",
       "    }\n",
       "</style>\n",
       "<table border=\"1\" class=\"dataframe\">\n",
       "  <thead>\n",
       "    <tr style=\"text-align: right;\">\n",
       "      <th></th>\n",
       "      <th>author</th>\n",
       "      <th>texts</th>\n",
       "      <th>Length</th>\n",
       "    </tr>\n",
       "  </thead>\n",
       "  <tbody>\n",
       "    <tr>\n",
       "      <th>0</th>\n",
       "      <td>maupassant</td>\n",
       "      <td>BOULE DE SUIF   L'ÃPAVE--DÃCOUVERTE--UN PA...</td>\n",
       "      <td>22526</td>\n",
       "    </tr>\n",
       "    <tr>\n",
       "      <th>1</th>\n",
       "      <td>maupassant</td>\n",
       "      <td>annonÃ§a que dÃ©cidÃ©ment il se sentait un rud...</td>\n",
       "      <td>22524</td>\n",
       "    </tr>\n",
       "    <tr>\n",
       "      <th>2</th>\n",
       "      <td>maupassant</td>\n",
       "      <td>qu'est-ce que Ã§a vous fait?  Elle avait l'air...</td>\n",
       "      <td>22528</td>\n",
       "    </tr>\n",
       "    <tr>\n",
       "      <th>3</th>\n",
       "      <td>maupassant</td>\n",
       "      <td>potage, M. Follenvie reparut, rÃ©pÃ©tant sa ph...</td>\n",
       "      <td>22526</td>\n",
       "    </tr>\n",
       "    <tr>\n",
       "      <th>4</th>\n",
       "      <td>maupassant</td>\n",
       "      <td>Â«Il me raconta le sinistre, trÃ¨s simple d'ai...</td>\n",
       "      <td>22530</td>\n",
       "    </tr>\n",
       "    <tr>\n",
       "      <th>5</th>\n",
       "      <td>maupassant</td>\n",
       "      <td>dents jaunes et dÃ©mesurÃ©es.  On sentait, en ...</td>\n",
       "      <td>22523</td>\n",
       "    </tr>\n",
       "    <tr>\n",
       "      <th>6</th>\n",
       "      <td>maupassant</td>\n",
       "      <td>opÃ©ration, lui aurait paru prÃ©fÃ©rable. Elle...</td>\n",
       "      <td>22530</td>\n",
       "    </tr>\n",
       "    <tr>\n",
       "      <th>7</th>\n",
       "      <td>maupassant</td>\n",
       "      <td>glissait sur les lÃ¨vres. Depuis trente ans il...</td>\n",
       "      <td>22521</td>\n",
       "    </tr>\n",
       "    <tr>\n",
       "      <th>8</th>\n",
       "      <td>maupassant</td>\n",
       "      <td>autrefois. Nous ne nous quittions jamais; et l...</td>\n",
       "      <td>22529</td>\n",
       "    </tr>\n",
       "    <tr>\n",
       "      <th>9</th>\n",
       "      <td>maupassant</td>\n",
       "      <td>me piquaient Ã  prÃ©sent comme des coups d'aig...</td>\n",
       "      <td>22531</td>\n",
       "    </tr>\n",
       "    <tr>\n",
       "      <th>10</th>\n",
       "      <td>maupassant</td>\n",
       "      <td>CONTES DE LA BÃCASSE   SEIZIÃME ÃDITION  ...</td>\n",
       "      <td>21023</td>\n",
       "    </tr>\n",
       "    <tr>\n",
       "      <th>11</th>\n",
       "      <td>maupassant</td>\n",
       "      <td>qu'elle fut seule avec moi, je la saisis de no...</td>\n",
       "      <td>21028</td>\n",
       "    </tr>\n",
       "    <tr>\n",
       "      <th>12</th>\n",
       "      <td>maupassant</td>\n",
       "      <td>portant ainsi au bout du bras le chien suspend...</td>\n",
       "      <td>21027</td>\n",
       "    </tr>\n",
       "    <tr>\n",
       "      <th>13</th>\n",
       "      <td>maupassant</td>\n",
       "      <td>d'assister au spectacle de cette terreur super...</td>\n",
       "      <td>21028</td>\n",
       "    </tr>\n",
       "    <tr>\n",
       "      <th>14</th>\n",
       "      <td>maupassant</td>\n",
       "      <td>des assiettes.  En apportant le cafÃ©, elle ne...</td>\n",
       "      <td>21027</td>\n",
       "    </tr>\n",
       "    <tr>\n",
       "      <th>15</th>\n",
       "      <td>maupassant</td>\n",
       "      <td>en deux coups, sauver le bras de Javel cadet. ...</td>\n",
       "      <td>21028</td>\n",
       "    </tr>\n",
       "    <tr>\n",
       "      <th>16</th>\n",
       "      <td>maupassant</td>\n",
       "      <td>femmes et les filles de ses fermiers; ce qui n...</td>\n",
       "      <td>21028</td>\n",
       "    </tr>\n",
       "    <tr>\n",
       "      <th>17</th>\n",
       "      <td>maupassant</td>\n",
       "      <td>baron se ruinait pour elle. C'Ã©taient sans ce...</td>\n",
       "      <td>21028</td>\n",
       "    </tr>\n",
       "    <tr>\n",
       "      <th>18</th>\n",
       "      <td>maupassant</td>\n",
       "      <td>comprenez.Â»  Je ne dis rien.  Et je couchai d...</td>\n",
       "      <td>21024</td>\n",
       "    </tr>\n",
       "    <tr>\n",
       "      <th>19</th>\n",
       "      <td>maupassant</td>\n",
       "      <td>pas. Le paysan devenait fou. Il se leva pour a...</td>\n",
       "      <td>21025</td>\n",
       "    </tr>\n",
       "    <tr>\n",
       "      <th>20</th>\n",
       "      <td>maupassant</td>\n",
       "      <td>Le Horla    1887     LE HORLA     _8 mai._--...</td>\n",
       "      <td>25133</td>\n",
       "    </tr>\n",
       "    <tr>\n",
       "      <th>21</th>\n",
       "      <td>maupassant</td>\n",
       "      <td>encore, puis murmura:  --Je ne sais pas.  Je d...</td>\n",
       "      <td>25136</td>\n",
       "    </tr>\n",
       "    <tr>\n",
       "      <th>22</th>\n",
       "      <td>maupassant</td>\n",
       "      <td>et revenant Ã  pas tranquilles vers la porte, ...</td>\n",
       "      <td>25138</td>\n",
       "    </tr>\n",
       "    <tr>\n",
       "      <th>23</th>\n",
       "      <td>maupassant</td>\n",
       "      <td>homme. T'as du sang de poulet dans les veines....</td>\n",
       "      <td>25134</td>\n",
       "    </tr>\n",
       "    <tr>\n",
       "      <th>24</th>\n",
       "      <td>maupassant</td>\n",
       "      <td>nuage de fumÃ©e.  ... Nous Ã©tions Ã  table qu...</td>\n",
       "      <td>25131</td>\n",
       "    </tr>\n",
       "    <tr>\n",
       "      <th>25</th>\n",
       "      <td>maupassant</td>\n",
       "      <td>demain... Ã  la mÃªme heure... et j'ai... j'ai...</td>\n",
       "      <td>25138</td>\n",
       "    </tr>\n",
       "    <tr>\n",
       "      <th>26</th>\n",
       "      <td>maupassant</td>\n",
       "      <td>tendis ma carte.  Il la reÃ§ut et lut Ã  mi-vo...</td>\n",
       "      <td>25134</td>\n",
       "    </tr>\n",
       "    <tr>\n",
       "      <th>27</th>\n",
       "      <td>maupassant</td>\n",
       "      <td>celui avec qui on passe les longues soirÃ©es t...</td>\n",
       "      <td>25137</td>\n",
       "    </tr>\n",
       "    <tr>\n",
       "      <th>28</th>\n",
       "      <td>maupassant</td>\n",
       "      <td>il posa la main sur la croupe et ralentit le p...</td>\n",
       "      <td>25138</td>\n",
       "    </tr>\n",
       "    <tr>\n",
       "      <th>29</th>\n",
       "      <td>maupassant</td>\n",
       "      <td>c'Ã©tait Ulrich, bien que ses cheveux fussent ...</td>\n",
       "      <td>25133</td>\n",
       "    </tr>\n",
       "    <tr>\n",
       "      <th>...</th>\n",
       "      <td>...</td>\n",
       "      <td>...</td>\n",
       "      <td>...</td>\n",
       "    </tr>\n",
       "    <tr>\n",
       "      <th>50</th>\n",
       "      <td>verne</td>\n",
       "      <td>L'ÃLE MYSTÃRIEUSE  (1875)      Table des m...</td>\n",
       "      <td>124584</td>\n",
       "    </tr>\n",
       "    <tr>\n",
       "      <th>51</th>\n",
       "      <td>verne</td>\n",
       "      <td>assez irrÃ©guliÃ¨re de monticules. ÃÃ  et lÃ ...</td>\n",
       "      <td>124585</td>\n",
       "    </tr>\n",
       "    <tr>\n",
       "      <th>52</th>\n",
       "      <td>verne</td>\n",
       "      <td>d'attache Ã©tait fixÃ© au moyen d'une forte Ã©...</td>\n",
       "      <td>124585</td>\n",
       "    </tr>\n",
       "    <tr>\n",
       "      <th>53</th>\n",
       "      <td>verne</td>\n",
       "      <td>House que leur graisse et leur peau, cette pea...</td>\n",
       "      <td>124583</td>\n",
       "    </tr>\n",
       "    <tr>\n",
       "      <th>54</th>\n",
       "      <td>verne</td>\n",
       "      <td>mÃªme Ã  leur maximum d'Ã©lÃ©vation, ne devaie...</td>\n",
       "      <td>124585</td>\n",
       "    </tr>\n",
       "    <tr>\n",
       "      <th>55</th>\n",
       "      <td>verne</td>\n",
       "      <td>tabac!  -- Ah! Ce brave Pencroff! Va-t-il Ãªtr...</td>\n",
       "      <td>124586</td>\n",
       "    </tr>\n",
       "    <tr>\n",
       "      <th>56</th>\n",
       "      <td>verne</td>\n",
       "      <td>L'inconnu regarda l'ingÃ©nieur et sembla Ãªtre...</td>\n",
       "      <td>124586</td>\n",
       "    </tr>\n",
       "    <tr>\n",
       "      <th>57</th>\n",
       "      <td>verne</td>\n",
       "      <td>Le vent Ã©tait tombÃ© complÃ¨tement avec le cr...</td>\n",
       "      <td>124586</td>\n",
       "    </tr>\n",
       "    <tr>\n",
       "      <th>58</th>\n",
       "      <td>verne</td>\n",
       "      <td>Une fois Ã  ce point, en remontant la rive dro...</td>\n",
       "      <td>124583</td>\n",
       "    </tr>\n",
       "    <tr>\n",
       "      <th>59</th>\n",
       "      <td>verne</td>\n",
       "      <td>cime de la montagne, et l'on put mÃªme reconna...</td>\n",
       "      <td>124586</td>\n",
       "    </tr>\n",
       "    <tr>\n",
       "      <th>60</th>\n",
       "      <td>verne</td>\n",
       "      <td>LE TOUR DU MONDE EN QUATRE-VINGTS JOURS  (18...</td>\n",
       "      <td>43292</td>\n",
       "    </tr>\n",
       "    <tr>\n",
       "      <th>61</th>\n",
       "      <td>verne</td>\n",
       "      <td>facultÃ©s mentales de son auteur.  Des article...</td>\n",
       "      <td>43295</td>\n",
       "    </tr>\n",
       "    <tr>\n",
       "      <th>62</th>\n",
       "      <td>verne</td>\n",
       "      <td>observation faite, Mr. Fogg continua tranquill...</td>\n",
       "      <td>43299</td>\n",
       "    </tr>\n",
       "    <tr>\n",
       "      <th>63</th>\n",
       "      <td>verne</td>\n",
       "      <td>Ã  la lueur des torches, et une vague lumiÃ¨re...</td>\n",
       "      <td>43297</td>\n",
       "    </tr>\n",
       "    <tr>\n",
       "      <th>64</th>\n",
       "      <td>verne</td>\n",
       "      <td>marques de la plus extrÃªme surprise. Passepar...</td>\n",
       "      <td>43299</td>\n",
       "    </tr>\n",
       "    <tr>\n",
       "      <th>65</th>\n",
       "      <td>verne</td>\n",
       "      <td>Que l'on juge donc du coup d'assommoir qu'il r...</td>\n",
       "      <td>43298</td>\n",
       "    </tr>\n",
       "    <tr>\n",
       "      <th>66</th>\n",
       "      <td>verne</td>\n",
       "      <td>vaste case, que couronnaient plusieurs faiscea...</td>\n",
       "      <td>43300</td>\n",
       "    </tr>\n",
       "    <tr>\n",
       "      <th>67</th>\n",
       "      <td>verne</td>\n",
       "      <td>Phileas Fogg, la jeune femme, Fix et Passepart...</td>\n",
       "      <td>43300</td>\n",
       "    </tr>\n",
       "    <tr>\n",
       "      <th>68</th>\n",
       "      <td>verne</td>\n",
       "      <td>accompagnÃ¨rent, mais elles ne venaient point ...</td>\n",
       "      <td>43299</td>\n",
       "    </tr>\n",
       "    <tr>\n",
       "      <th>69</th>\n",
       "      <td>verne</td>\n",
       "      <td>livres pouvait bien finir par voler un bÃ¢time...</td>\n",
       "      <td>43296</td>\n",
       "    </tr>\n",
       "    <tr>\n",
       "      <th>70</th>\n",
       "      <td>verne</td>\n",
       "      <td>VOYAGE  AU  CENTRE DE  LA TERRE     I   Le 2...</td>\n",
       "      <td>42951</td>\n",
       "    </tr>\n",
       "    <tr>\n",
       "      <th>71</th>\n",
       "      <td>verne</td>\n",
       "      <td>Cependant jamais demande ne fut formulÃ©e d'un...</td>\n",
       "      <td>42949</td>\n",
       "    </tr>\n",
       "    <tr>\n",
       "      <th>72</th>\n",
       "      <td>verne</td>\n",
       "      <td>sur la cÃ´te mÃ©ridionale de l'Islande.  La tr...</td>\n",
       "      <td>42948</td>\n",
       "    </tr>\n",
       "    <tr>\n",
       "      <th>73</th>\n",
       "      <td>verne</td>\n",
       "      <td>guirlande d'anges insuffisamment dÃ©barbouillÃ...</td>\n",
       "      <td>42950</td>\n",
       "    </tr>\n",
       "    <tr>\n",
       "      <th>74</th>\n",
       "      <td>verne</td>\n",
       "      <td>sur son dos le paquet des instruments; Hans pr...</td>\n",
       "      <td>42943</td>\n",
       "    </tr>\n",
       "    <tr>\n",
       "      <th>75</th>\n",
       "      <td>verne</td>\n",
       "      <td>surprendre les murmures de quelque source.  Ma...</td>\n",
       "      <td>42949</td>\n",
       "    </tr>\n",
       "    <tr>\n",
       "      <th>76</th>\n",
       "      <td>verne</td>\n",
       "      <td>rÃ©flÃ©chi.  Un certain espoir, vague encore, ...</td>\n",
       "      <td>42949</td>\n",
       "    </tr>\n",
       "    <tr>\n",
       "      <th>77</th>\n",
       "      <td>verne</td>\n",
       "      <td>m'appuie au tronc des conifÃ¨res immenses; je ...</td>\n",
       "      <td>42951</td>\n",
       "    </tr>\n",
       "    <tr>\n",
       "      <th>78</th>\n",
       "      <td>verne</td>\n",
       "      <td>professeur Lidenbrock, la stupÃ©faction, l'inc...</td>\n",
       "      <td>42942</td>\n",
       "    </tr>\n",
       "    <tr>\n",
       "      <th>79</th>\n",
       "      <td>verne</td>\n",
       "      <td>tremblement de terre dans ce sol coupÃ© de fis...</td>\n",
       "      <td>42947</td>\n",
       "    </tr>\n",
       "  </tbody>\n",
       "</table>\n",
       "<p>80 rows × 3 columns</p>\n",
       "</div>"
      ],
      "text/plain": [
       "        author                                              texts  Length\n",
       "0   maupassant    BOULE DE SUIF   L'ÃPAVE--DÃCOUVERTE--UN PA...   22526\n",
       "1   maupassant  annonÃ§a que dÃ©cidÃ©ment il se sentait un rud...   22524\n",
       "2   maupassant  qu'est-ce que Ã§a vous fait?  Elle avait l'air...   22528\n",
       "3   maupassant  potage, M. Follenvie reparut, rÃ©pÃ©tant sa ph...   22526\n",
       "4   maupassant  Â«Il me raconta le sinistre, trÃ¨s simple d'ai...   22530\n",
       "5   maupassant  dents jaunes et dÃ©mesurÃ©es.  On sentait, en ...   22523\n",
       "6   maupassant  opÃ©ration, lui aurait paru prÃ©fÃ©rable. Elle...   22530\n",
       "7   maupassant  glissait sur les lÃ¨vres. Depuis trente ans il...   22521\n",
       "8   maupassant  autrefois. Nous ne nous quittions jamais; et l...   22529\n",
       "9   maupassant  me piquaient Ã  prÃ©sent comme des coups d'aig...   22531\n",
       "10  maupassant    CONTES DE LA BÃCASSE   SEIZIÃME ÃDITION  ...   21023\n",
       "11  maupassant  qu'elle fut seule avec moi, je la saisis de no...   21028\n",
       "12  maupassant  portant ainsi au bout du bras le chien suspend...   21027\n",
       "13  maupassant  d'assister au spectacle de cette terreur super...   21028\n",
       "14  maupassant  des assiettes.  En apportant le cafÃ©, elle ne...   21027\n",
       "15  maupassant  en deux coups, sauver le bras de Javel cadet. ...   21028\n",
       "16  maupassant  femmes et les filles de ses fermiers; ce qui n...   21028\n",
       "17  maupassant  baron se ruinait pour elle. C'Ã©taient sans ce...   21028\n",
       "18  maupassant  comprenez.Â»  Je ne dis rien.  Et je couchai d...   21024\n",
       "19  maupassant  pas. Le paysan devenait fou. Il se leva pour a...   21025\n",
       "20  maupassant    Le Horla    1887     LE HORLA     _8 mai._--...   25133\n",
       "21  maupassant  encore, puis murmura:  --Je ne sais pas.  Je d...   25136\n",
       "22  maupassant  et revenant Ã  pas tranquilles vers la porte, ...   25138\n",
       "23  maupassant  homme. T'as du sang de poulet dans les veines....   25134\n",
       "24  maupassant  nuage de fumÃ©e.  ... Nous Ã©tions Ã  table qu...   25131\n",
       "25  maupassant  demain... Ã  la mÃªme heure... et j'ai... j'ai...   25138\n",
       "26  maupassant  tendis ma carte.  Il la reÃ§ut et lut Ã  mi-vo...   25134\n",
       "27  maupassant  celui avec qui on passe les longues soirÃ©es t...   25137\n",
       "28  maupassant  il posa la main sur la croupe et ralentit le p...   25138\n",
       "29  maupassant  c'Ã©tait Ulrich, bien que ses cheveux fussent ...   25133\n",
       "..         ...                                                ...     ...\n",
       "50       verne    L'ÃLE MYSTÃRIEUSE  (1875)      Table des m...  124584\n",
       "51       verne  assez irrÃ©guliÃ¨re de monticules. ÃÃ  et lÃ ...  124585\n",
       "52       verne  d'attache Ã©tait fixÃ© au moyen d'une forte Ã©...  124585\n",
       "53       verne  House que leur graisse et leur peau, cette pea...  124583\n",
       "54       verne  mÃªme Ã  leur maximum d'Ã©lÃ©vation, ne devaie...  124585\n",
       "55       verne  tabac!  -- Ah! Ce brave Pencroff! Va-t-il Ãªtr...  124586\n",
       "56       verne  L'inconnu regarda l'ingÃ©nieur et sembla Ãªtre...  124586\n",
       "57       verne  Le vent Ã©tait tombÃ© complÃ¨tement avec le cr...  124586\n",
       "58       verne  Une fois Ã  ce point, en remontant la rive dro...  124583\n",
       "59       verne  cime de la montagne, et l'on put mÃªme reconna...  124586\n",
       "60       verne    LE TOUR DU MONDE EN QUATRE-VINGTS JOURS  (18...   43292\n",
       "61       verne  facultÃ©s mentales de son auteur.  Des article...   43295\n",
       "62       verne  observation faite, Mr. Fogg continua tranquill...   43299\n",
       "63       verne  Ã  la lueur des torches, et une vague lumiÃ¨re...   43297\n",
       "64       verne  marques de la plus extrÃªme surprise. Passepar...   43299\n",
       "65       verne  Que l'on juge donc du coup d'assommoir qu'il r...   43298\n",
       "66       verne  vaste case, que couronnaient plusieurs faiscea...   43300\n",
       "67       verne  Phileas Fogg, la jeune femme, Fix et Passepart...   43300\n",
       "68       verne  accompagnÃ¨rent, mais elles ne venaient point ...   43299\n",
       "69       verne  livres pouvait bien finir par voler un bÃ¢time...   43296\n",
       "70       verne    VOYAGE  AU  CENTRE DE  LA TERRE     I   Le 2...   42951\n",
       "71       verne  Cependant jamais demande ne fut formulÃ©e d'un...   42949\n",
       "72       verne  sur la cÃ´te mÃ©ridionale de l'Islande.  La tr...   42948\n",
       "73       verne  guirlande d'anges insuffisamment dÃ©barbouillÃ...   42950\n",
       "74       verne  sur son dos le paquet des instruments; Hans pr...   42943\n",
       "75       verne  surprendre les murmures de quelque source.  Ma...   42949\n",
       "76       verne  rÃ©flÃ©chi.  Un certain espoir, vague encore, ...   42949\n",
       "77       verne  m'appuie au tronc des conifÃ¨res immenses; je ...   42951\n",
       "78       verne  professeur Lidenbrock, la stupÃ©faction, l'inc...   42942\n",
       "79       verne  tremblement de terre dans ce sol coupÃ© de fis...   42947\n",
       "\n",
       "[80 rows x 3 columns]"
      ]
     },
     "execution_count": 6,
     "metadata": {},
     "output_type": "execute_result"
    }
   ],
   "source": [
    "import pandas as pd\n",
    "info = pd.DataFrame({'author': authors_labels, 'texts': texts_classified})\n",
    "info['Length']  = info['texts'].str.len()\n",
    "info"
   ]
  },
  {
   "cell_type": "code",
   "execution_count": 7,
   "metadata": {},
   "outputs": [
    {
     "name": "stdout",
     "output_type": "stream",
     "text": [
      "Average of characters written by chunk\n",
      " \n",
      "               Length\n",
      "author               \n",
      "maupassant  28427.825\n",
      "verne       62050.875\n",
      " \n",
      "Number or characters by author --> \n",
      " \n",
      "             Length\n",
      "author             \n",
      "maupassant  1137113\n",
      "verne       2482035\n"
     ]
    }
   ],
   "source": [
    "print(\"Average of characters written by chunk\")\n",
    "print(\" \")\n",
    "print(info.groupby('author').mean())\n",
    "print(\" \")\n",
    "print(\"Number or characters by author --> \")\n",
    "print(\" \")\n",
    "print( info.groupby('author').sum())"
   ]
  },
  {
   "cell_type": "markdown",
   "metadata": {},
   "source": [
    "We can see that the average lenght of each chunk depends on the author. This might be a problem that would cause overfitting and balancing problems but it is the data we have. It also makes sense that the lenght of the chunks written by Verne have more or less two times more words since it is consequent with the number of characters we have."
   ]
  },
  {
   "cell_type": "markdown",
   "metadata": {},
   "source": [
    "# Data Preprocessing.\n",
    "Once we have all the files processed the data is ready to be studied and preprocessed for a good Machine Learning and Statistical Modelling part which is what I will be doing on this next section. We will begin by turning the names of the authors to a boolean variable 0 - 1."
   ]
  },
  {
   "cell_type": "code",
   "execution_count": 8,
   "metadata": {},
   "outputs": [
    {
     "name": "stdout",
     "output_type": "stream",
     "text": [
      "Authors encoded -->  [0 0 0 0 0 0 0 0 0 0 0 0 0 0 0 0 0 0 0 0 0 0 0 0 0 0 0 0 0 0 0 0 0 0 0 0 0\n",
      " 0 0 0 1 1 1 1 1 1 1 1 1 1 1 1 1 1 1 1 1 1 1 1 1 1 1 1 1 1 1 1 1 1 1 1 1 1\n",
      " 1 1 1 1 1 1]\n",
      "Number of chunks by author\n",
      "{0: 40, 1: 40}\n"
     ]
    },
    {
     "data": {
      "text/plain": [
       "array(['maupassant', 'verne'], dtype='<U10')"
      ]
     },
     "execution_count": 8,
     "metadata": {},
     "output_type": "execute_result"
    }
   ],
   "source": [
    "label_encoder = preprocessing.LabelEncoder()\n",
    "label_encoder.fit(authors_labels)\n",
    "authors_encoded = label_encoder.transform(authors_labels)\n",
    "print(\"Authors encoded --> \", authors_encoded)\n",
    "print(\"Number of chunks by author\")\n",
    "unique, counts = np.unique(authors_encoded, return_counts=True)\n",
    "print(dict(zip(unique, counts)))\n",
    "label_encoder.classes_"
   ]
  },
  {
   "cell_type": "markdown",
   "metadata": {},
   "source": [
    "## Test - Set Splitting\n",
    "\n",
    "I will continue by splitting the dataset. The most common distribution of the sets is a 70 - 30 splitting. Latter on we could try to change this proportion if necessary. For the random_state parameter If int, random_state is the seed used by the random number generator; If RandomState instance, random_state is the random number generator; If None, the random number generator is the RandomState instance used by np.random."
   ]
  },
  {
   "cell_type": "code",
   "execution_count": 9,
   "metadata": {},
   "outputs": [],
   "source": [
    "chunks_train, chunks_test, authors_train, authors_test = train_test_split(\n",
    "    texts_classified, authors_encoded, test_size=0.3, random_state=1)"
   ]
  },
  {
   "cell_type": "code",
   "execution_count": 10,
   "metadata": {},
   "outputs": [
    {
     "data": {
      "text/plain": [
       "(56, list, 'pas. Le paysan devenait fou. Il se leva ')"
      ]
     },
     "execution_count": 10,
     "metadata": {},
     "output_type": "execute_result"
    }
   ],
   "source": [
    "len(chunks_train), type(chunks_train), chunks_train[0][0:40]"
   ]
  },
  {
   "cell_type": "markdown",
   "metadata": {},
   "source": [
    "## Text to Integer Data.\n",
    "As we know, the ML algorithms are used to work using integer data. We have some nice tools for this step.\n",
    "We will begin by defining the parameters of our tfidf vectorizer model. use_idf : boolean, default=True\n",
    "Enable inverse-document-frequency reweighting.\n",
    "\n",
    "smooth_idf : boolean, default=True\n",
    "Smooth idf weights by adding one to document frequencies, as if an extra document was seen containing every term in the collection exactly once. Prevents zero divisions.\n",
    "\n",
    "sublinear_tf : boolean, default=False\n",
    "Apply sublinear tf scaling, i.e. replace tf with 1 + log(tf).\n",
    "\n",
    "\n",
    "Definition of the tfidf vectorizer. Arguments provided here are may be key for the final outcome.\n",
    "In particular we have modified the token pattern so that symbols are kept on the matrix (they may be relevant for the writing style of the author)."
   ]
  },
  {
   "cell_type": "code",
   "execution_count": 11,
   "metadata": {},
   "outputs": [],
   "source": [
    "# \n",
    "args = {\n",
    "    \"encoding\": \"latin-1\", \n",
    "    \"stop_words\": None, # They may reflect the style of the author\n",
    "    \"token_pattern\": r\"(?u)\\b\\w\\w+\\b|\\r|\\n|\\'|\\\"|\\¿|\\?|¡|!|\\(|\\)|\\[|\\]|<|>|,|;|:|\\-+|\\.\", # Keep punctuation symbols\n",
    "    \"lowercase\": True, \n",
    "    \"norm\": \"l2\", \n",
    "    \"use_idf\": True, \n",
    "    \"smooth_idf\": True,\n",
    "    \"sublinear_tf\": True\n",
    "}"
   ]
  },
  {
   "cell_type": "code",
   "execution_count": 12,
   "metadata": {},
   "outputs": [],
   "source": [
    "# Text vectorization (take words from train set, then convert test and anonymous data)\n",
    "vectorizer = TfidfVectorizer(**args)\n",
    "features_train = vectorizer.fit_transform(chunks_train)\n",
    "features_test = vectorizer.transform(chunks_test)\n",
    "features_unknown = vectorizer.transform(texts_unknown)"
   ]
  },
  {
   "cell_type": "code",
   "execution_count": 13,
   "metadata": {},
   "outputs": [
    {
     "data": {
      "text/plain": [
       "(<56x21693 sparse matrix of type '<class 'numpy.float64'>'\n",
       " \twith 105709 stored elements in Compressed Sparse Row format>,\n",
       " <24x21693 sparse matrix of type '<class 'numpy.float64'>'\n",
       " \twith 45384 stored elements in Compressed Sparse Row format>,\n",
       " <10x21693 sparse matrix of type '<class 'numpy.float64'>'\n",
       " \twith 35675 stored elements in Compressed Sparse Row format>)"
      ]
     },
     "execution_count": 13,
     "metadata": {},
     "output_type": "execute_result"
    }
   ],
   "source": [
    "features_train, features_test, features_unknown"
   ]
  },
  {
   "cell_type": "markdown",
   "metadata": {},
   "source": [
    "### FEATURES TRAIN SAMPLES"
   ]
  },
  {
   "cell_type": "code",
   "execution_count": 14,
   "metadata": {},
   "outputs": [
    {
     "name": "stdout",
     "output_type": "stream",
     "text": [
      "Random element of matrix Random element of matrix 0.05333923925193049\n",
      "Random element of matrix 0.0\n",
      "[[0.03830714 0.05333924 0.         ... 0.02215198 0.         0.        ]\n",
      " [0.03044604 0.04013846 0.02318944 ... 0.01618951 0.         0.        ]\n",
      " [0.03511526 0.04265717 0.         ... 0.02056718 0.         0.        ]\n",
      " ...\n",
      " [0.02881812 0.04082189 0.         ... 0.02090617 0.         0.        ]\n",
      " [0.03258146 0.05496299 0.01446825 ... 0.02252954 0.         0.        ]\n",
      " [0.02433734 0.04168538 0.00979558 ... 0.0198623  0.02026281 0.        ]]\n"
     ]
    },
    {
     "data": {
      "text/plain": [
       "(56, 21693)"
      ]
     },
     "execution_count": 14,
     "metadata": {},
     "output_type": "execute_result"
    }
   ],
   "source": [
    "print(\"Random element of matrix\", \"Random element of matrix\", features_train[0,1])\n",
    "print(\"Random element of matrix\", features_train[0,21691])\n",
    "print(features_train.todense())\n",
    "features_train.shape"
   ]
  },
  {
   "cell_type": "markdown",
   "metadata": {},
   "source": [
    "### FEATURES TEST SAMPLES"
   ]
  },
  {
   "cell_type": "code",
   "execution_count": 15,
   "metadata": {
    "scrolled": true
   },
   "outputs": [
    {
     "name": "stdout",
     "output_type": "stream",
     "text": [
      "Random element of matrix 0.043543614595100255\n",
      "Random element of matrix 0.012697247225141354\n",
      "[[0.03265898 0.04354361 0.0248004  ... 0.01982884 0.01269725 0.        ]\n",
      " [0.04448387 0.05683504 0.         ... 0.02047475 0.0175663  0.        ]\n",
      " [0.02563331 0.04421765 0.         ... 0.02422752 0.02158729 0.        ]\n",
      " ...\n",
      " [0.03321127 0.05780643 0.01474792 ... 0.01846939 0.         0.        ]\n",
      " [0.03010997 0.0423878  0.01017807 ... 0.02210261 0.         0.        ]\n",
      " [0.02657677 0.03326914 0.01150884 ... 0.02052649 0.00830447 0.        ]]\n"
     ]
    },
    {
     "data": {
      "text/plain": [
       "(24, 21693)"
      ]
     },
     "execution_count": 15,
     "metadata": {},
     "output_type": "execute_result"
    }
   ],
   "source": [
    "print(\"Random element of matrix\", features_test[0,1])\n",
    "print(\"Random element of matrix\", features_test[0,21691])\n",
    "print(features_test.todense())\n",
    "features_test.shape"
   ]
  },
  {
   "cell_type": "markdown",
   "metadata": {},
   "source": [
    "As we have seen, we have created matrices with words as columns with their weights as values. The goal of using tf-idf instead of the raw frequencies of occurrence of a token in a given document is to scale down the impact of tokens that occur very frequently in a given corpus and that are hence empirically less informative than features that occur in a small fraction of the training corpus.\n",
    "https://scikit-learn.org/stable/modules/feature_extraction.html#text-feature-extraction\n",
    "\n",
    "Since we will be playing just with the words used on the training set and despite the fact that the set of words is rather big the classes need to be balanced in order not to omit words on the test that might not be on the train set. Let see how balanced are the clases of the train set."
   ]
  },
  {
   "cell_type": "code",
   "execution_count": 16,
   "metadata": {},
   "outputs": [
    {
     "name": "stdout",
     "output_type": "stream",
     "text": [
      "Number of chunks by author\n",
      "{0: 29, 1: 27}\n"
     ]
    }
   ],
   "source": [
    "authors_train\n",
    "print(\"Number of chunks by author\")\n",
    "unique, counts = np.unique(authors_train, return_counts=True)\n",
    "print(dict(zip(unique, counts)))"
   ]
  },
  {
   "cell_type": "markdown",
   "metadata": {},
   "source": [
    "Eventhough the classes may look well balanced we have previously seen that the number of characters we have for Jules Verne is two times the number we have for Maupassant."
   ]
  },
  {
   "cell_type": "markdown",
   "metadata": {},
   "source": [
    "### FEATURE SELECTION.\n",
    "In order to make some dimensionality reduction, improve the performance of the model and reduce the variance we are going to perform a little feature selection since our matrix is too big as we have seen. With sklearn.feature_selection.SelectPercentile we select features according to a percentile of the highest scores. With the threshold parameter we can control what happens when we select the most influent ones. "
   ]
  },
  {
   "cell_type": "code",
   "execution_count": 17,
   "metadata": {},
   "outputs": [
    {
     "name": "stdout",
     "output_type": "stream",
     "text": [
      "Lenght of the features BEFORE selection -->  (56, 21693)\n",
      " \n",
      "[[0.03830714 0.05333924 0.         ... 0.02215198 0.         0.        ]\n",
      " [0.03044604 0.04013846 0.02318944 ... 0.01618951 0.         0.        ]\n",
      " [0.03511526 0.04265717 0.         ... 0.02056718 0.         0.        ]\n",
      " ...\n",
      " [0.02881812 0.04082189 0.         ... 0.02090617 0.         0.        ]\n",
      " [0.03258146 0.05496299 0.01446825 ... 0.02252954 0.         0.        ]\n",
      " [0.02433734 0.04168538 0.00979558 ... 0.0198623  0.02026281 0.        ]]\n"
     ]
    }
   ],
   "source": [
    "threshold = 3\n",
    "selector = SelectPercentile(f_classif, percentile = threshold)\n",
    "selector.fit(features_train, authors_train)\n",
    "print(\"Lenght of the features BEFORE selection --> \", features_train.shape)\n",
    "print(\" \")\n",
    "print(features_train.todense())\n",
    "features_train = selector.transform(features_train).toarray()\n",
    "features_test = selector.transform(features_test).toarray()\n",
    "features_unknown = selector.transform(features_unknown).toarray()"
   ]
  },
  {
   "cell_type": "code",
   "execution_count": 18,
   "metadata": {},
   "outputs": [
    {
     "name": "stdout",
     "output_type": "stream",
     "text": [
      "Lenght of the features AFTER selection -->  (56, 651)\n",
      " \n",
      "[[0.05333924 0.0575891  0.03581479 ... 0.01597212 0.025451   0.        ]\n",
      " [0.04013846 0.04378896 0.03365771 ... 0.01352353 0.00590167 0.        ]\n",
      " [0.04265717 0.04312512 0.03498056 ... 0.01138837 0.01969507 0.        ]\n",
      " ...\n",
      " [0.04082189 0.04355165 0.03069472 ... 0.01700475 0.01666168 0.        ]\n",
      " [0.05496299 0.05938145 0.03676384 ... 0.00959417 0.0229283  0.        ]\n",
      " [0.04168538 0.04418123 0.03051048 ... 0.01913556 0.01660799 0.        ]]\n"
     ]
    }
   ],
   "source": [
    "print(\"Lenght of the features AFTER selection --> \", features_train.shape)\n",
    "print(\" \")\n",
    "print(features_train)"
   ]
  },
  {
   "cell_type": "markdown",
   "metadata": {},
   "source": [
    "As we can see, we have reduced quite a lot the dimension of our matrix. This method seems to take into account the intracolumn variance and if it is a word that appears quite the same number of times by document it is discarded."
   ]
  },
  {
   "cell_type": "markdown",
   "metadata": {},
   "source": [
    "### Chosen Words.\n",
    "Does it exist a way to check which words we have chosen and which ones we have selected as most influent? The answer is YES.\n",
    "And we can retrieve them in alphabetical order."
   ]
  },
  {
   "cell_type": "code",
   "execution_count": 19,
   "metadata": {},
   "outputs": [],
   "source": [
    "# Get idxs of columns kept\n",
    "index_word = selector.get_support(indices=True)\n",
    "#print(\"Index of words chosen\", index_word)\n",
    "words = vectorizer.get_feature_names()\n",
    "#print(\"All words used\", words)\n"
   ]
  },
  {
   "cell_type": "code",
   "execution_count": 20,
   "metadata": {},
   "outputs": [
    {
     "name": "stdout",
     "output_type": "stream",
     "text": [
      "Number of words taken after selection ( 3 % most relevant only): 651\n",
      "\n",
      "Features:\n",
      " [\"'\", ',', '-', '--', '.', '11', '21', ':', ';', '[', ']', 'abondamment', 'absolu', 'absolument', 'accord', 'accosta', 'accã', 'action', 'actuellement', 'administration', 'agi', 'agir', 'agissait', 'agit', 'agrã', 'ailleurs', 'aimã', 'ainsi', 'aisã', 'alla', 'alors', 'amour', 'amã', 'angle', 'angoisse', 'animaux', 'ans', 'appareil', 'appartenait', 'arc', 'argent', 'aride', 'arriver', 'arrivã', 'aspect', 'assez', 'assit', 'atmosphã', 'atteindre', 'attraction', 'au', 'aucune', 'aucunement', 'audacieux', 'auquel', 'auraient', 'aurions', 'aurons', 'autre', 'aux', 'avait', 'avec', 'avons', 'avouer', 'axel', 'ayons', 'baie', 'ballon', 'bas', 'base', 'bien', 'blancs', 'bleu', 'bonne', 'bouche', 'bout', 'bras', 'brusquement', 'but', 'bã', 'bãªte', 'cabine', 'calculã', 'canot', 'cap', 'capitale', 'cas', 'ce', 'ceci', 'celle', 'celles', 'cent', 'centaine', 'central', 'centrale', 'centre', 'cents', 'cependant', 'certain', 'certaine', 'certains', 'cessaire', 'cessairement', 'cesse', 'cessitã', 'chaise', 'chambre', 'chances', 'chapitre', 'chapper', 'chappã', 'cheveux', 'chez', 'choc', 'chronomã', 'chute', 'chã', 'ci', 'cieux', 'cinquante', 'cisã', 'clara', 'clat', 'cles', 'coeur', 'comme', 'commencer', 'communication', 'compagnons', 'composã', 'comprise', 'compte', 'comptã', 'condition', 'conditions', 'constater', 'construction', 'consã', 'continent', 'contraire', 'convenablement', 'convenir', 'conversation', 'corce', 'couches', 'coup', 'craindre', 'creusã', 'cria', 'croire', 'curieux', 'curã', 'dans', 'de', 'debout', 'dedans', 'degrã', 'delã', 'demi', 'derriã', 'des', 'destinã', 'deux', 'devaient', 'devait', 'devant', 'dieu', 'difficile', 'digne', 'directement', 'direction', 'diriger', 'dirigã', 'disposition', 'disposã', 'disque', 'distance', 'dition', 'divers', 'diverses', 'doux', 'du', 'duquel', 'durent', 'dã', 'eaux', 'effarã', 'effet', 'eh', 'elle', 'ellement', 'embarcation', 'embarquã', 'employer', 'emprisonnã', 'en', 'endroit', 'enfants', 'engins', 'entendre', 'entiã', 'entra', 'entraã', 'entrer', 'environ', 'es', 'espoir', 'espã', 'estimer', 'et', 'europe', 'eussent', 'exacte', 'exactement', 'exaspã', 'existait', 'explication', 'exploration', 'explosion', 'expã', 'extrã', 'extrãªme', 'extrãªmement', 'eã', 'face', 'facile', 'faction', 'faire', 'faisait', 'faite', 'fallait', 'favorable', 'femme', 'femmes', 'fenãªtre', 'fidã', 'fier', 'fille', 'filles', 'fils', 'flexion', 'folle', 'formait', 'forme', 'forment', 'formã', 'franchi', 'franchir', 'francs', 'frã', 'furent', 'furieux', 'fusion', 'gai', 'gale', 'gaz', 'gions', 'globe', 'gorge', 'grand', 'grandeur', 'gros', 'grotte', 'grã', 'habitã', 'hauteur', 'heureusement', 'histoires', 'homme', 'hommes', 'horrible', 'hors', 'humanitã', 'hypothã', 'il', 'ils', 'imagination', 'importante', 'importe', 'impossible', 'inattendu', 'incessamment', 'incident', 'incidents', 'indispensable', 'influence', 'infã', 'ingã', 'instant', 'instants', 'instrument', 'instruments', 'insuffisante', 'intensitã', 'intã', 'inutile', 'ix', 'je', 'jeunes', 'joues', 'jour', 'la', 'lac', 'laissait', 'lancã', 'laquelle', 'largement', 'largeur', 'latitude', 'le', 'lectricitã', 'lectrique', 'lectriques', 'lentement', 'lequel', 'les', 'lesquels', 'leva', 'lidenbrock', 'ligne', 'limites', 'lisiã', 'lit', 'livres', 'loignã', 'longtemps', 'lorsque', 'lui', 'lutter', 'lã', 'ma', 'madame', 'mains', 'maintenir', 'mais', 'maison', 'manquaient', 'manquait', 'manquer', 'manquã', 'mari', 'marin', 'mariã', 'mars', 'masse', 'masses', 'matiã', 'me', 'mener', 'mer', 'mers', 'merveilleuse', 'mesurait', 'mille', 'milles', 'milliers', 'minã', 'mirent', 'mit', 'mitã', 'mme', 'modifiã', 'moins', 'moment', 'montagnes', 'moyen', 'moyenne', 'murmura', 'murs', 'mã', 'mãªme', 'navigation', 'ne', 'nes', 'neuf', 'ni', 'nieur', 'niveau', 'nombre', 'nombreux', 'nord', 'norme', 'nouvelle', 'nt', 'nul', 'nulle', 'objet', 'objets', 'observait', 'observation', 'observations', 'observer', 'observã', 'occupa', 'ocã', 'odeur', 'oeil', 'offrait', 'oh', 'on', 'opã', 'orifice', 'ouest', 'outils', 'ouvrit', 'pacifique', 'pain', 'par', 'parallã', 'parents', 'paroi', 'parois', 'paroles', 'part', 'particuliã', 'partie', 'pas', 'passage', 'paysans', 'peau', 'perdre', 'permettait', 'personnage', 'petit', 'petite', 'petits', 'peur', 'pic', 'placement', 'pleurait', 'pleurer', 'plus', 'poids', 'points', 'poitrine', 'pondit', 'ponse', 'poque', 'porte', 'portion', 'portions', 'portã', 'poste', 'postã', 'pour', 'pourrait', 'pourrons', 'pouvaient', 'pouvait', 'pouvons', 'presqu', 'pression', 'prix', 'probable', 'procã', 'produire', 'produisait', 'produit', 'produite', 'professeur', 'profondeur', 'projet', 'prolonger', 'prononcã', 'proportion', 'puis', 'purent', 'put', 'pã', 'qu', 'quand', 'quant', 'quantitã', 'quartiers', 'que', 'quelques', 'quemment', 'quence', 'quent', 'question', 'qui', 'quitter', 'quittã', 'rablement', 'raison', 'ramener', 'ramenã', 'rapidement', 'rapiditã', 'rappela', 'rapprochã', 'ration', 'rature', 'raux', 'rayons', 're', 'regagner', 'regarder', 'regards', 'relativement', 'relevã', 'rement', 'remontã', 'rence', 'rendre', 'renfermait', 'renfermã', 'reporter', 'reprendre', 'rer', 'retard', 'retenir', 'retour', 'retrouver', 'ricain', 'ricains', 'ridionale', 'rien', 'rieur', 'rieure', 'rieures', 'rieusement', 'rique', 'riques', 'rire', 'ritable', 'ritablement', 'ritables', 'rivage', 'rivages', 'rive', 'roches', 'rocs', 'ros', 'rã', 'rãªt', 'sa', 'sans', 'satisfaction', 'saurait', 'savant', 'savants', 'science', 'se', 'seize', 'sence', 'sensiblement', 'sept', 'septentrionale', 'sera', 'serons', 'servã', 'ses', 'si', 'signal', 'silencieusement', 'sinon', 'situã', 'soin', 'soir', 'soit', 'soixante', 'solide', 'solidement', 'somme', 'son', 'sortit', 'soudain', 'soudre', 'sourit', 'sphã', 'substance', 'succã', 'sud', 'suffisait', 'suffisamment', 'sultat', 'suppose', 'supã', 'sur', 'surface', 'systã', 'table', 'tabli', 'tablir', 'tait', 'tale', 'tant', 'tat', 'tats', 'telle', 'tellement', 'tempã', 'tempãªtes', 'tenir', 'terminã', 'terrestre', 'terrestres', 'thã', 'tiers', 'toit', 'toujours', 'tous', 'tout', 'toutefois', 'trains', 'transporter', 'transportã', 'traversã', 'trente', 'trer', 'triste', 'trou', 'trouvaient', 'tã', 'un', 'une', 'union', 'unis', 'ustensiles', 'utile', 'vainement', 'valeur', 'vapeur', 'vapeurs', 'ventre', 'videmment', 'vident', 'vie', 'vieille', 'vieux', 'vif', 'vigoureusement', 'vii', 'viii', 'village', 'vingt', 'vingts', 'vite', 'vitesse', 'vives', 'voisin', 'voix', 'volatiles', 'volã', 'vous', 'voyage', 'vraisemblablement', 'vã', 'yeux', 'zã']\n"
     ]
    }
   ],
   "source": [
    "influent_words = [words[i] for i in index_word] \n",
    "print(\"Number of words taken after selection (\", threshold, \"% most relevant only):\", len(influent_words))\n",
    "print(\"\\nFeatures:\\n\", influent_words)"
   ]
  },
  {
   "cell_type": "markdown",
   "metadata": {},
   "source": [
    "Many models usually make use of a thing called stop_words. This is to delete the most common stop words from a language such as \"and\", \"up\" or \"under\" but I think that they might reflect the style of the author and also if they are not too informative they have been removed with selectPercentile feature."
   ]
  },
  {
   "cell_type": "markdown",
   "metadata": {},
   "source": [
    "# Modelling. \n",
    "Once we have done all the preprocessing part and studied a little bit the inputs of the model we can begin performing some modellization."
   ]
  },
  {
   "cell_type": "markdown",
   "metadata": {},
   "source": [
    "## Naive Bayes Classifiers\n",
    "Naive Bayes classifiers are a family of simple \"probabilistic classifiers\" based on applying Bayes' theorem with strong (naive) independence assumptions between the features **which is clearly our case** since written words do not have nothing to do among themselves. \n",
    "\n",
    "It has been studied extensively since the 1950s and remains a popular (baseline) method for text categorization, the problem of judging documents as belonging to one category or the other (such as spam or legitimate, sports or politics, etc.) with word frequencies as the features. With appropriate pre-processing, it is competitive in this domain with more advanced methods including support vector machines.It also finds application in automatic medical diagnosis.\n",
    "\n",
    "Naive Bayes classifiers are highly scalable, requiring a number of parameters linear in the number of variables (features/predictors) in a learning problem  and requires a small number of training data to estimate the parameters necessary for classification.\n",
    "\n",
    "If we go to the sklearn documentation we can check that there are 4 different Naive Bayes algorithms:\n",
    "\n",
    " 1. Gaussian NB: The likelihood of the features is assumed to be Gaussian.\n",
    " 2. Multinomial NB: implements the naive Bayes algorithm for multinomially distributed data, and is one of the two classic naive Bayes variants used in text classification.\n",
    " 3. Complement NB implements the complement naive Bayes (CNB) algorithm. CNB is an adaptation of the standard multinomial naive Bayes (MNB) algorithm that is particularly suited for imbalanced data sets.\n",
    " 4. BernoulliNB implements the naive Bayes training and classification algorithms for data that is distributed according to multivariate Bernoulli distributions; i.e., there may be multiple features but each one is assumed to be a binary-valued (Bernoulli, boolean) variable.\n",
    "\n"
   ]
  },
  {
   "cell_type": "code",
   "execution_count": 21,
   "metadata": {},
   "outputs": [
    {
     "name": "stdout",
     "output_type": "stream",
     "text": [
      "Train set accuracy: for model GaussianNB(priors=None, var_smoothing=1e-09) 1.0\n",
      "Test set accuracy: 0.6666666666666666\n",
      " \n",
      "Train set accuracy: for model MultinomialNB(alpha=1.0, class_prior=None, fit_prior=True) 0.8571428571428571\n",
      "Test set accuracy: 0.8333333333333334\n",
      " \n",
      "Train set accuracy: for model MultinomialNB(alpha=0.5, class_prior=None, fit_prior=True) 0.9285714285714286\n",
      "Test set accuracy: 0.8333333333333334\n",
      " \n",
      "Train set accuracy: for model MultinomialNB(alpha=0.1, class_prior=None, fit_prior=True) 1.0\n",
      "Test set accuracy: 1.0\n",
      " \n"
     ]
    }
   ],
   "source": [
    "#clf_list = [GaussianNB(), MultinomialNB() ,ComplementNB(), BernoulliNB()]\n",
    "#from sklearn.naive_bayes import ComplementNB\n",
    "from sklearn.naive_bayes import GaussianNB\n",
    "from sklearn.naive_bayes import MultinomialNB\n",
    "from sklearn.naive_bayes import BernoulliNB\n",
    "clf_list = [GaussianNB(), MultinomialNB(), MultinomialNB(0.5), MultinomialNB(0.1)]#, BernoulliNB()]\n",
    "\n",
    "for NB in clf_list:\n",
    "    # Train and predict steps\n",
    "    #print(NB)\n",
    "    NB.fit(features_train, authors_train)\n",
    "    authors_train_predicted = NB.predict(features_train)\n",
    "    authors_test_predicted = NB.predict(features_test)\n",
    "    acc_train = accuracy_score(authors_train, authors_train_predicted)\n",
    "    print(\"Train set accuracy: for model {}\".format(NB), acc_train)\n",
    "    acc_test = accuracy_score(authors_test, authors_test_predicted)\n",
    "    print(\"Test set accuracy:\", acc_test)\n",
    "    print(\" \")\n"
   ]
  },
  {
   "cell_type": "markdown",
   "metadata": {},
   "source": [
    "## Results and conclusions\n",
    "### Naive Bayes Classifiers\n",
    "As we can see the Gaussian model is the one with the lowest performance on test set after scoring with 100% on train. Thus, we have clear signs of overfitting. This model is only a good choice if the distribution of the variables is Gaussian.\n",
    "We can check the probability distribution of 7 random words:"
   ]
  },
  {
   "cell_type": "code",
   "execution_count": 22,
   "metadata": {},
   "outputs": [
    {
     "name": "stdout",
     "output_type": "stream",
     "text": [
      "Probability Distribution by document of word number 61 which is avec\n"
     ]
    },
    {
     "data": {
      "image/png": "[encoded data removed]",
      "text/plain": [
       "<Figure size 432x288 with 1 Axes>"
      ]
     },
     "metadata": {},
     "output_type": "display_data"
    },
    {
     "name": "stdout",
     "output_type": "stream",
     "text": [
      "Probability Distribution by document of word number 268 which is homme\n"
     ]
    },
    {
     "data": {
      "image/png": "[encoded data removed]",
      "text/plain": [
       "<Figure size 432x288 with 1 Axes>"
      ]
     },
     "metadata": {},
     "output_type": "display_data"
    },
    {
     "name": "stdout",
     "output_type": "stream",
     "text": [
      "Probability Distribution by document of word number 173 which is disposition\n"
     ]
    },
    {
     "data": {
      "image/png": "[encoded data removed]",
      "text/plain": [
       "<Figure size 432x288 with 1 Axes>"
      ]
     },
     "metadata": {},
     "output_type": "display_data"
    },
    {
     "name": "stdout",
     "output_type": "stream",
     "text": [
      "Probability Distribution by document of word number 256 which is gions\n"
     ]
    },
    {
     "data": {
      "image/png": "[encoded data removed]",
      "text/plain": [
       "<Figure size 432x288 with 1 Axes>"
      ]
     },
     "metadata": {},
     "output_type": "display_data"
    },
    {
     "name": "stdout",
     "output_type": "stream",
     "text": [
      "Probability Distribution by document of word number 175 which is disque\n"
     ]
    },
    {
     "data": {
      "image/png": "[encoded data removed]",
      "text/plain": [
       "<Figure size 432x288 with 1 Axes>"
      ]
     },
     "metadata": {},
     "output_type": "display_data"
    },
    {
     "name": "stdout",
     "output_type": "stream",
     "text": [
      "Probability Distribution by document of word number 447 which is pouvaient\n"
     ]
    },
    {
     "data": {
      "image/png": "[encoded data removed]",
      "text/plain": [
       "<Figure size 432x288 with 1 Axes>"
      ]
     },
     "metadata": {},
     "output_type": "display_data"
    },
    {
     "name": "stdout",
     "output_type": "stream",
     "text": [
      "Probability Distribution by document of word number 332 which is mains\n"
     ]
    },
    {
     "data": {
      "image/png": "[encoded data removed]",
      "text/plain": [
       "<Figure size 432x288 with 1 Axes>"
      ]
     },
     "metadata": {},
     "output_type": "display_data"
    }
   ],
   "source": [
    "indx_word = np.random.randint(1,len(influent_words),7)\n",
    "for i in indx_word:\n",
    "    print(\"Probability Distribution by document of word number\", i, \"which is\", influent_words[i])\n",
    "    plt.hist(features_train[:,i])\n",
    "    plt.show()"
   ]
  },
  {
   "cell_type": "markdown",
   "metadata": {},
   "source": [
    "Note that the probability distribution of our words is not gaussian so this might be the reason why GaussianNB might not be the best model. This is why the multinomial model performs the best with an $\\alpha$ parameter of 0.1 and the model improves as we decrease $\\alpha$. I know that there is a ***Bernoulli NB model*** but I have not used it since our features are not binary.\n",
    "There is one more NB classifier on sklearn which is ***Complement Naive Bayes*** but I can not use it because it is just implemented on the development mode of the last version on sklearn and that is hard to install with Anaconda distribution on Windows. This could be the best model since it is for unbalanced data that could be our case since we have seen that there is two times more words from Verne than from Maupassant.\n"
   ]
  },
  {
   "cell_type": "markdown",
   "metadata": {},
   "source": [
    "## Author Prediction\n",
    "Now, let us accomplish the final step of our work. Try to guess who has written the misteryous book. For that, we are going to check between the models what are the answers.:\n"
   ]
  },
  {
   "cell_type": "code",
   "execution_count": 23,
   "metadata": {},
   "outputs": [
    {
     "name": "stdout",
     "output_type": "stream",
     "text": [
      "Predictions for GaussianNB(priors=None, var_smoothing=1e-09)\n",
      "[1 1 1 1 1 1 1 1 1 1]\n",
      "% of Vernes 100.0\n",
      "['verne' 'verne' 'verne' 'verne' 'verne' 'verne' 'verne' 'verne' 'verne'\n",
      " 'verne']\n",
      " \n",
      "Predictions for MultinomialNB(alpha=1.0, class_prior=None, fit_prior=True)\n",
      "[0 1 1 1 1 0 1 1 1 0]\n",
      "% of Vernes 70.0\n",
      "['maupassant' 'verne' 'verne' 'verne' 'verne' 'maupassant' 'verne' 'verne'\n",
      " 'verne' 'maupassant']\n",
      " \n",
      "Predictions for MultinomialNB(alpha=0.5, class_prior=None, fit_prior=True)\n",
      "[1 1 1 1 1 1 1 1 1 1]\n",
      "% of Vernes 100.0\n",
      "['verne' 'verne' 'verne' 'verne' 'verne' 'verne' 'verne' 'verne' 'verne'\n",
      " 'verne']\n",
      " \n",
      "Predictions for MultinomialNB(alpha=0.1, class_prior=None, fit_prior=True)\n",
      "[1 1 1 1 1 1 1 1 1 1]\n",
      "% of Vernes 100.0\n",
      "['verne' 'verne' 'verne' 'verne' 'verne' 'verne' 'verne' 'verne' 'verne'\n",
      " 'verne']\n",
      " \n"
     ]
    }
   ],
   "source": [
    "# Predict the docs with unknown author\n",
    "from sklearn.naive_bayes import GaussianNB\n",
    "from sklearn.naive_bayes import MultinomialNB\n",
    "from sklearn.naive_bayes import BernoulliNB\n",
    "clf_list = [GaussianNB(), MultinomialNB(), MultinomialNB(0.5), MultinomialNB(0.1)]#, BernoulliNB()]\n",
    "\n",
    "for NB in clf_list:\n",
    "    NB.fit(features_train, authors_train)\n",
    "    authors_unknown_predicted = NB.predict(features_unknown)\n",
    "    print (\"Predictions for {}\".format(NB))\n",
    "    print(authors_unknown_predicted)\n",
    "    vernes = np.sum((authors_unknown_predicted))/len(authors_unknown_predicted) *100\n",
    "    print(\"% of Vernes {}\".format(vernes))\n",
    "    print(label_encoder.inverse_transform(authors_unknown_predicted))\n",
    "    print(\" \")"
   ]
  },
  {
   "cell_type": "markdown",
   "metadata": {},
   "source": [
    "## Final conclusions\n",
    "As we have seen most of the models do not show any kind of doubt about the writer of the chunk. 3 Of 4 models say that all the chunks have been written by Verne and in just one we get a little bit more doubts. But we know that it was not the best model so that result does not need to be taken into account. \n",
    "\n",
    "We can know that Verne is the writer just by opening the .txt and reading the title of the book which is ***LES ENFANTS DU CAPITAINE GRANT*** , a novel by the French writer Jules Verne, published in 1867–1868. So, we can be quite happy about the performance of our algorithm which is also very fast to train and compile, another good feature of Naive Bayes classifiers.\n",
    "\n",
    "To end up I am very happy with the outcomes of this work since I had never done nothing related to NLP and text mining and I have found it a very interesting task and I have also learnt a lot of things about text analysis and statistics. "
   ]
  }
 ],
 "metadata": {
  "kernelspec": {
   "display_name": "Python 3",
   "language": "python",
   "name": "python3"
  },
  "language_info": {
   "codemirror_mode": {
    "name": "ipython",
    "version": 3
   },
   "file_extension": ".py",
   "mimetype": "text/x-python",
   "name": "python",
   "nbconvert_exporter": "python",
   "pygments_lexer": "ipython3",
   "version": "3.6.5"
  }
 },
 "nbformat": 4,
 "nbformat_minor": 2
}
