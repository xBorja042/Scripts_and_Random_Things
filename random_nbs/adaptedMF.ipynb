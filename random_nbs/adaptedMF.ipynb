{
 "cells": [
  {
   "cell_type": "code",
   "execution_count": 20,
   "metadata": {},
   "outputs": [
    {
     "data": {
      "text/html": [
       "<div>\n",
       "<style scoped>\n",
       "    .dataframe tbody tr th:only-of-type {\n",
       "        vertical-align: middle;\n",
       "    }\n",
       "\n",
       "    .dataframe tbody tr th {\n",
       "        vertical-align: top;\n",
       "    }\n",
       "\n",
       "    .dataframe thead th {\n",
       "        text-align: right;\n",
       "    }\n",
       "</style>\n",
       "<table border=\"1\" class=\"dataframe\">\n",
       "  <thead>\n",
       "    <tr style=\"text-align: right;\">\n",
       "      <th></th>\n",
       "      <th>client</th>\n",
       "      <th>volume</th>\n",
       "      <th>product</th>\n",
       "      <th>action</th>\n",
       "      <th>ISIN</th>\n",
       "      <th>isin_verb</th>\n",
       "      <th>Mean</th>\n",
       "      <th>Promedio</th>\n",
       "    </tr>\n",
       "  </thead>\n",
       "  <tbody>\n",
       "    <tr>\n",
       "      <th>0</th>\n",
       "      <td>t_391_L</td>\n",
       "      <td>610000</td>\n",
       "      <td>fx_CAD</td>\n",
       "      <td>BUY</td>\n",
       "      <td>EC0026456062</td>\n",
       "      <td>EC0026456062_BUY</td>\n",
       "      <td>400000</td>\n",
       "      <td>1.525000</td>\n",
       "    </tr>\n",
       "    <tr>\n",
       "      <th>1</th>\n",
       "      <td>t_391_L</td>\n",
       "      <td>10000</td>\n",
       "      <td>fx_THB</td>\n",
       "      <td>SELL</td>\n",
       "      <td>FP0827834135</td>\n",
       "      <td>FP0827834135_SELL</td>\n",
       "      <td>385000</td>\n",
       "      <td>0.025974</td>\n",
       "    </tr>\n",
       "    <tr>\n",
       "      <th>2</th>\n",
       "      <td>t_391_L</td>\n",
       "      <td>10000</td>\n",
       "      <td>fx_JPY</td>\n",
       "      <td>SELL</td>\n",
       "      <td>RE8007070338</td>\n",
       "      <td>RE8007070338_SELL</td>\n",
       "      <td>370000</td>\n",
       "      <td>0.027027</td>\n",
       "    </tr>\n",
       "    <tr>\n",
       "      <th>3</th>\n",
       "      <td>t_391_L</td>\n",
       "      <td>310000</td>\n",
       "      <td>fx_NZD</td>\n",
       "      <td>BUY</td>\n",
       "      <td>MB6443040517</td>\n",
       "      <td>MB6443040517_BUY</td>\n",
       "      <td>572500</td>\n",
       "      <td>0.541485</td>\n",
       "    </tr>\n",
       "    <tr>\n",
       "      <th>4</th>\n",
       "      <td>t_391_L</td>\n",
       "      <td>10000</td>\n",
       "      <td>fx_DKK</td>\n",
       "      <td>SELL</td>\n",
       "      <td>FQ2840854502</td>\n",
       "      <td>FQ2840854502_SELL</td>\n",
       "      <td>535000</td>\n",
       "      <td>0.018692</td>\n",
       "    </tr>\n",
       "  </tbody>\n",
       "</table>\n",
       "</div>"
      ],
      "text/plain": [
       "    client  volume product action          ISIN          isin_verb    Mean  \\\n",
       "0  t_391_L  610000  fx_CAD    BUY  EC0026456062   EC0026456062_BUY  400000   \n",
       "1  t_391_L   10000  fx_THB   SELL  FP0827834135  FP0827834135_SELL  385000   \n",
       "2  t_391_L   10000  fx_JPY   SELL  RE8007070338  RE8007070338_SELL  370000   \n",
       "3  t_391_L  310000  fx_NZD    BUY  MB6443040517   MB6443040517_BUY  572500   \n",
       "4  t_391_L   10000  fx_DKK   SELL  FQ2840854502  FQ2840854502_SELL  535000   \n",
       "\n",
       "   Promedio  \n",
       "0  1.525000  \n",
       "1  0.025974  \n",
       "2  0.027027  \n",
       "3  0.541485  \n",
       "4  0.018692  "
      ]
     },
     "execution_count": 20,
     "metadata": {},
     "output_type": "execute_result"
    }
   ],
   "source": [
    "import pandas as pd\n",
    "\n",
    "data = pd.read_csv(r'C:...\\synthetic_data.csv', sep = '|', index_col=None)\n",
    "data = data[['client', 'volume', 'product', 'action', 'ISIN',\n",
    "       'isin_verb', 'Mean', 'Promedio']]\n",
    "\n",
    "data.head()"
   ]
  },
  {
   "cell_type": "code",
   "execution_count": 11,
   "metadata": {
    "id": "M5R7oZ44LdsB"
   },
   "outputs": [],
   "source": [
    "# This is EXACTLY the same as using sklearn LabelEncoding\n",
    "data['client'] = data['client'].astype('category').cat.codes.values\n",
    "data['isin_verb'] = data['isin_verb'].astype('category').cat.codes.values\n",
    "\n",
    "X = data.loc[:, data.columns != 'Promedio']\n",
    "y = data[['Promedio']]\n",
    "\n",
    "from sklearn.preprocessing import MinMaxScaler, StandardScaler\n",
    "scaler = MinMaxScaler()\n",
    "y = scaler.fit_transform(y)"
   ]
  },
  {
   "cell_type": "markdown",
   "metadata": {
    "id": "wq6Gju74NH-_"
   },
   "source": [
    "## 2.- Matrix Factorization\n",
    "\n",
    "What is matrix factorization? Matrix factorization is simply a family of mathematical operations for matrices in linear algebra. To be specific, a matrix factorization is a factorization of a matrix into a product of matrices.\n",
    "\n",
    "In the case of collaborative filtering, matrix factorization algorithms work by decomposing the user-item interaction matrix into the product of two lower dimensionality rectangular matrices. One matrix can be seen as the user matrix where rows represent users and columns are latent factors. The other matrix is the item matrix where rows are latent factors and columns represent items. How does matrix factorization solve our problems? Model learns to factorize rating matrix into user and movie representations, which allows model to predict better personalized movie ratings for users With matrix factorization, less-known movies can have rich latent representations as much as popular movies have, which improves recommender’s ability to recommend less-known movies.\n",
    "\n",
    "Latent factors are the features in the lower dimension latent space projected from user-item interaction matrix. The idea behind matrix factorization is to use latent factors to represent user preferences or movie topics in a much lower dimension space. Matrix factorization is one of very effective dimension reduction techniques in machine learning."
   ]
  },
  {
   "cell_type": "code",
   "execution_count": 12,
   "metadata": {
    "colab": {
     "base_uri": "https://localhost:8080/"
    },
    "id": "YwRLsIMXNLmn",
    "outputId": "68072a28-c99a-4c32-e694-13f2960114de"
   },
   "outputs": [
    {
     "name": "stdout",
     "output_type": "stream",
     "text": [
      "shape(X_train)= (13465, 7)\n",
      "shape(y_train)= (13465, 1)\n",
      "shape(X_test)= (3367, 7)\n",
      "shape(y_test)= (3367, 1)\n"
     ]
    }
   ],
   "source": [
    "from sklearn.model_selection import train_test_split\n",
    "\n",
    "X_train, X_test, y_train, y_test = train_test_split(X, y, test_size=0.2)\n",
    "\n",
    "print('shape(X_train)=',X_train.shape)\n",
    "print('shape(y_train)=',y_train.shape)\n",
    "print('shape(X_test)=',X_test.shape)\n",
    "print('shape(y_test)=',y_test.shape)"
   ]
  },
  {
   "cell_type": "code",
   "execution_count": 13,
   "metadata": {
    "id": "FcwQvARuNWLo"
   },
   "outputs": [],
   "source": [
    "#Model packages\n",
    "import keras\n",
    "from keras.optimizers import Adam\n",
    "from keras.models import Sequential, Input, Model\n",
    "from keras.layers import LSTM, Dense, concatenate, Dropout, LSTM, GlobalMaxPool1D, MaxPooling1D, Flatten, Layer, Reshape, RepeatVector, Concatenate, Add, Activation\n",
    "from keras.layers import Input, LSTM, Dense, RepeatVector, Concatenate, TimeDistributed, Reshape, Layer, Add, Conv2D, Conv1D\n",
    "from keras.layers import Multiply, Activation, Lambda, Dot, Dropout, Flatten, Embedding, dot, merge\n",
    "from keras import optimizers\n",
    "from keras.layers.convolutional import Conv1D\n",
    "from keras.regularizers import l2\n",
    "from keras.layers import ELU\n",
    "from keras.optimizers import Adam\n",
    "from keras.models import model_from_json"
   ]
  },
  {
   "cell_type": "code",
   "execution_count": 14,
   "metadata": {
    "colab": {
     "base_uri": "https://localhost:8080/"
    },
    "id": "KJmY-nKEOIED",
    "outputId": "3b0cb505-4e5a-4725-f4eb-5a858e989474"
   },
   "outputs": [
    {
     "data": {
      "text/plain": [
       "Index(['client', 'volume', 'product', 'action', 'ISIN', 'isin_verb'], dtype='object')"
      ]
     },
     "execution_count": 14,
     "metadata": {
      "tags": []
     },
     "output_type": "execute_result"
    }
   ],
   "source": [
    "dft.columns"
   ]
  },
  {
   "cell_type": "code",
   "execution_count": 15,
   "metadata": {
    "colab": {
     "base_uri": "https://localhost:8080/"
    },
    "id": "quSE-PhzN_Pk",
    "outputId": "5067e1d1-a15b-4b5e-cf00-c0d2bc8616c2"
   },
   "outputs": [
    {
     "name": "stdout",
     "output_type": "stream",
     "text": [
      "Model: \"model\"\n",
      "__________________________________________________________________________________________________\n",
      "Layer (type)                    Output Shape         Param #     Connected to                     \n",
      "==================================================================================================\n",
      "input_user (InputLayer)         [(None, 1)]          0                                            \n",
      "__________________________________________________________________________________________________\n",
      "input_item (InputLayer)         [(None, 1)]          0                                            \n",
      "__________________________________________________________________________________________________\n",
      "embedding_user (Embedding)      (None, 1, 18)        55638       input_user[0][0]                 \n",
      "__________________________________________________________________________________________________\n",
      "embedding_item (Embedding)      (None, 1, 18)        4428        input_item[0][0]                 \n",
      "__________________________________________________________________________________________________\n",
      "flatten (Flatten)               (None, 18)           0           embedding_user[0][0]             \n",
      "__________________________________________________________________________________________________\n",
      "flatten_1 (Flatten)             (None, 18)           0           embedding_item[0][0]             \n",
      "__________________________________________________________________________________________________\n",
      "prod (Dot)                      (None, 1)            0           flatten[0][0]                    \n",
      "                                                                 flatten_1[0][0]                  \n",
      "==================================================================================================\n",
      "Total params: 60,066\n",
      "Trainable params: 60,066\n",
      "Non-trainable params: 0\n",
      "__________________________________________________________________________________________________\n"
     ]
    }
   ],
   "source": [
    "n_latent = 18\n",
    "n_users = len(X.client.unique())\n",
    "n_items = len(X.isin_verb.unique())\n",
    "\n",
    "\n",
    "input_user = Input(shape=[1], name='input_user')\n",
    "input_item = Input(shape=[1], name='input_item')\n",
    "\n",
    "\n",
    "# input_user_f = Input(shape=[1], name='input_user_features')\n",
    "# input_item_f = Input(shape=[1], name='input_item_features')\n",
    "\n",
    "#Embedding layer\n",
    "\n",
    "\n",
    "MF_user_emb = Embedding(n_users,n_latent, #embeddings_constraint=keras.constraints.NonNeg(),\n",
    "                       # embeddings_regularizer=keras.regularizers.l2(0),\n",
    "                        name='embedding_user')(input_user)\n",
    "\n",
    "MF_flatten_user = Flatten()(MF_user_emb)\n",
    "\n",
    "\n",
    "MF_item_emb = Embedding(n_items,n_latent, #embeddings_constraint=keras.constraints.NonNeg(),\n",
    "                      #  embeddings_regularizer=keras.regularizers.l2(0),\n",
    "                        name='embedding_item')(input_item)\n",
    "\n",
    "MF_flatten_item = Flatten()(MF_item_emb)\n",
    "\n",
    "\n",
    "#MF part\n",
    "\n",
    "mf_vec = dot([MF_flatten_user,MF_flatten_item],axes=1, name='prod',)    #keras.layers.multiply([MF_flatten_user,MF_flatten_item])\n",
    "\n",
    "# mf_vec = keras.layers.multiply([MF_flatten_user,MF_flatten_item])    # dot([MF_flatten_user,MF_flatten_item],axes=1, name='prod')\n",
    "\n",
    "\n",
    "\n",
    "model = Model([input_user,input_item], mf_vec)\n",
    "model.summary()"
   ]
  },
  {
   "cell_type": "code",
   "execution_count": 16,
   "metadata": {
    "id": "Lu-w9rMwOOqE"
   },
   "outputs": [],
   "source": [
    "from keras.callbacks import ModelCheckpoint, EarlyStopping, ReduceLROnPlateau\n",
    "\n",
    "# checkpointer = ModelCheckpoint(filepath=os.path.join('model','model_%demb_191202_%s_ACTION.json' %(n_latent,to_save)),\n",
    "#                                verbose=1,\n",
    "#                                save_best_only='True',\n",
    "#                                monitor='loss')\n",
    "\n",
    " \n",
    "earlystopping = EarlyStopping(monitor='loss',\n",
    "                              min_delta=0, patience=20,\n",
    "                              verbose=0, mode='auto',\n",
    "                              baseline=None,\n",
    "                              restore_best_weights=False)\n",
    "\n",
    "reduce_lr = ReduceLROnPlateau(monitor='loss', factor=0.3333,\n",
    "                  patience=3, min_lr=0.00001, verbose=1)\n",
    "\n",
    "cbs = [earlystopping, reduce_lr] "
   ]
  },
  {
   "cell_type": "code",
   "execution_count": 17,
   "metadata": {
    "colab": {
     "base_uri": "https://localhost:8080/",
     "height": 1000
    },
    "id": "6Op6JuTrOSZB",
    "outputId": "048b208c-ebbf-4021-95bd-d3af4a85fe9d"
   },
   "outputs": [
    {
     "name": "stdout",
     "output_type": "stream",
     "text": [
      "Epoch 1/100\n",
      "526/526 [==============================] - 1s 1ms/step - loss: 0.1032\n",
      "Epoch 2/100\n",
      "526/526 [==============================] - 1s 2ms/step - loss: 0.0898\n",
      "Epoch 3/100\n",
      "526/526 [==============================] - 1s 1ms/step - loss: 0.0457\n",
      "Epoch 4/100\n",
      "526/526 [==============================] - 1s 1ms/step - loss: 0.0271\n",
      "Epoch 5/100\n",
      "526/526 [==============================] - 1s 2ms/step - loss: 0.0183\n",
      "Epoch 6/100\n",
      "526/526 [==============================] - 1s 1ms/step - loss: 0.0124\n",
      "Epoch 7/100\n",
      "526/526 [==============================] - 1s 1ms/step - loss: 0.0090\n",
      "Epoch 8/100\n",
      "526/526 [==============================] - 1s 1ms/step - loss: 0.0068\n",
      "Epoch 9/100\n",
      "526/526 [==============================] - 1s 1ms/step - loss: 0.0053\n",
      "Epoch 10/100\n",
      "526/526 [==============================] - 1s 2ms/step - loss: 0.0043\n",
      "Epoch 11/100\n",
      "526/526 [==============================] - 1s 1ms/step - loss: 0.0036\n",
      "Epoch 12/100\n",
      "526/526 [==============================] - 1s 2ms/step - loss: 0.0033\n",
      "Epoch 13/100\n",
      "526/526 [==============================] - 1s 2ms/step - loss: 0.0031\n",
      "Epoch 14/100\n",
      "526/526 [==============================] - 1s 2ms/step - loss: 0.0031\n",
      "Epoch 15/100\n",
      "526/526 [==============================] - 1s 2ms/step - loss: 0.0029\n",
      "Epoch 16/100\n",
      "526/526 [==============================] - 1s 1ms/step - loss: 0.0029\n",
      "Epoch 17/100\n",
      "526/526 [==============================] - 1s 2ms/step - loss: 0.0028\n",
      "Epoch 18/100\n",
      "526/526 [==============================] - 1s 1ms/step - loss: 0.0028\n",
      "Epoch 19/100\n",
      "526/526 [==============================] - 1s 2ms/step - loss: 0.0028\n",
      "Epoch 20/100\n",
      "526/526 [==============================] - 1s 1ms/step - loss: 0.0027\n",
      "Epoch 21/100\n",
      "526/526 [==============================] - 1s 1ms/step - loss: 0.0026\n",
      "Epoch 22/100\n",
      "526/526 [==============================] - 1s 1ms/step - loss: 0.0028\n",
      "Epoch 23/100\n",
      "526/526 [==============================] - 1s 1ms/step - loss: 0.0027\n",
      "\n",
      "Epoch 00023: ReduceLROnPlateau reducing learning rate to 0.0003333000158309005.\n",
      "Epoch 24/100\n",
      "526/526 [==============================] - 1s 1ms/step - loss: 0.0022\n",
      "Epoch 25/100\n",
      "526/526 [==============================] - 1s 1ms/step - loss: 0.0020\n",
      "Epoch 26/100\n",
      "526/526 [==============================] - 1s 1ms/step - loss: 0.0018\n",
      "Epoch 27/100\n",
      "526/526 [==============================] - 1s 1ms/step - loss: 0.0018\n",
      "Epoch 28/100\n",
      "526/526 [==============================] - 1s 2ms/step - loss: 0.0018\n",
      "\n",
      "Epoch 00028: ReduceLROnPlateau reducing learning rate to 0.00011108889195893425.\n",
      "Epoch 29/100\n",
      "526/526 [==============================] - 1s 2ms/step - loss: 0.0017\n",
      "Epoch 30/100\n",
      "526/526 [==============================] - 1s 2ms/step - loss: 0.0017\n",
      "Epoch 31/100\n",
      "526/526 [==============================] - 1s 2ms/step - loss: 0.0017\n",
      "Epoch 32/100\n",
      "526/526 [==============================] - 1s 2ms/step - loss: 0.0016\n",
      "\n",
      "Epoch 00032: ReduceLROnPlateau reducing learning rate to 3.702592756089871e-05.\n",
      "Epoch 33/100\n",
      "526/526 [==============================] - 1s 2ms/step - loss: 0.0018\n",
      "Epoch 34/100\n",
      "526/526 [==============================] - 1s 2ms/step - loss: 0.0017\n",
      "Epoch 35/100\n",
      "526/526 [==============================] - 1s 2ms/step - loss: 0.0016\n",
      "\n",
      "Epoch 00035: ReduceLROnPlateau reducing learning rate to 1.2340741085426997e-05.\n",
      "Epoch 36/100\n",
      "526/526 [==============================] - 1s 2ms/step - loss: 0.0017\n",
      "Epoch 37/100\n",
      "526/526 [==============================] - 1s 2ms/step - loss: 0.0018\n",
      "Epoch 38/100\n",
      "526/526 [==============================] - 1s 2ms/step - loss: 0.0017\n",
      "\n",
      "Epoch 00038: ReduceLROnPlateau reducing learning rate to 1e-05.\n",
      "Epoch 39/100\n",
      "526/526 [==============================] - 1s 2ms/step - loss: 0.0016\n",
      "Epoch 40/100\n",
      "526/526 [==============================] - 1s 2ms/step - loss: 0.0017\n",
      "Epoch 41/100\n",
      "526/526 [==============================] - 1s 2ms/step - loss: 0.0016\n",
      "Epoch 42/100\n",
      "526/526 [==============================] - 1s 2ms/step - loss: 0.0018\n",
      "Epoch 43/100\n",
      "526/526 [==============================] - 1s 2ms/step - loss: 0.0017\n",
      "Epoch 44/100\n",
      "526/526 [==============================] - 1s 2ms/step - loss: 0.0017\n",
      "Epoch 45/100\n",
      "526/526 [==============================] - 1s 2ms/step - loss: 0.0016\n",
      "Epoch 46/100\n",
      "526/526 [==============================] - 1s 2ms/step - loss: 0.0016\n",
      "Epoch 47/100\n",
      "526/526 [==============================] - 1s 2ms/step - loss: 0.0017\n",
      "Epoch 48/100\n",
      "526/526 [==============================] - 1s 2ms/step - loss: 0.0017\n",
      "Epoch 49/100\n",
      "526/526 [==============================] - 1s 2ms/step - loss: 0.0017\n",
      "Epoch 50/100\n",
      "526/526 [==============================] - 1s 2ms/step - loss: 0.0016\n",
      "Epoch 51/100\n",
      "526/526 [==============================] - 1s 2ms/step - loss: 0.0017\n",
      "Epoch 52/100\n",
      "526/526 [==============================] - 1s 2ms/step - loss: 0.0017\n",
      "Epoch 53/100\n",
      "526/526 [==============================] - 1s 2ms/step - loss: 0.0017\n",
      "Epoch 54/100\n",
      "526/526 [==============================] - 1s 2ms/step - loss: 0.0018\n",
      "Epoch 55/100\n",
      "526/526 [==============================] - 1s 2ms/step - loss: 0.0016\n",
      "Epoch 56/100\n",
      "526/526 [==============================] - 1s 2ms/step - loss: 0.0017\n",
      "Epoch 57/100\n",
      "526/526 [==============================] - 1s 2ms/step - loss: 0.0017\n",
      "Epoch 58/100\n",
      "526/526 [==============================] - 1s 2ms/step - loss: 0.0018\n",
      "Epoch 59/100\n",
      "526/526 [==============================] - 1s 2ms/step - loss: 0.0018\n",
      "Epoch 60/100\n",
      "526/526 [==============================] - 1s 2ms/step - loss: 0.0017\n",
      "Epoch 61/100\n",
      "526/526 [==============================] - 1s 2ms/step - loss: 0.0016\n",
      "Epoch 62/100\n",
      "526/526 [==============================] - 1s 2ms/step - loss: 0.0016\n",
      "Epoch 63/100\n",
      "526/526 [==============================] - 1s 2ms/step - loss: 0.0016\n",
      "Epoch 64/100\n",
      "526/526 [==============================] - 1s 2ms/step - loss: 0.0017\n",
      "Epoch 65/100\n",
      "526/526 [==============================] - 1s 2ms/step - loss: 0.0017\n",
      "Epoch 66/100\n",
      "526/526 [==============================] - 1s 2ms/step - loss: 0.0017\n",
      "Epoch 67/100\n",
      "526/526 [==============================] - 1s 2ms/step - loss: 0.0016\n",
      "Epoch 68/100\n",
      "526/526 [==============================] - 1s 2ms/step - loss: 0.0017\n",
      "Epoch 69/100\n",
      "526/526 [==============================] - 1s 2ms/step - loss: 0.0016\n",
      "Epoch 70/100\n",
      "526/526 [==============================] - 1s 2ms/step - loss: 0.0018\n",
      "Epoch 71/100\n",
      "526/526 [==============================] - 1s 2ms/step - loss: 0.0016\n",
      "Epoch 72/100\n",
      "526/526 [==============================] - 1s 2ms/step - loss: 0.0016\n",
      "Epoch 73/100\n",
      "526/526 [==============================] - 1s 2ms/step - loss: 0.0017\n",
      "Epoch 74/100\n",
      "526/526 [==============================] - 1s 2ms/step - loss: 0.0016\n",
      "Epoch 75/100\n",
      "526/526 [==============================] - 1s 2ms/step - loss: 0.0017\n",
      "Epoch 76/100\n",
      "526/526 [==============================] - 1s 2ms/step - loss: 0.0017\n",
      "Epoch 77/100\n",
      "526/526 [==============================] - 1s 2ms/step - loss: 0.0016\n",
      "Epoch 78/100\n",
      "526/526 [==============================] - 1s 2ms/step - loss: 0.0016\n",
      "Epoch 79/100\n",
      "526/526 [==============================] - 1s 2ms/step - loss: 0.0016\n",
      "Epoch 80/100\n",
      "526/526 [==============================] - 1s 2ms/step - loss: 0.0017\n",
      "Epoch 81/100\n",
      "526/526 [==============================] - 1s 2ms/step - loss: 0.0015\n",
      "Epoch 82/100\n",
      "526/526 [==============================] - 1s 2ms/step - loss: 0.0016\n",
      "Epoch 83/100\n",
      "526/526 [==============================] - 1s 2ms/step - loss: 0.0018\n",
      "Epoch 84/100\n",
      "526/526 [==============================] - 1s 2ms/step - loss: 0.0016\n",
      "Epoch 85/100\n",
      "526/526 [==============================] - 1s 2ms/step - loss: 0.0017\n",
      "Epoch 86/100\n",
      "526/526 [==============================] - 1s 2ms/step - loss: 0.0017\n",
      "Epoch 87/100\n",
      "526/526 [==============================] - 1s 2ms/step - loss: 0.0017\n",
      "Epoch 88/100\n",
      "526/526 [==============================] - 1s 2ms/step - loss: 0.0017\n",
      "Epoch 89/100\n",
      "526/526 [==============================] - 1s 2ms/step - loss: 0.0016\n",
      "Epoch 90/100\n",
      "526/526 [==============================] - 1s 2ms/step - loss: 0.0016\n",
      "Epoch 91/100\n",
      "526/526 [==============================] - 1s 2ms/step - loss: 0.0017\n",
      "Epoch 92/100\n",
      "526/526 [==============================] - 1s 2ms/step - loss: 0.0016\n",
      "Epoch 93/100\n",
      "526/526 [==============================] - 1s 2ms/step - loss: 0.0017\n",
      "Epoch 94/100\n",
      "526/526 [==============================] - 1s 2ms/step - loss: 0.0017\n",
      "Epoch 95/100\n",
      "526/526 [==============================] - 1s 2ms/step - loss: 0.0016\n",
      "Epoch 96/100\n",
      "526/526 [==============================] - 1s 2ms/step - loss: 0.0017\n",
      "Epoch 97/100\n",
      "526/526 [==============================] - 1s 2ms/step - loss: 0.0016\n",
      "Epoch 98/100\n",
      "526/526 [==============================] - 1s 2ms/step - loss: 0.0017\n",
      "Epoch 99/100\n",
      "526/526 [==============================] - 1s 2ms/step - loss: 0.0017\n",
      "Epoch 100/100\n",
      "526/526 [==============================] - 1s 2ms/step - loss: 0.0016\n"
     ]
    },
    {
     "data": {
      "image/png": "[encoded data removed]",
      "text/plain": [
       "<Figure size 432x288 with 1 Axes>"
      ]
     },
     "metadata": {
      "needs_background": "light",
      "tags": []
     },
     "output_type": "display_data"
    },
    {
     "data": {
      "image/png": "[encoded data removed]",
      "text/plain": [
       "<Figure size 432x288 with 1 Axes>"
      ]
     },
     "metadata": {
      "needs_background": "light",
      "tags": []
     },
     "output_type": "display_data"
    }
   ],
   "source": [
    "import matplotlib.pyplot as plt\n",
    "\n",
    "lr = 0.001\n",
    "\n",
    "n_steps = 10\n",
    "\n",
    "\n",
    "adam = Adam(lr=lr,)\n",
    "model.compile(optimizer=adam, loss='mse')\n",
    "history = model.fit([X.client.values, X.isin_verb.values], y,\n",
    "                    epochs=100,\n",
    "                    batch_size=32,\n",
    "                    shuffle = True,\n",
    "                    callbacks=cbs) \n",
    "\n",
    "\n",
    "plt.plot(history.history['loss'])\n",
    "#     plt.plot(history.history['val_loss'])\n",
    "plt.title('Model loss')\n",
    "plt.ylabel('Loss')\n",
    "plt.xlabel('Epoch')\n",
    "plt.legend(['Train'], loc='upper left')\n",
    "plt.show()\n",
    "\n",
    "plt.plot(history.history['lr'])\n",
    "#     plt.plot(history.history['val_loss'])\n",
    "plt.title('LR')\n",
    "plt.ylabel('LR')\n",
    "plt.xlabel('Epoch')\n",
    "plt.legend(['LR'], loc='upper left')\n",
    "plt.show()"
   ]
  },
  {
   "cell_type": "code",
   "execution_count": 18,
   "metadata": {
    "id": "kAuIUV23OVQc"
   },
   "outputs": [],
   "source": [
    "predict = model.predict([X.client.values,  X.isin_verb.values])\n",
    "predict_train_unsca = scaler.inverse_transform(predict)\n",
    "y_unsca = scaler.inverse_transform(y)"
   ]
  },
  {
   "cell_type": "code",
   "execution_count": 19,
   "metadata": {
    "colab": {
     "base_uri": "https://localhost:8080/",
     "height": 283
    },
    "id": "Z_jPKwKOPihh",
    "outputId": "86e3d2f1-ad8a-49d5-a1c0-0ea2bb144f36"
   },
   "outputs": [
    {
     "data": {
      "text/plain": [
       "<matplotlib.legend.Legend at 0x7fd318f060d0>"
      ]
     },
     "execution_count": 19,
     "metadata": {
      "tags": []
     },
     "output_type": "execute_result"
    },
    {
     "data": {
      "image/png": "[encoded data removed]",
      "text/plain": [
       "<Figure size 432x288 with 1 Axes>"
      ]
     },
     "metadata": {
      "needs_background": "light",
      "tags": []
     },
     "output_type": "display_data"
    }
   ],
   "source": [
    "plt.hist(predict)\n",
    "plt.hist(predict_train_unsca)\n",
    "plt.hist(y_unsca)\n",
    "plt.hist(y)\n",
    "plt.legend(['predict', 'predict_unsca', 'y_unsca', 'y'])"
   ]
  },
  {
   "cell_type": "code",
   "execution_count": 20,
   "metadata": {
    "colab": {
     "base_uri": "https://localhost:8080/",
     "height": 206
    },
    "id": "6hpXoq_PP3ub",
    "outputId": "20c3ffee-a4c0-4423-b84a-7fea08f3f397"
   },
   "outputs": [
    {
     "data": {
      "text/html": [
       "<div>\n",
       "<style scoped>\n",
       "    .dataframe tbody tr th:only-of-type {\n",
       "        vertical-align: middle;\n",
       "    }\n",
       "\n",
       "    .dataframe tbody tr th {\n",
       "        vertical-align: top;\n",
       "    }\n",
       "\n",
       "    .dataframe thead th {\n",
       "        text-align: right;\n",
       "    }\n",
       "</style>\n",
       "<table border=\"1\" class=\"dataframe\">\n",
       "  <thead>\n",
       "    <tr style=\"text-align: right;\">\n",
       "      <th></th>\n",
       "      <th>client</th>\n",
       "      <th>volume</th>\n",
       "      <th>product</th>\n",
       "      <th>action</th>\n",
       "      <th>ISIN</th>\n",
       "      <th>isin_verb</th>\n",
       "    </tr>\n",
       "  </thead>\n",
       "  <tbody>\n",
       "    <tr>\n",
       "      <th>0</th>\n",
       "      <td>t_418_C</td>\n",
       "      <td>610000</td>\n",
       "      <td>fx_CHF</td>\n",
       "      <td>SELL</td>\n",
       "      <td>SI0515502572</td>\n",
       "      <td>SI0515502572_SELL</td>\n",
       "    </tr>\n",
       "    <tr>\n",
       "      <th>1</th>\n",
       "      <td>z_512_S</td>\n",
       "      <td>610000</td>\n",
       "      <td>fx_SEK</td>\n",
       "      <td>BUY</td>\n",
       "      <td>PD3458761640</td>\n",
       "      <td>PD3458761640_BUY</td>\n",
       "    </tr>\n",
       "    <tr>\n",
       "      <th>2</th>\n",
       "      <td>z_512_S</td>\n",
       "      <td>310000</td>\n",
       "      <td>fx_CNY</td>\n",
       "      <td>BUY</td>\n",
       "      <td>GY0845314388</td>\n",
       "      <td>GY0845314388_BUY</td>\n",
       "    </tr>\n",
       "    <tr>\n",
       "      <th>3</th>\n",
       "      <td>z_512_S</td>\n",
       "      <td>910000</td>\n",
       "      <td>fx_RON</td>\n",
       "      <td>SELL</td>\n",
       "      <td>PY1352306281</td>\n",
       "      <td>PY1352306281_SELL</td>\n",
       "    </tr>\n",
       "    <tr>\n",
       "      <th>4</th>\n",
       "      <td>z_512_S</td>\n",
       "      <td>10000</td>\n",
       "      <td>fx_HUF</td>\n",
       "      <td>SELL</td>\n",
       "      <td>YT1808716166</td>\n",
       "      <td>YT1808716166_SELL</td>\n",
       "    </tr>\n",
       "  </tbody>\n",
       "</table>\n",
       "</div>"
      ],
      "text/plain": [
       "    client  volume product action          ISIN          isin_verb\n",
       "0  t_418_C  610000  fx_CHF   SELL  SI0515502572  SI0515502572_SELL\n",
       "1  z_512_S  610000  fx_SEK    BUY  PD3458761640   PD3458761640_BUY\n",
       "2  z_512_S  310000  fx_CNY    BUY  GY0845314388   GY0845314388_BUY\n",
       "3  z_512_S  910000  fx_RON   SELL  PY1352306281  PY1352306281_SELL\n",
       "4  z_512_S   10000  fx_HUF   SELL  YT1808716166  YT1808716166_SELL"
      ]
     },
     "execution_count": 20,
     "metadata": {
      "tags": []
     },
     "output_type": "execute_result"
    }
   ],
   "source": [
    "dft.head()"
   ]
  },
  {
   "cell_type": "code",
   "execution_count": 21,
   "metadata": {
    "colab": {
     "base_uri": "https://localhost:8080/",
     "height": 224
    },
    "id": "WcM7WqD9PnZI",
    "outputId": "0ac9ae26-920f-46ca-98d4-3001b9e30184"
   },
   "outputs": [
    {
     "name": "stdout",
     "output_type": "stream",
     "text": [
      "(246, 3)\n"
     ]
    },
    {
     "data": {
      "text/html": [
       "<div>\n",
       "<style scoped>\n",
       "    .dataframe tbody tr th:only-of-type {\n",
       "        vertical-align: middle;\n",
       "    }\n",
       "\n",
       "    .dataframe tbody tr th {\n",
       "        vertical-align: top;\n",
       "    }\n",
       "\n",
       "    .dataframe thead th {\n",
       "        text-align: right;\n",
       "    }\n",
       "</style>\n",
       "<table border=\"1\" class=\"dataframe\">\n",
       "  <thead>\n",
       "    <tr style=\"text-align: right;\">\n",
       "      <th></th>\n",
       "      <th>Product</th>\n",
       "      <th>Product_cat</th>\n",
       "      <th>Full_Name</th>\n",
       "    </tr>\n",
       "  </thead>\n",
       "  <tbody>\n",
       "    <tr>\n",
       "      <th>0</th>\n",
       "      <td>SI0515502572_SELL</td>\n",
       "      <td>151</td>\n",
       "      <td>fx_CHF</td>\n",
       "    </tr>\n",
       "    <tr>\n",
       "      <th>1</th>\n",
       "      <td>PD3458761640_BUY</td>\n",
       "      <td>108</td>\n",
       "      <td>fx_SEK</td>\n",
       "    </tr>\n",
       "    <tr>\n",
       "      <th>2</th>\n",
       "      <td>GY0845314388_BUY</td>\n",
       "      <td>44</td>\n",
       "      <td>fx_CNY</td>\n",
       "    </tr>\n",
       "    <tr>\n",
       "      <th>3</th>\n",
       "      <td>PY1352306281_SELL</td>\n",
       "      <td>127</td>\n",
       "      <td>fx_RON</td>\n",
       "    </tr>\n",
       "    <tr>\n",
       "      <th>4</th>\n",
       "      <td>YT1808716166_SELL</td>\n",
       "      <td>233</td>\n",
       "      <td>fx_HUF</td>\n",
       "    </tr>\n",
       "  </tbody>\n",
       "</table>\n",
       "</div>"
      ],
      "text/plain": [
       "             Product  Product_cat Full_Name\n",
       "0  SI0515502572_SELL          151    fx_CHF\n",
       "1   PD3458761640_BUY          108    fx_SEK\n",
       "2   GY0845314388_BUY           44    fx_CNY\n",
       "3  PY1352306281_SELL          127    fx_RON\n",
       "4  YT1808716166_SELL          233    fx_HUF"
      ]
     },
     "execution_count": 21,
     "metadata": {
      "tags": []
     },
     "output_type": "execute_result"
    }
   ],
   "source": [
    "products = pd.DataFrame({'Product': dft['isin_verb'], 'Product_cat': data['isin_verb'], 'Full_Name': dft['product']})\n",
    "products = products.drop_duplicates()\n",
    "print(products.shape)\n",
    "products.head()"
   ]
  },
  {
   "cell_type": "code",
   "execution_count": 22,
   "metadata": {
    "colab": {
     "base_uri": "https://localhost:8080/",
     "height": 224
    },
    "id": "L9SnKFAyQOLZ",
    "outputId": "4712d431-a402-4bda-d18e-4ea36c7c1cae"
   },
   "outputs": [
    {
     "name": "stdout",
     "output_type": "stream",
     "text": [
      "(3091, 2)\n"
     ]
    },
    {
     "data": {
      "text/html": [
       "<div>\n",
       "<style scoped>\n",
       "    .dataframe tbody tr th:only-of-type {\n",
       "        vertical-align: middle;\n",
       "    }\n",
       "\n",
       "    .dataframe tbody tr th {\n",
       "        vertical-align: top;\n",
       "    }\n",
       "\n",
       "    .dataframe thead th {\n",
       "        text-align: right;\n",
       "    }\n",
       "</style>\n",
       "<table border=\"1\" class=\"dataframe\">\n",
       "  <thead>\n",
       "    <tr style=\"text-align: right;\">\n",
       "      <th></th>\n",
       "      <th>Client</th>\n",
       "      <th>Client_cat</th>\n",
       "    </tr>\n",
       "  </thead>\n",
       "  <tbody>\n",
       "    <tr>\n",
       "      <th>0</th>\n",
       "      <td>t_418_C</td>\n",
       "      <td>2284</td>\n",
       "    </tr>\n",
       "    <tr>\n",
       "      <th>1</th>\n",
       "      <td>z_512_S</td>\n",
       "      <td>3029</td>\n",
       "    </tr>\n",
       "    <tr>\n",
       "      <th>11</th>\n",
       "      <td>b_449_D</td>\n",
       "      <td>164</td>\n",
       "    </tr>\n",
       "    <tr>\n",
       "      <th>14</th>\n",
       "      <td>q_747_J</td>\n",
       "      <td>1942</td>\n",
       "    </tr>\n",
       "    <tr>\n",
       "      <th>22</th>\n",
       "      <td>e_746_R</td>\n",
       "      <td>547</td>\n",
       "    </tr>\n",
       "  </tbody>\n",
       "</table>\n",
       "</div>"
      ],
      "text/plain": [
       "     Client  Client_cat\n",
       "0   t_418_C        2284\n",
       "1   z_512_S        3029\n",
       "11  b_449_D         164\n",
       "14  q_747_J        1942\n",
       "22  e_746_R         547"
      ]
     },
     "execution_count": 22,
     "metadata": {
      "tags": []
     },
     "output_type": "execute_result"
    }
   ],
   "source": [
    "clients = pd.DataFrame({'Client': dft['client'], 'Client_cat': data['client']})\n",
    "clients = clients.drop_duplicates()\n",
    "print(clients.shape)\n",
    "\n",
    "clients.head()"
   ]
  },
  {
   "cell_type": "code",
   "execution_count": 23,
   "metadata": {
    "colab": {
     "base_uri": "https://localhost:8080/"
    },
    "id": "XWzdeUA5QYVQ",
    "outputId": "f7d5e877-eca5-4ad6-91bd-64ca2c3aaaa7"
   },
   "outputs": [
    {
     "name": "stdout",
     "output_type": "stream",
     "text": [
      "(3091, 18)\n",
      "(246, 18)\n"
     ]
    }
   ],
   "source": [
    "for layer in model.layers:\n",
    "#     print(layer.name)\n",
    "    if layer.name == 'embedding_user':\n",
    "#         print(layer.get_weights()[0].shape, layer.get_weights()[0])\n",
    "        emb_user = pd.DataFrame(layer.get_weights()[0])\n",
    "        print(emb_user.shape)\n",
    "    if layer.name == 'embedding_item':\n",
    "#         print(layer.get_weights()[0].shape, layer.get_weights()[0])\n",
    "        emb_prod = pd.DataFrame(layer.get_weights()[0])\n",
    "        print(emb_prod.shape)\n",
    "\n",
    "emb_user['User'] = clients.Client.values\n",
    "# emb_user['User_cat'] = clients.Client_cat.values\n",
    "\n",
    "\n",
    "emb_prod['Product'] = products.Product.values\n",
    "# emb_prod['Product_cat'] = products.Product_cat.values\n",
    "# emb_prod['full_name_instrument'] = products.Full_Name.values"
   ]
  },
  {
   "cell_type": "code",
   "execution_count": 24,
   "metadata": {
    "colab": {
     "base_uri": "https://localhost:8080/",
     "height": 300
    },
    "id": "T5UWsguMQcyP",
    "outputId": "4314405a-cb52-45e9-f81f-ff03576e2d15"
   },
   "outputs": [
    {
     "data": {
      "text/html": [
       "<div>\n",
       "<style scoped>\n",
       "    .dataframe tbody tr th:only-of-type {\n",
       "        vertical-align: middle;\n",
       "    }\n",
       "\n",
       "    .dataframe tbody tr th {\n",
       "        vertical-align: top;\n",
       "    }\n",
       "\n",
       "    .dataframe thead th {\n",
       "        text-align: right;\n",
       "    }\n",
       "</style>\n",
       "<table border=\"1\" class=\"dataframe\">\n",
       "  <thead>\n",
       "    <tr style=\"text-align: right;\">\n",
       "      <th></th>\n",
       "      <th>Product1</th>\n",
       "      <th>Product2</th>\n",
       "      <th>Distance</th>\n",
       "      <th>CumSum</th>\n",
       "      <th>InverseCumSum</th>\n",
       "    </tr>\n",
       "  </thead>\n",
       "  <tbody>\n",
       "    <tr>\n",
       "      <th>28986</th>\n",
       "      <td>ZT2060622447_SELL</td>\n",
       "      <td>EM5318136445_BUY</td>\n",
       "      <td>1.258528</td>\n",
       "      <td>0.830891</td>\n",
       "      <td>0.169109</td>\n",
       "    </tr>\n",
       "    <tr>\n",
       "      <th>28982</th>\n",
       "      <td>ZT2060622447_SELL</td>\n",
       "      <td>NR5238231251_SELL</td>\n",
       "      <td>1.220097</td>\n",
       "      <td>0.789738</td>\n",
       "      <td>0.210262</td>\n",
       "    </tr>\n",
       "    <tr>\n",
       "      <th>28971</th>\n",
       "      <td>ZT2060622447_SELL</td>\n",
       "      <td>ET2378478521_SELL</td>\n",
       "      <td>1.179109</td>\n",
       "      <td>0.741144</td>\n",
       "      <td>0.258856</td>\n",
       "    </tr>\n",
       "    <tr>\n",
       "      <th>28962</th>\n",
       "      <td>ZT2060622447_SELL</td>\n",
       "      <td>DZ4225453330_SELL</td>\n",
       "      <td>1.163180</td>\n",
       "      <td>0.721054</td>\n",
       "      <td>0.278946</td>\n",
       "    </tr>\n",
       "    <tr>\n",
       "      <th>28985</th>\n",
       "      <td>ZT2060622447_SELL</td>\n",
       "      <td>YX4135205087_BUY</td>\n",
       "      <td>1.145782</td>\n",
       "      <td>0.698048</td>\n",
       "      <td>0.301952</td>\n",
       "    </tr>\n",
       "    <tr>\n",
       "      <th>28961</th>\n",
       "      <td>ZT2060622447_SELL</td>\n",
       "      <td>LX8661262105_SELL</td>\n",
       "      <td>1.123915</td>\n",
       "      <td>0.667745</td>\n",
       "      <td>0.332255</td>\n",
       "    </tr>\n",
       "    <tr>\n",
       "      <th>28964</th>\n",
       "      <td>ZT2060622447_SELL</td>\n",
       "      <td>YO5255252178_SELL</td>\n",
       "      <td>1.120568</td>\n",
       "      <td>0.662783</td>\n",
       "      <td>0.337217</td>\n",
       "    </tr>\n",
       "    <tr>\n",
       "      <th>28977</th>\n",
       "      <td>ZT2060622447_SELL</td>\n",
       "      <td>HM6041202705_SELL</td>\n",
       "      <td>1.110701</td>\n",
       "      <td>0.649123</td>\n",
       "      <td>0.350877</td>\n",
       "    </tr>\n",
       "  </tbody>\n",
       "</table>\n",
       "</div>"
      ],
      "text/plain": [
       "                Product1           Product2  Distance    CumSum  InverseCumSum\n",
       "28986  ZT2060622447_SELL   EM5318136445_BUY  1.258528  0.830891       0.169109\n",
       "28982  ZT2060622447_SELL  NR5238231251_SELL  1.220097  0.789738       0.210262\n",
       "28971  ZT2060622447_SELL  ET2378478521_SELL  1.179109  0.741144       0.258856\n",
       "28962  ZT2060622447_SELL  DZ4225453330_SELL  1.163180  0.721054       0.278946\n",
       "28985  ZT2060622447_SELL   YX4135205087_BUY  1.145782  0.698048       0.301952\n",
       "28961  ZT2060622447_SELL  LX8661262105_SELL  1.123915  0.667745       0.332255\n",
       "28964  ZT2060622447_SELL  YO5255252178_SELL  1.120568  0.662783       0.337217\n",
       "28977  ZT2060622447_SELL  HM6041202705_SELL  1.110701  0.649123       0.350877"
      ]
     },
     "execution_count": 24,
     "metadata": {
      "tags": []
     },
     "output_type": "execute_result"
    }
   ],
   "source": [
    "import scipy\n",
    "\n",
    "def get_distance(embedding_d, metric_d, type_d):\n",
    "    dist_ = pd.DataFrame(scipy.spatial.distance.cdist(embedding_d.iloc[:,:-1],embedding_d.iloc[:,:-1], metric = metric_d))\n",
    "    dist_.columns = embedding_d[type_d].values\n",
    "    dist_.index = embedding_d[type_d].values\n",
    "    return dist_\n",
    "\n",
    "d_prod = get_distance(emb_prod, 'cosine', 'Product')\n",
    "d_user = get_distance(emb_user, 'cosine', 'User')\n",
    "\n",
    "\n",
    "def inverse_cum_sum(distance_, type_d):\n",
    "    df_ = distance_.where(np.triu(np.ones(distance_.shape)).astype(np.bool))\n",
    "    df_ = df_.stack().reset_index()\n",
    "    df_.columns = [type_d + str(1) , type_d + str(2), 'Distance']\n",
    "    df_ = df_[df_.Distance != 0]\n",
    "    df_ = df_.sort_values(by = 'Distance')\n",
    "    df_['CumSum'] = df_.Distance.cumsum()/df_.Distance.sum()\n",
    "    df_['InverseCumSum'] = 1 - df_['CumSum']\n",
    "    return df_\n",
    "\n",
    "cum_sum_prods = inverse_cum_sum(d_prod, 'Product')\n",
    "\n",
    "cum_sum_prods.sort_values(by = ['Product1', 'Distance'], ascending = False).head(8)"
   ]
  },
  {
   "cell_type": "code",
   "execution_count": 25,
   "metadata": {
    "colab": {
     "base_uri": "https://localhost:8080/",
     "height": 677
    },
    "id": "2OHJ_ej6Quls",
    "outputId": "1b5560ea-633c-4a97-b0e2-4593acf4b8d8"
   },
   "outputs": [
    {
     "data": {
      "text/html": [
       "<div>\n",
       "<style scoped>\n",
       "    .dataframe tbody tr th:only-of-type {\n",
       "        vertical-align: middle;\n",
       "    }\n",
       "\n",
       "    .dataframe tbody tr th {\n",
       "        vertical-align: top;\n",
       "    }\n",
       "\n",
       "    .dataframe thead th {\n",
       "        text-align: right;\n",
       "    }\n",
       "</style>\n",
       "<table border=\"1\" class=\"dataframe\">\n",
       "  <thead>\n",
       "    <tr style=\"text-align: right;\">\n",
       "      <th></th>\n",
       "      <th>User1</th>\n",
       "      <th>User2</th>\n",
       "      <th>Distance</th>\n",
       "      <th>CumSum</th>\n",
       "      <th>InverseCumSum</th>\n",
       "    </tr>\n",
       "  </thead>\n",
       "  <tbody>\n",
       "    <tr>\n",
       "      <th>1271285</th>\n",
       "      <td>z_973_R</td>\n",
       "      <td>p_507_R</td>\n",
       "      <td>1.608379</td>\n",
       "      <td>0.997603</td>\n",
       "      <td>0.002397</td>\n",
       "    </tr>\n",
       "    <tr>\n",
       "      <th>1270525</th>\n",
       "      <td>z_973_R</td>\n",
       "      <td>e_740_Z</td>\n",
       "      <td>1.602337</td>\n",
       "      <td>0.997322</td>\n",
       "      <td>0.002678</td>\n",
       "    </tr>\n",
       "    <tr>\n",
       "      <th>1270748</th>\n",
       "      <td>z_973_R</td>\n",
       "      <td>p_685_L</td>\n",
       "      <td>1.559067</td>\n",
       "      <td>0.994697</td>\n",
       "      <td>0.005303</td>\n",
       "    </tr>\n",
       "    <tr>\n",
       "      <th>1270978</th>\n",
       "      <td>z_973_R</td>\n",
       "      <td>k_260_D</td>\n",
       "      <td>1.523661</td>\n",
       "      <td>0.991288</td>\n",
       "      <td>0.008712</td>\n",
       "    </tr>\n",
       "    <tr>\n",
       "      <th>1270138</th>\n",
       "      <td>z_973_R</td>\n",
       "      <td>r_936_Y</td>\n",
       "      <td>1.516787</td>\n",
       "      <td>0.990427</td>\n",
       "      <td>0.009573</td>\n",
       "    </tr>\n",
       "    <tr>\n",
       "      <th>1269707</th>\n",
       "      <td>z_973_R</td>\n",
       "      <td>k_530_Z</td>\n",
       "      <td>1.512683</td>\n",
       "      <td>0.989872</td>\n",
       "      <td>0.010128</td>\n",
       "    </tr>\n",
       "    <tr>\n",
       "      <th>1270258</th>\n",
       "      <td>z_973_R</td>\n",
       "      <td>a_387_G</td>\n",
       "      <td>1.507039</td>\n",
       "      <td>0.989096</td>\n",
       "      <td>0.010904</td>\n",
       "    </tr>\n",
       "    <tr>\n",
       "      <th>1271379</th>\n",
       "      <td>z_973_R</td>\n",
       "      <td>k_128_V</td>\n",
       "      <td>1.505809</td>\n",
       "      <td>0.988917</td>\n",
       "      <td>0.011083</td>\n",
       "    </tr>\n",
       "    <tr>\n",
       "      <th>1270396</th>\n",
       "      <td>z_973_R</td>\n",
       "      <td>w_753_K</td>\n",
       "      <td>1.483782</td>\n",
       "      <td>0.985485</td>\n",
       "      <td>0.014515</td>\n",
       "    </tr>\n",
       "    <tr>\n",
       "      <th>1269622</th>\n",
       "      <td>z_973_R</td>\n",
       "      <td>q_500_O</td>\n",
       "      <td>1.482927</td>\n",
       "      <td>0.985337</td>\n",
       "      <td>0.014663</td>\n",
       "    </tr>\n",
       "    <tr>\n",
       "      <th>1269774</th>\n",
       "      <td>z_973_R</td>\n",
       "      <td>r_880_X</td>\n",
       "      <td>1.457102</td>\n",
       "      <td>0.980183</td>\n",
       "      <td>0.019817</td>\n",
       "    </tr>\n",
       "    <tr>\n",
       "      <th>1270696</th>\n",
       "      <td>z_973_R</td>\n",
       "      <td>o_951_D</td>\n",
       "      <td>1.451108</td>\n",
       "      <td>0.978852</td>\n",
       "      <td>0.021148</td>\n",
       "    </tr>\n",
       "    <tr>\n",
       "      <th>1271036</th>\n",
       "      <td>z_973_R</td>\n",
       "      <td>c_946_I</td>\n",
       "      <td>1.442751</td>\n",
       "      <td>0.976851</td>\n",
       "      <td>0.023149</td>\n",
       "    </tr>\n",
       "    <tr>\n",
       "      <th>1270591</th>\n",
       "      <td>z_973_R</td>\n",
       "      <td>u_973_N</td>\n",
       "      <td>1.439933</td>\n",
       "      <td>0.976151</td>\n",
       "      <td>0.023849</td>\n",
       "    </tr>\n",
       "    <tr>\n",
       "      <th>1269937</th>\n",
       "      <td>z_973_R</td>\n",
       "      <td>f_132_V</td>\n",
       "      <td>1.424375</td>\n",
       "      <td>0.971919</td>\n",
       "      <td>0.028081</td>\n",
       "    </tr>\n",
       "    <tr>\n",
       "      <th>1270278</th>\n",
       "      <td>z_973_R</td>\n",
       "      <td>s_456_N</td>\n",
       "      <td>1.424165</td>\n",
       "      <td>0.971856</td>\n",
       "      <td>0.028144</td>\n",
       "    </tr>\n",
       "    <tr>\n",
       "      <th>1270687</th>\n",
       "      <td>z_973_R</td>\n",
       "      <td>l_988_C</td>\n",
       "      <td>1.422354</td>\n",
       "      <td>0.971338</td>\n",
       "      <td>0.028662</td>\n",
       "    </tr>\n",
       "    <tr>\n",
       "      <th>1270210</th>\n",
       "      <td>z_973_R</td>\n",
       "      <td>z_771_V</td>\n",
       "      <td>1.422219</td>\n",
       "      <td>0.971292</td>\n",
       "      <td>0.028708</td>\n",
       "    </tr>\n",
       "    <tr>\n",
       "      <th>1269465</th>\n",
       "      <td>z_973_R</td>\n",
       "      <td>w_990_Q</td>\n",
       "      <td>1.420079</td>\n",
       "      <td>0.970653</td>\n",
       "      <td>0.029347</td>\n",
       "    </tr>\n",
       "    <tr>\n",
       "      <th>1269845</th>\n",
       "      <td>z_973_R</td>\n",
       "      <td>c_581_K</td>\n",
       "      <td>1.419521</td>\n",
       "      <td>0.970495</td>\n",
       "      <td>0.029505</td>\n",
       "    </tr>\n",
       "  </tbody>\n",
       "</table>\n",
       "</div>"
      ],
      "text/plain": [
       "           User1    User2  Distance    CumSum  InverseCumSum\n",
       "1271285  z_973_R  p_507_R  1.608379  0.997603       0.002397\n",
       "1270525  z_973_R  e_740_Z  1.602337  0.997322       0.002678\n",
       "1270748  z_973_R  p_685_L  1.559067  0.994697       0.005303\n",
       "1270978  z_973_R  k_260_D  1.523661  0.991288       0.008712\n",
       "1270138  z_973_R  r_936_Y  1.516787  0.990427       0.009573\n",
       "1269707  z_973_R  k_530_Z  1.512683  0.989872       0.010128\n",
       "1270258  z_973_R  a_387_G  1.507039  0.989096       0.010904\n",
       "1271379  z_973_R  k_128_V  1.505809  0.988917       0.011083\n",
       "1270396  z_973_R  w_753_K  1.483782  0.985485       0.014515\n",
       "1269622  z_973_R  q_500_O  1.482927  0.985337       0.014663\n",
       "1269774  z_973_R  r_880_X  1.457102  0.980183       0.019817\n",
       "1270696  z_973_R  o_951_D  1.451108  0.978852       0.021148\n",
       "1271036  z_973_R  c_946_I  1.442751  0.976851       0.023149\n",
       "1270591  z_973_R  u_973_N  1.439933  0.976151       0.023849\n",
       "1269937  z_973_R  f_132_V  1.424375  0.971919       0.028081\n",
       "1270278  z_973_R  s_456_N  1.424165  0.971856       0.028144\n",
       "1270687  z_973_R  l_988_C  1.422354  0.971338       0.028662\n",
       "1270210  z_973_R  z_771_V  1.422219  0.971292       0.028708\n",
       "1269465  z_973_R  w_990_Q  1.420079  0.970653       0.029347\n",
       "1269845  z_973_R  c_581_K  1.419521  0.970495       0.029505"
      ]
     },
     "execution_count": 25,
     "metadata": {
      "tags": []
     },
     "output_type": "execute_result"
    }
   ],
   "source": [
    "cum_sum_users = inverse_cum_sum(d_user, 'User')\n",
    "cum_sum_users.sort_values(by = ['User1', 'Distance'], ascending = False).head(20)"
   ]
  },
  {
   "cell_type": "code",
   "execution_count": 26,
   "metadata": {
    "colab": {
     "base_uri": "https://localhost:8080/",
     "height": 49
    },
    "id": "6Tqw_u8dYmJa",
    "outputId": "4ebc998f-f72f-4577-c900-e07c5d8866a1"
   },
   "outputs": [
    {
     "data": {
      "text/html": [
       "<div>\n",
       "<style scoped>\n",
       "    .dataframe tbody tr th:only-of-type {\n",
       "        vertical-align: middle;\n",
       "    }\n",
       "\n",
       "    .dataframe tbody tr th {\n",
       "        vertical-align: top;\n",
       "    }\n",
       "\n",
       "    .dataframe thead th {\n",
       "        text-align: right;\n",
       "    }\n",
       "</style>\n",
       "<table border=\"1\" class=\"dataframe\">\n",
       "  <thead>\n",
       "    <tr style=\"text-align: right;\">\n",
       "      <th></th>\n",
       "      <th>client</th>\n",
       "      <th>volume</th>\n",
       "      <th>product</th>\n",
       "      <th>action</th>\n",
       "      <th>ISIN</th>\n",
       "      <th>isin_verb</th>\n",
       "    </tr>\n",
       "  </thead>\n",
       "  <tbody>\n",
       "  </tbody>\n",
       "</table>\n",
       "</div>"
      ],
      "text/plain": [
       "Empty DataFrame\n",
       "Columns: [client, volume, product, action, ISIN, isin_verb]\n",
       "Index: []"
      ]
     },
     "execution_count": 26,
     "metadata": {
      "tags": []
     },
     "output_type": "execute_result"
    }
   ],
   "source": [
    "dft.loc[dft['client'] == 'z_981_N']"
   ]
  },
  {
   "cell_type": "code",
   "execution_count": 27,
   "metadata": {
    "colab": {
     "base_uri": "https://localhost:8080/",
     "height": 49
    },
    "id": "oF1YcBZqYrRz",
    "outputId": "515e0056-8400-4b92-b6fb-31b8e921986e"
   },
   "outputs": [
    {
     "data": {
      "text/html": [
       "<div>\n",
       "<style scoped>\n",
       "    .dataframe tbody tr th:only-of-type {\n",
       "        vertical-align: middle;\n",
       "    }\n",
       "\n",
       "    .dataframe tbody tr th {\n",
       "        vertical-align: top;\n",
       "    }\n",
       "\n",
       "    .dataframe thead th {\n",
       "        text-align: right;\n",
       "    }\n",
       "</style>\n",
       "<table border=\"1\" class=\"dataframe\">\n",
       "  <thead>\n",
       "    <tr style=\"text-align: right;\">\n",
       "      <th></th>\n",
       "      <th>client</th>\n",
       "      <th>volume</th>\n",
       "      <th>product</th>\n",
       "      <th>action</th>\n",
       "      <th>ISIN</th>\n",
       "      <th>isin_verb</th>\n",
       "    </tr>\n",
       "  </thead>\n",
       "  <tbody>\n",
       "  </tbody>\n",
       "</table>\n",
       "</div>"
      ],
      "text/plain": [
       "Empty DataFrame\n",
       "Columns: [client, volume, product, action, ISIN, isin_verb]\n",
       "Index: []"
      ]
     },
     "execution_count": 27,
     "metadata": {
      "tags": []
     },
     "output_type": "execute_result"
    }
   ],
   "source": [
    "dft.loc[dft['client'] == 'c_724_K']"
   ]
  },
  {
   "cell_type": "code",
   "execution_count": 28,
   "metadata": {
    "colab": {
     "base_uri": "https://localhost:8080/"
    },
    "id": "D7RS0FJHQ43Y",
    "outputId": "a2d28426-53ee-41f6-bae1-8964cfac4a6c"
   },
   "outputs": [
    {
     "data": {
      "text/plain": [
       "('m_944_R', 'v_695_G')"
      ]
     },
     "execution_count": 28,
     "metadata": {
      "tags": []
     },
     "output_type": "execute_result"
    }
   ],
   "source": [
    "r_user = cum_sum_users['User1'].sample(1).values[0]\n",
    "\n",
    "firsts = cum_sum_users.loc[cum_sum_users['User1'] == r_user].sort_values(by = ['User1', 'Distance'], ascending = False).head(2)\n",
    "lasts = cum_sum_users.loc[cum_sum_users['User1'] == r_user].sort_values(by = ['User1', 'Distance'], ascending = True).head(2)\n",
    "most_similar = firsts.head(1)['User2'].values[0]\n",
    "least_similar = lasts.head(1)['User2'].values[0]\n",
    "\n",
    "most_similar, least_similar"
   ]
  },
  {
   "cell_type": "code",
   "execution_count": 29,
   "metadata": {
    "colab": {
     "base_uri": "https://localhost:8080/",
     "height": 175
    },
    "id": "xxFh2qi3R1o2",
    "outputId": "94202d8f-079c-4a32-e895-c7dd8cd3ae38"
   },
   "outputs": [
    {
     "data": {
      "text/html": [
       "<div>\n",
       "<style scoped>\n",
       "    .dataframe tbody tr th:only-of-type {\n",
       "        vertical-align: middle;\n",
       "    }\n",
       "\n",
       "    .dataframe tbody tr th {\n",
       "        vertical-align: top;\n",
       "    }\n",
       "\n",
       "    .dataframe thead th {\n",
       "        text-align: right;\n",
       "    }\n",
       "</style>\n",
       "<table border=\"1\" class=\"dataframe\">\n",
       "  <thead>\n",
       "    <tr style=\"text-align: right;\">\n",
       "      <th></th>\n",
       "      <th>client</th>\n",
       "      <th>volume</th>\n",
       "      <th>product</th>\n",
       "      <th>action</th>\n",
       "      <th>ISIN</th>\n",
       "      <th>isin_verb</th>\n",
       "    </tr>\n",
       "  </thead>\n",
       "  <tbody>\n",
       "    <tr>\n",
       "      <th>10945</th>\n",
       "      <td>k_545_K</td>\n",
       "      <td>610000</td>\n",
       "      <td>Andorra_15-20y</td>\n",
       "      <td>BUY</td>\n",
       "      <td>BA5345678662</td>\n",
       "      <td>BA5345678662_BUY</td>\n",
       "    </tr>\n",
       "    <tr>\n",
       "      <th>10946</th>\n",
       "      <td>k_545_K</td>\n",
       "      <td>10000</td>\n",
       "      <td>Anguilla_20y</td>\n",
       "      <td>BUY</td>\n",
       "      <td>QG6822726146</td>\n",
       "      <td>QG6822726146_BUY</td>\n",
       "    </tr>\n",
       "    <tr>\n",
       "      <th>10947</th>\n",
       "      <td>k_545_K</td>\n",
       "      <td>310000</td>\n",
       "      <td>Bosnia &amp; Herzegovina_2-3y</td>\n",
       "      <td>BUY</td>\n",
       "      <td>ZT2060622447</td>\n",
       "      <td>ZT2060622447_BUY</td>\n",
       "    </tr>\n",
       "    <tr>\n",
       "      <th>10948</th>\n",
       "      <td>k_545_K</td>\n",
       "      <td>310000</td>\n",
       "      <td>Albania_5-10y</td>\n",
       "      <td>SELL</td>\n",
       "      <td>VT4285403780</td>\n",
       "      <td>VT4285403780_SELL</td>\n",
       "    </tr>\n",
       "  </tbody>\n",
       "</table>\n",
       "</div>"
      ],
      "text/plain": [
       "        client  volume  ...          ISIN          isin_verb\n",
       "10945  k_545_K  610000  ...  BA5345678662   BA5345678662_BUY\n",
       "10946  k_545_K   10000  ...  QG6822726146   QG6822726146_BUY\n",
       "10947  k_545_K  310000  ...  ZT2060622447   ZT2060622447_BUY\n",
       "10948  k_545_K  310000  ...  VT4285403780  VT4285403780_SELL\n",
       "\n",
       "[4 rows x 6 columns]"
      ]
     },
     "execution_count": 29,
     "metadata": {
      "tags": []
     },
     "output_type": "execute_result"
    }
   ],
   "source": [
    "dft.loc[dft['client'] == r_user]"
   ]
  },
  {
   "cell_type": "code",
   "execution_count": 30,
   "metadata": {
    "colab": {
     "base_uri": "https://localhost:8080/",
     "height": 112
    },
    "id": "K2zV19yFQ0jO",
    "outputId": "03f3635b-7d70-4b5a-c2bd-6620344dd76c"
   },
   "outputs": [
    {
     "data": {
      "text/html": [
       "<div>\n",
       "<style scoped>\n",
       "    .dataframe tbody tr th:only-of-type {\n",
       "        vertical-align: middle;\n",
       "    }\n",
       "\n",
       "    .dataframe tbody tr th {\n",
       "        vertical-align: top;\n",
       "    }\n",
       "\n",
       "    .dataframe thead th {\n",
       "        text-align: right;\n",
       "    }\n",
       "</style>\n",
       "<table border=\"1\" class=\"dataframe\">\n",
       "  <thead>\n",
       "    <tr style=\"text-align: right;\">\n",
       "      <th></th>\n",
       "      <th>client</th>\n",
       "      <th>volume</th>\n",
       "      <th>product</th>\n",
       "      <th>action</th>\n",
       "      <th>ISIN</th>\n",
       "      <th>isin_verb</th>\n",
       "    </tr>\n",
       "  </thead>\n",
       "  <tbody>\n",
       "    <tr>\n",
       "      <th>16533</th>\n",
       "      <td>v_695_G</td>\n",
       "      <td>310000</td>\n",
       "      <td>Antigua &amp; Barbuda_5-10y</td>\n",
       "      <td>BUY</td>\n",
       "      <td>IN4308346134</td>\n",
       "      <td>IN4308346134_BUY</td>\n",
       "    </tr>\n",
       "    <tr>\n",
       "      <th>16534</th>\n",
       "      <td>v_695_G</td>\n",
       "      <td>310000</td>\n",
       "      <td>Azerbaijan_1-5y</td>\n",
       "      <td>BUY</td>\n",
       "      <td>HM6041202705</td>\n",
       "      <td>HM6041202705_BUY</td>\n",
       "    </tr>\n",
       "  </tbody>\n",
       "</table>\n",
       "</div>"
      ],
      "text/plain": [
       "        client  volume  ...          ISIN         isin_verb\n",
       "16533  v_695_G  310000  ...  IN4308346134  IN4308346134_BUY\n",
       "16534  v_695_G  310000  ...  HM6041202705  HM6041202705_BUY\n",
       "\n",
       "[2 rows x 6 columns]"
      ]
     },
     "execution_count": 30,
     "metadata": {
      "tags": []
     },
     "output_type": "execute_result"
    }
   ],
   "source": [
    "dft.loc[dft['client'] == least_similar]"
   ]
  },
  {
   "cell_type": "code",
   "execution_count": 31,
   "metadata": {
    "colab": {
     "base_uri": "https://localhost:8080/",
     "height": 175
    },
    "id": "RKdEJd_TQWCv",
    "outputId": "c7d23715-650b-457f-a74f-cd631cbee281"
   },
   "outputs": [
    {
     "data": {
      "text/html": [
       "<div>\n",
       "<style scoped>\n",
       "    .dataframe tbody tr th:only-of-type {\n",
       "        vertical-align: middle;\n",
       "    }\n",
       "\n",
       "    .dataframe tbody tr th {\n",
       "        vertical-align: top;\n",
       "    }\n",
       "\n",
       "    .dataframe thead th {\n",
       "        text-align: right;\n",
       "    }\n",
       "</style>\n",
       "<table border=\"1\" class=\"dataframe\">\n",
       "  <thead>\n",
       "    <tr style=\"text-align: right;\">\n",
       "      <th></th>\n",
       "      <th>client</th>\n",
       "      <th>volume</th>\n",
       "      <th>product</th>\n",
       "      <th>action</th>\n",
       "      <th>ISIN</th>\n",
       "      <th>isin_verb</th>\n",
       "    </tr>\n",
       "  </thead>\n",
       "  <tbody>\n",
       "    <tr>\n",
       "      <th>10949</th>\n",
       "      <td>m_944_R</td>\n",
       "      <td>910000</td>\n",
       "      <td>United Arab Emirates_10-20y</td>\n",
       "      <td>BUY</td>\n",
       "      <td>YO5255252178</td>\n",
       "      <td>YO5255252178_BUY</td>\n",
       "    </tr>\n",
       "    <tr>\n",
       "      <th>10950</th>\n",
       "      <td>m_944_R</td>\n",
       "      <td>10000</td>\n",
       "      <td>Azerbaijan_1-5y</td>\n",
       "      <td>SELL</td>\n",
       "      <td>HM6041202705</td>\n",
       "      <td>HM6041202705_SELL</td>\n",
       "    </tr>\n",
       "    <tr>\n",
       "      <th>10951</th>\n",
       "      <td>m_944_R</td>\n",
       "      <td>910000</td>\n",
       "      <td>Burundi_20-25y</td>\n",
       "      <td>BUY</td>\n",
       "      <td>CO0011207172</td>\n",
       "      <td>CO0011207172_BUY</td>\n",
       "    </tr>\n",
       "    <tr>\n",
       "      <th>10952</th>\n",
       "      <td>m_944_R</td>\n",
       "      <td>910000</td>\n",
       "      <td>Samoa (American)_10-20y</td>\n",
       "      <td>SELL</td>\n",
       "      <td>VU5068243715</td>\n",
       "      <td>VU5068243715_SELL</td>\n",
       "    </tr>\n",
       "  </tbody>\n",
       "</table>\n",
       "</div>"
      ],
      "text/plain": [
       "        client  volume  ...          ISIN          isin_verb\n",
       "10949  m_944_R  910000  ...  YO5255252178   YO5255252178_BUY\n",
       "10950  m_944_R   10000  ...  HM6041202705  HM6041202705_SELL\n",
       "10951  m_944_R  910000  ...  CO0011207172   CO0011207172_BUY\n",
       "10952  m_944_R  910000  ...  VU5068243715  VU5068243715_SELL\n",
       "\n",
       "[4 rows x 6 columns]"
      ]
     },
     "execution_count": 31,
     "metadata": {
      "tags": []
     },
     "output_type": "execute_result"
    }
   ],
   "source": [
    "dft.loc[dft['client'] == most_similar]"
   ]
  },
  {
   "cell_type": "code",
   "execution_count": 32,
   "metadata": {
    "colab": {
     "base_uri": "https://localhost:8080/",
     "height": 206
    },
    "id": "2AOsMejHNJiE",
    "outputId": "93b9f083-f17b-4aa2-f53e-6f08cd11bb80"
   },
   "outputs": [
    {
     "data": {
      "text/html": [
       "<div>\n",
       "<style scoped>\n",
       "    .dataframe tbody tr th:only-of-type {\n",
       "        vertical-align: middle;\n",
       "    }\n",
       "\n",
       "    .dataframe tbody tr th {\n",
       "        vertical-align: top;\n",
       "    }\n",
       "\n",
       "    .dataframe thead th {\n",
       "        text-align: right;\n",
       "    }\n",
       "</style>\n",
       "<table border=\"1\" class=\"dataframe\">\n",
       "  <thead>\n",
       "    <tr style=\"text-align: right;\">\n",
       "      <th></th>\n",
       "      <th>client</th>\n",
       "      <th>isin_v</th>\n",
       "      <th>Promedio</th>\n",
       "    </tr>\n",
       "  </thead>\n",
       "  <tbody>\n",
       "    <tr>\n",
       "      <th>0</th>\n",
       "      <td>2284</td>\n",
       "      <td>151</td>\n",
       "      <td>1.584416</td>\n",
       "    </tr>\n",
       "    <tr>\n",
       "      <th>1</th>\n",
       "      <td>3029</td>\n",
       "      <td>108</td>\n",
       "      <td>1.000000</td>\n",
       "    </tr>\n",
       "    <tr>\n",
       "      <th>2</th>\n",
       "      <td>3029</td>\n",
       "      <td>44</td>\n",
       "      <td>0.643918</td>\n",
       "    </tr>\n",
       "    <tr>\n",
       "      <th>3</th>\n",
       "      <td>3029</td>\n",
       "      <td>127</td>\n",
       "      <td>2.261954</td>\n",
       "    </tr>\n",
       "    <tr>\n",
       "      <th>4</th>\n",
       "      <td>3029</td>\n",
       "      <td>233</td>\n",
       "      <td>0.020619</td>\n",
       "    </tr>\n",
       "  </tbody>\n",
       "</table>\n",
       "</div>"
      ],
      "text/plain": [
       "   client  isin_v  Promedio\n",
       "0    2284     151  1.584416\n",
       "1    3029     108  1.000000\n",
       "2    3029      44  0.643918\n",
       "3    3029     127  2.261954\n",
       "4    3029     233  0.020619"
      ]
     },
     "execution_count": 32,
     "metadata": {
      "tags": []
     },
     "output_type": "execute_result"
    }
   ],
   "source": [
    "df_als = pd.DataFrame({'client': data['client'], 'isin_v' : data['isin_verb'],  'Promedio': data['Promedio']})\n",
    "df_als.head()"
   ]
  },
  {
   "cell_type": "code",
   "execution_count": 33,
   "metadata": {
    "colab": {
     "base_uri": "https://localhost:8080/"
    },
    "id": "LppirM-ELCYk",
    "outputId": "8512c347-9fc0-4d46-da7e-3d96b99e750a"
   },
   "outputs": [
    {
     "name": "stdout",
     "output_type": "stream",
     "text": [
      "Requirement already satisfied: pyspark in /usr/local/lib/python3.7/dist-packages (3.1.1)\n",
      "Requirement already satisfied: py4j==0.10.9 in /usr/local/lib/python3.7/dist-packages (from pyspark) (0.10.9)\n"
     ]
    }
   ],
   "source": [
    "!pip install pyspark"
   ]
  },
  {
   "cell_type": "code",
   "execution_count": 34,
   "metadata": {
    "id": "BG5PI92vK-33"
   },
   "outputs": [],
   "source": [
    "train, test = df_als.iloc[0:int(0.8 * df_als.shape[0])], df_als.iloc[int(0.8 * df_als.shape[0]):]\n",
    "\n",
    "train.to_csv('train.csv', sep = '|', header=True, index=False)\n",
    "train.to_csv('test.csv', sep = '|', header=True, index=False)"
   ]
  },
  {
   "cell_type": "code",
   "execution_count": 35,
   "metadata": {
    "colab": {
     "base_uri": "https://localhost:8080/"
    },
    "id": "XIbnYPl76u-1",
    "outputId": "3662efc7-4912-4aad-8454-66260443a40f"
   },
   "outputs": [
    {
     "name": "stdout",
     "output_type": "stream",
     "text": [
      "+------+------+------------------+\n",
      "|client|isin_v|          Promedio|\n",
      "+------+------+------------------+\n",
      "|  2284|   151|1.5844155844155845|\n",
      "|  3029|   108|               1.0|\n",
      "|  3029|    44|0.6439176782405677|\n",
      "+------+------+------------------+\n",
      "only showing top 3 rows\n",
      "\n"
     ]
    }
   ],
   "source": [
    "import pyspark\n",
    "from pyspark.sql import SparkSession\n",
    "\n",
    "spark = SparkSession \\\n",
    "    .builder \\\n",
    "    .appName(\"RECOMENDER\") \\\n",
    "    .config('spark.driver.memory','2G') \\\n",
    "    .master('local[1]') \\\n",
    "    .getOrCreate()\n",
    "\n",
    "df_train, df_test = spark.read.csv('train.csv', header=True,sep=\"|\", inferSchema=True), spark.read.csv('test.csv', header=True, sep=\"|\", inferSchema=True)\n",
    "df_train.show(3)"
   ]
  },
  {
   "cell_type": "code",
   "execution_count": 47,
   "metadata": {
    "colab": {
     "base_uri": "https://localhost:8080/"
    },
    "id": "wesjrhCl6w0B",
    "outputId": "ac98df03-2766-41b4-ed22-e811b680cc70"
   },
   "outputs": [
    {
     "name": "stdout",
     "output_type": "stream",
     "text": [
      "Root-mean-square error = 0.15575720796745574\n"
     ]
    }
   ],
   "source": [
    "from pyspark.ml.evaluation import RegressionEvaluator\n",
    "from pyspark.ml.recommendation import ALS\n",
    "from pyspark.sql import Row\n",
    "\n",
    "\n",
    "# Build the recommendation model using ALS on the training data\n",
    "# Note we set cold start strategy to 'drop' to ensure we don't get NaN evaluation metrics\n",
    "als = ALS(maxIter=20, regParam=0.001, userCol=\"client\", itemCol=\"isin_v\", ratingCol=\"Promedio\",\n",
    "          coldStartStrategy=\"drop\")\n",
    "model = als.fit(df_train)\n",
    "\n",
    "# Evaluate the model by computing the RMSE on the test data\n",
    "predictions = model.transform(df_test)\n",
    "evaluator = RegressionEvaluator(metricName=\"rmse\", labelCol=\"Promedio\",\n",
    "                                predictionCol=\"prediction\")\n",
    "rmse = evaluator.evaluate(predictions)\n",
    "print(\"Root-mean-square error = \" + str(rmse))\n",
    "\n",
    "# Generate top 10 products recommendations for each user\n",
    "userProducts = model.recommendForAllUsers(10)"
   ]
  },
  {
   "cell_type": "code",
   "execution_count": 50,
   "metadata": {
    "colab": {
     "base_uri": "https://localhost:8080/",
     "height": 363
    },
    "id": "v89KPcB8_C2U",
    "outputId": "9be3438d-bd1a-44e8-fd2a-5c44f3974d5b"
   },
   "outputs": [
    {
     "data": {
      "text/html": [
       "<div>\n",
       "<style scoped>\n",
       "    .dataframe tbody tr th:only-of-type {\n",
       "        vertical-align: middle;\n",
       "    }\n",
       "\n",
       "    .dataframe tbody tr th {\n",
       "        vertical-align: top;\n",
       "    }\n",
       "\n",
       "    .dataframe thead th {\n",
       "        text-align: right;\n",
       "    }\n",
       "</style>\n",
       "<table border=\"1\" class=\"dataframe\">\n",
       "  <thead>\n",
       "    <tr style=\"text-align: right;\">\n",
       "      <th></th>\n",
       "      <th>client</th>\n",
       "      <th>volume</th>\n",
       "      <th>product</th>\n",
       "      <th>action</th>\n",
       "      <th>ISIN</th>\n",
       "      <th>isin_verb</th>\n",
       "      <th>Mean</th>\n",
       "      <th>Promedio</th>\n",
       "    </tr>\n",
       "  </thead>\n",
       "  <tbody>\n",
       "    <tr>\n",
       "      <th>7706</th>\n",
       "      <td>1580</td>\n",
       "      <td>910000</td>\n",
       "      <td>Antigua &amp; Barbuda_5-10y</td>\n",
       "      <td>BUY</td>\n",
       "      <td>IN4308346134</td>\n",
       "      <td>60</td>\n",
       "      <td>486086</td>\n",
       "      <td>1.872097</td>\n",
       "    </tr>\n",
       "    <tr>\n",
       "      <th>7707</th>\n",
       "      <td>1580</td>\n",
       "      <td>910000</td>\n",
       "      <td>Angola_20y</td>\n",
       "      <td>SELL</td>\n",
       "      <td>ND8628628207</td>\n",
       "      <td>87</td>\n",
       "      <td>499393</td>\n",
       "      <td>1.822212</td>\n",
       "    </tr>\n",
       "    <tr>\n",
       "      <th>7708</th>\n",
       "      <td>1580</td>\n",
       "      <td>910000</td>\n",
       "      <td>Angola_20y</td>\n",
       "      <td>SELL</td>\n",
       "      <td>ND8628628207</td>\n",
       "      <td>87</td>\n",
       "      <td>499393</td>\n",
       "      <td>1.822212</td>\n",
       "    </tr>\n",
       "    <tr>\n",
       "      <th>7709</th>\n",
       "      <td>1580</td>\n",
       "      <td>10000</td>\n",
       "      <td>Antigua &amp; Barbuda_5-10y</td>\n",
       "      <td>SELL</td>\n",
       "      <td>IN4308346134</td>\n",
       "      <td>61</td>\n",
       "      <td>480689</td>\n",
       "      <td>0.020803</td>\n",
       "    </tr>\n",
       "    <tr>\n",
       "      <th>7710</th>\n",
       "      <td>1580</td>\n",
       "      <td>910000</td>\n",
       "      <td>Austria_5y</td>\n",
       "      <td>BUY</td>\n",
       "      <td>VP7805754585</td>\n",
       "      <td>192</td>\n",
       "      <td>438089</td>\n",
       "      <td>2.077203</td>\n",
       "    </tr>\n",
       "    <tr>\n",
       "      <th>7711</th>\n",
       "      <td>1580</td>\n",
       "      <td>310000</td>\n",
       "      <td>Bosnia &amp; Herzegovina_2-3y</td>\n",
       "      <td>SELL</td>\n",
       "      <td>ZT2060622447</td>\n",
       "      <td>245</td>\n",
       "      <td>460000</td>\n",
       "      <td>0.673913</td>\n",
       "    </tr>\n",
       "    <tr>\n",
       "      <th>7712</th>\n",
       "      <td>1580</td>\n",
       "      <td>610000</td>\n",
       "      <td>Burkina Faso_20-25y</td>\n",
       "      <td>BUY</td>\n",
       "      <td>EC6630847781</td>\n",
       "      <td>34</td>\n",
       "      <td>471016</td>\n",
       "      <td>1.295073</td>\n",
       "    </tr>\n",
       "    <tr>\n",
       "      <th>7713</th>\n",
       "      <td>1580</td>\n",
       "      <td>310000</td>\n",
       "      <td>Anguilla_20y</td>\n",
       "      <td>BUY</td>\n",
       "      <td>QG6822726146</td>\n",
       "      <td>132</td>\n",
       "      <td>479035</td>\n",
       "      <td>0.647134</td>\n",
       "    </tr>\n",
       "    <tr>\n",
       "      <th>7714</th>\n",
       "      <td>1580</td>\n",
       "      <td>910000</td>\n",
       "      <td>Anguilla_20y</td>\n",
       "      <td>BUY</td>\n",
       "      <td>QG6822726146</td>\n",
       "      <td>132</td>\n",
       "      <td>479035</td>\n",
       "      <td>1.899652</td>\n",
       "    </tr>\n",
       "    <tr>\n",
       "      <th>7715</th>\n",
       "      <td>1580</td>\n",
       "      <td>910000</td>\n",
       "      <td>Antarctica_10-15y</td>\n",
       "      <td>SELL</td>\n",
       "      <td>YX4135205087</td>\n",
       "      <td>237</td>\n",
       "      <td>476666</td>\n",
       "      <td>1.909094</td>\n",
       "    </tr>\n",
       "  </tbody>\n",
       "</table>\n",
       "</div>"
      ],
      "text/plain": [
       "      client  volume                    product  ... isin_verb    Mean  Promedio\n",
       "7706    1580  910000    Antigua & Barbuda_5-10y  ...        60  486086  1.872097\n",
       "7707    1580  910000                 Angola_20y  ...        87  499393  1.822212\n",
       "7708    1580  910000                 Angola_20y  ...        87  499393  1.822212\n",
       "7709    1580   10000    Antigua & Barbuda_5-10y  ...        61  480689  0.020803\n",
       "7710    1580  910000                 Austria_5y  ...       192  438089  2.077203\n",
       "7711    1580  310000  Bosnia & Herzegovina_2-3y  ...       245  460000  0.673913\n",
       "7712    1580  610000        Burkina Faso_20-25y  ...        34  471016  1.295073\n",
       "7713    1580  310000               Anguilla_20y  ...       132  479035  0.647134\n",
       "7714    1580  910000               Anguilla_20y  ...       132  479035  1.899652\n",
       "7715    1580  910000          Antarctica_10-15y  ...       237  476666  1.909094\n",
       "\n",
       "[10 rows x 8 columns]"
      ]
     },
     "execution_count": 50,
     "metadata": {
      "tags": []
     },
     "output_type": "execute_result"
    }
   ],
   "source": [
    "data[data['client'] == 1580]"
   ]
  },
  {
   "cell_type": "code",
   "execution_count": 48,
   "metadata": {
    "colab": {
     "base_uri": "https://localhost:8080/"
    },
    "id": "ToFp_XwU61E6",
    "outputId": "c48b85fd-e587-49ad-a35a-8d11078c04b6"
   },
   "outputs": [
    {
     "name": "stdout",
     "output_type": "stream",
     "text": [
      " Products recommended for user 1580: \n",
      " Product number 0 --->  kr_WBB\n",
      " Product number 1 --->  fx_CHF\n",
      " Product number 2 --->  kr_XSI\n",
      " Product number 3 --->  fx_RUB\n",
      " Product number 4 --->  fx_TRY\n",
      " Product number 5 --->  kr_WBB\n",
      " Product number 6 --->  fx_GBP\n",
      " Product number 7 --->  kr_XTC\n",
      " Product number 8 --->  fx_ILS\n",
      " Product number 9 --->  kr_XVC\n"
     ]
    }
   ],
   "source": [
    "query_user = 1580\n",
    "prs = userProducts.filter(userProducts.client == query_user).collect()[0][1]\n",
    "dict_prods = data[['isin_verb', 'product']].drop_duplicates().set_index('isin_verb').to_dict()\n",
    "\n",
    "\n",
    "print(f\" Products recommended for user {query_user}: \")\n",
    "\n",
    "for index, pr in enumerate(prs):\n",
    "  print(f\" Product number {index} --->  {dict_prods['product'][pr[0]]}\")"
   ]
  },
  {
   "cell_type": "code",
   "execution_count": 52,
   "metadata": {
    "colab": {
     "base_uri": "https://localhost:8080/",
     "height": 175
    },
    "id": "mgN_UiVP_qzM",
    "outputId": "bfb1fa0a-1ba2-4d5a-f348-f443e28a4af4"
   },
   "outputs": [
    {
     "data": {
      "text/html": [
       "<div>\n",
       "<style scoped>\n",
       "    .dataframe tbody tr th:only-of-type {\n",
       "        vertical-align: middle;\n",
       "    }\n",
       "\n",
       "    .dataframe tbody tr th {\n",
       "        vertical-align: top;\n",
       "    }\n",
       "\n",
       "    .dataframe thead th {\n",
       "        text-align: right;\n",
       "    }\n",
       "</style>\n",
       "<table border=\"1\" class=\"dataframe\">\n",
       "  <thead>\n",
       "    <tr style=\"text-align: right;\">\n",
       "      <th></th>\n",
       "      <th>client</th>\n",
       "      <th>volume</th>\n",
       "      <th>product</th>\n",
       "      <th>action</th>\n",
       "      <th>ISIN</th>\n",
       "      <th>isin_verb</th>\n",
       "      <th>Mean</th>\n",
       "      <th>Promedio</th>\n",
       "    </tr>\n",
       "  </thead>\n",
       "  <tbody>\n",
       "    <tr>\n",
       "      <th>1871</th>\n",
       "      <td>222</td>\n",
       "      <td>610000</td>\n",
       "      <td>kr_STV</td>\n",
       "      <td>BUY</td>\n",
       "      <td>BT4735130183</td>\n",
       "      <td>14</td>\n",
       "      <td>505652</td>\n",
       "      <td>1.206363</td>\n",
       "    </tr>\n",
       "    <tr>\n",
       "      <th>1872</th>\n",
       "      <td>222</td>\n",
       "      <td>610000</td>\n",
       "      <td>kr_AMBER</td>\n",
       "      <td>SELL</td>\n",
       "      <td>VO1522754405</td>\n",
       "      <td>191</td>\n",
       "      <td>514545</td>\n",
       "      <td>1.185513</td>\n",
       "    </tr>\n",
       "    <tr>\n",
       "      <th>1873</th>\n",
       "      <td>222</td>\n",
       "      <td>10000</td>\n",
       "      <td>kr_GRC</td>\n",
       "      <td>SELL</td>\n",
       "      <td>CV5710306102</td>\n",
       "      <td>25</td>\n",
       "      <td>496666</td>\n",
       "      <td>0.020134</td>\n",
       "    </tr>\n",
       "    <tr>\n",
       "      <th>1874</th>\n",
       "      <td>222</td>\n",
       "      <td>10000</td>\n",
       "      <td>kr_NKT</td>\n",
       "      <td>BUY</td>\n",
       "      <td>JR0826457486</td>\n",
       "      <td>68</td>\n",
       "      <td>490000</td>\n",
       "      <td>0.020408</td>\n",
       "    </tr>\n",
       "  </tbody>\n",
       "</table>\n",
       "</div>"
      ],
      "text/plain": [
       "      client  volume   product  ... isin_verb    Mean  Promedio\n",
       "1871     222  610000    kr_STV  ...        14  505652  1.206363\n",
       "1872     222  610000  kr_AMBER  ...       191  514545  1.185513\n",
       "1873     222   10000    kr_GRC  ...        25  496666  0.020134\n",
       "1874     222   10000    kr_NKT  ...        68  490000  0.020408\n",
       "\n",
       "[4 rows x 8 columns]"
      ]
     },
     "execution_count": 52,
     "metadata": {
      "tags": []
     },
     "output_type": "execute_result"
    }
   ],
   "source": [
    "data[data['client'] == 222]"
   ]
  },
  {
   "cell_type": "code",
   "execution_count": 51,
   "metadata": {
    "colab": {
     "base_uri": "https://localhost:8080/"
    },
    "id": "i_f5AJWPKDde",
    "outputId": "6ae34cc3-cd91-4629-8579-d061b4d12194"
   },
   "outputs": [
    {
     "name": "stdout",
     "output_type": "stream",
     "text": [
      " Products recommended for user 222: \n",
      " Product number 0 --->  fx_MXN\n",
      " Product number 1 --->  fx_IDR\n",
      " Product number 2 --->  fx_THB\n",
      " Product number 3 --->  fx_HKD\n",
      " Product number 4 --->  fx_MYR\n",
      " Product number 5 --->  fx_NZD\n",
      " Product number 6 --->  fx_PHP\n",
      " Product number 7 --->  Qualys, Inc. - Common Stock_10y\n",
      " Product number 8 --->  kr_STV\n",
      " Product number 9 --->  kr_AMBER\n"
     ]
    }
   ],
   "source": [
    "query_user = 222\n",
    "prs = userProducts.filter(userProducts.client == query_user).collect()[0][1]\n",
    "dict_prods = data[['isin_verb', 'product']].drop_duplicates().set_index('isin_verb').to_dict()\n",
    "\n",
    "\n",
    "print(f\" Products recommended for user {query_user}: \")\n",
    "\n",
    "for index, pr in enumerate(prs):\n",
    "  print(f\" Product number {index} --->  {dict_prods['product'][pr[0]]}\")"
   ]
  },
  {
   "cell_type": "code",
   "execution_count": 56,
   "metadata": {
    "colab": {
     "base_uri": "https://localhost:8080/",
     "height": 81
    },
    "id": "OWYKz1oLIftI",
    "outputId": "cf3a5956-b72a-475a-d278-44d6bc5e7f02"
   },
   "outputs": [
    {
     "data": {
      "text/html": [
       "<div>\n",
       "<style scoped>\n",
       "    .dataframe tbody tr th:only-of-type {\n",
       "        vertical-align: middle;\n",
       "    }\n",
       "\n",
       "    .dataframe tbody tr th {\n",
       "        vertical-align: top;\n",
       "    }\n",
       "\n",
       "    .dataframe thead th {\n",
       "        text-align: right;\n",
       "    }\n",
       "</style>\n",
       "<table border=\"1\" class=\"dataframe\">\n",
       "  <thead>\n",
       "    <tr style=\"text-align: right;\">\n",
       "      <th></th>\n",
       "      <th>client</th>\n",
       "      <th>volume</th>\n",
       "      <th>product</th>\n",
       "      <th>action</th>\n",
       "      <th>ISIN</th>\n",
       "      <th>isin_verb</th>\n",
       "      <th>Mean</th>\n",
       "      <th>Promedio</th>\n",
       "    </tr>\n",
       "  </thead>\n",
       "  <tbody>\n",
       "    <tr>\n",
       "      <th>1421</th>\n",
       "      <td>100</td>\n",
       "      <td>310000</td>\n",
       "      <td>kr_8BIT</td>\n",
       "      <td>BUY</td>\n",
       "      <td>SX5173174584</td>\n",
       "      <td>154</td>\n",
       "      <td>512500</td>\n",
       "      <td>0.604878</td>\n",
       "    </tr>\n",
       "  </tbody>\n",
       "</table>\n",
       "</div>"
      ],
      "text/plain": [
       "      client  volume  product action          ISIN  isin_verb    Mean  Promedio\n",
       "1421     100  310000  kr_8BIT    BUY  SX5173174584        154  512500  0.604878"
      ]
     },
     "execution_count": 56,
     "metadata": {
      "tags": []
     },
     "output_type": "execute_result"
    }
   ],
   "source": [
    "data[data['client'] == 100]"
   ]
  },
  {
   "cell_type": "code",
   "execution_count": 55,
   "metadata": {
    "colab": {
     "base_uri": "https://localhost:8080/"
    },
    "id": "tNxuoRL7IeUn",
    "outputId": "2626ca19-0370-4959-c2ff-0e287886675d"
   },
   "outputs": [
    {
     "name": "stdout",
     "output_type": "stream",
     "text": [
      " Products recommended for user 1: \n",
      " Product number 0 --->  fx_BRL\n",
      " Product number 1 --->  Pacer Trendpilot US Bond ETF_5y\n",
      " Product number 2 --->  ProShares RAFI Long Short ETF_30y\n",
      " Product number 3 --->  Defiance Quantum ETF_2-3y\n",
      " Product number 4 --->  kr_XVC\n",
      " Product number 5 --->  kr_SLING\n",
      " Product number 6 --->  Invesco VRDO Tax-Free ETF_5y\n",
      " Product number 7 --->  kr_8BIT\n",
      " Product number 8 --->  ProShares RAFI Long Short ETF_30y\n",
      " Product number 9 --->  kr_XSI\n"
     ]
    }
   ],
   "source": [
    "query_user = 1\n",
    "prs = userProducts.filter(userProducts.client == query_user).collect()[0][1]\n",
    "dict_prods = data[['isin_verb', 'product']].drop_duplicates().set_index('isin_verb').to_dict()\n",
    "\n",
    "\n",
    "print(f\" Products recommended for user {query_user}: \")\n",
    "\n",
    "for index, pr in enumerate(prs):\n",
    "  print(f\" Product number {index} --->  {dict_prods['product'][pr[0]]}\")"
   ]
  },
  {
   "cell_type": "code",
   "execution_count": null,
   "metadata": {
    "id": "UN6eoS1-ITOw"
   },
   "outputs": [],
   "source": []
  },
  {
   "cell_type": "code",
   "execution_count": null,
   "metadata": {
    "id": "yjQoZmDTHChS"
   },
   "outputs": [],
   "source": []
  },
  {
   "cell_type": "code",
   "execution_count": null,
   "metadata": {
    "id": "Xmy92GJqFTMa"
   },
   "outputs": [],
   "source": []
  },
  {
   "cell_type": "code",
   "execution_count": 31,
   "metadata": {
    "id": "nBQhq6mUFTS3"
   },
   "outputs": [
    {
     "data": {
      "text/html": [
       "<div>\n",
       "<style scoped>\n",
       "    .dataframe tbody tr th:only-of-type {\n",
       "        vertical-align: middle;\n",
       "    }\n",
       "\n",
       "    .dataframe tbody tr th {\n",
       "        vertical-align: top;\n",
       "    }\n",
       "\n",
       "    .dataframe thead th {\n",
       "        text-align: right;\n",
       "    }\n",
       "</style>\n",
       "<table border=\"1\" class=\"dataframe\">\n",
       "  <thead>\n",
       "    <tr style=\"text-align: right;\">\n",
       "      <th></th>\n",
       "      <th>client</th>\n",
       "      <th>volume</th>\n",
       "      <th>product</th>\n",
       "      <th>action</th>\n",
       "      <th>ISIN</th>\n",
       "      <th>isin_verb</th>\n",
       "      <th>Mean</th>\n",
       "      <th>Promedio</th>\n",
       "    </tr>\n",
       "  </thead>\n",
       "  <tbody>\n",
       "    <tr>\n",
       "      <th>0</th>\n",
       "      <td>t_391_L</td>\n",
       "      <td>610000</td>\n",
       "      <td>fx_CAD</td>\n",
       "      <td>BUY</td>\n",
       "      <td>EC0026456062</td>\n",
       "      <td>EC0026456062_BUY</td>\n",
       "      <td>400000</td>\n",
       "      <td>1.525000</td>\n",
       "    </tr>\n",
       "    <tr>\n",
       "      <th>1</th>\n",
       "      <td>t_391_L</td>\n",
       "      <td>10000</td>\n",
       "      <td>fx_THB</td>\n",
       "      <td>SELL</td>\n",
       "      <td>FP0827834135</td>\n",
       "      <td>FP0827834135_SELL</td>\n",
       "      <td>385000</td>\n",
       "      <td>0.025974</td>\n",
       "    </tr>\n",
       "    <tr>\n",
       "      <th>2</th>\n",
       "      <td>t_391_L</td>\n",
       "      <td>10000</td>\n",
       "      <td>fx_JPY</td>\n",
       "      <td>SELL</td>\n",
       "      <td>RE8007070338</td>\n",
       "      <td>RE8007070338_SELL</td>\n",
       "      <td>370000</td>\n",
       "      <td>0.027027</td>\n",
       "    </tr>\n",
       "    <tr>\n",
       "      <th>3</th>\n",
       "      <td>t_391_L</td>\n",
       "      <td>310000</td>\n",
       "      <td>fx_NZD</td>\n",
       "      <td>BUY</td>\n",
       "      <td>MB6443040517</td>\n",
       "      <td>MB6443040517_BUY</td>\n",
       "      <td>572500</td>\n",
       "      <td>0.541485</td>\n",
       "    </tr>\n",
       "    <tr>\n",
       "      <th>4</th>\n",
       "      <td>t_391_L</td>\n",
       "      <td>10000</td>\n",
       "      <td>fx_DKK</td>\n",
       "      <td>SELL</td>\n",
       "      <td>FQ2840854502</td>\n",
       "      <td>FQ2840854502_SELL</td>\n",
       "      <td>535000</td>\n",
       "      <td>0.018692</td>\n",
       "    </tr>\n",
       "    <tr>\n",
       "      <th>5</th>\n",
       "      <td>t_391_L</td>\n",
       "      <td>610000</td>\n",
       "      <td>fx_AUD</td>\n",
       "      <td>SELL</td>\n",
       "      <td>ME8813151016</td>\n",
       "      <td>ME8813151016_SELL</td>\n",
       "      <td>430000</td>\n",
       "      <td>1.418605</td>\n",
       "    </tr>\n",
       "    <tr>\n",
       "      <th>6</th>\n",
       "      <td>t_391_L</td>\n",
       "      <td>610000</td>\n",
       "      <td>fx_DKK</td>\n",
       "      <td>SELL</td>\n",
       "      <td>FQ2840854502</td>\n",
       "      <td>FQ2840854502_SELL</td>\n",
       "      <td>535000</td>\n",
       "      <td>1.140187</td>\n",
       "    </tr>\n",
       "  </tbody>\n",
       "</table>\n",
       "</div>"
      ],
      "text/plain": [
       "    client  volume product action          ISIN          isin_verb    Mean  \\\n",
       "0  t_391_L  610000  fx_CAD    BUY  EC0026456062   EC0026456062_BUY  400000   \n",
       "1  t_391_L   10000  fx_THB   SELL  FP0827834135  FP0827834135_SELL  385000   \n",
       "2  t_391_L   10000  fx_JPY   SELL  RE8007070338  RE8007070338_SELL  370000   \n",
       "3  t_391_L  310000  fx_NZD    BUY  MB6443040517   MB6443040517_BUY  572500   \n",
       "4  t_391_L   10000  fx_DKK   SELL  FQ2840854502  FQ2840854502_SELL  535000   \n",
       "5  t_391_L  610000  fx_AUD   SELL  ME8813151016  ME8813151016_SELL  430000   \n",
       "6  t_391_L  610000  fx_DKK   SELL  FQ2840854502  FQ2840854502_SELL  535000   \n",
       "\n",
       "   Promedio  \n",
       "0  1.525000  \n",
       "1  0.025974  \n",
       "2  0.027027  \n",
       "3  0.541485  \n",
       "4  0.018692  \n",
       "5  1.418605  \n",
       "6  1.140187  "
      ]
     },
     "execution_count": 31,
     "metadata": {},
     "output_type": "execute_result"
    }
   ],
   "source": [
    "data.head(7)"
   ]
  }
 ],
 "metadata": {
  "colab": {
   "collapsed_sections": [],
   "name": "MF2.ipynb",
   "provenance": []
  },
  "kernelspec": {
   "display_name": "Python 3",
   "language": "python",
   "name": "python3"
  },
  "language_info": {
   "codemirror_mode": {
    "name": "ipython",
    "version": 3
   },
   "file_extension": ".py",
   "mimetype": "text/x-python",
   "name": "python",
   "nbconvert_exporter": "python",
   "pygments_lexer": "ipython3",
   "version": "3.8.5"
  }
 },
 "nbformat": 4,
 "nbformat_minor": 1
}
