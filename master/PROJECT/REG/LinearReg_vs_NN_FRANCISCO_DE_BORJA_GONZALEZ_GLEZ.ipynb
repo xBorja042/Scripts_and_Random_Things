{
 "cells": [
  {
   "cell_type": "markdown",
   "metadata": {},
   "source": [
    "# Machine Learning: Regression\n",
    "\n",
    "## 1. The dataset\n",
    "\n",
    "### NYC Property Sales: A year's worth of properties sold on the NYC real estate market\n",
    "\n",
    "The nyc-rolling-sales.csv.zip (2 Mb) is a record of every building or building unit (apartment, etc.) sold in the New York City property market over a 12-month period from September 2016 to September 2017. It contains the following features:\n",
    "\n",
    "* **Borough: (N)** The name of the borough in which the property is located. A digit code for the borough the property is located in; in order these are Manhattan (1), Bronx (2), Brooklyn (3), Queens (4), and Staten Island (5).\n",
    "* **Neighborhood: (S)** Department of Finance assessors determine the neighborhood name in the course of valuing properties. The common name of the neighborhood is generally the same as the name Finance designates. However, there may be slight differences in neighborhood boundary lines and some sub-neighborhoods may not be included. \n",
    "* **Building Class Category: (S)** This is a field that we are including so that users of the Rolling Sales Files can easily identify similar properties by broad usage (e.g. One Family Homes) without looking up individual Building Classes. Files are sorted by Borough, Neighborhood, Building Class Category, Block and Lot.\n",
    "* **Tax Class at Present: (N)** Every property in the city is assigned to one of four tax classes (Classes 1, 2, 3, and 4), based on the use of the property.\n",
    "    * *Class 1:* Includes most residential property of up to three units (such as one-, two-, and three-family homes and small stores or offices with one or two attached apartments), vacant land that is zoned for residential use, and most condominiums that are not more than three stories.\n",
    "     * *Class 2:* Includes all other property that is primarily residential, such as cooperatives and condominiums.\n",
    "     * *Class 3:* Includes property with equipment owned by a gas, telephone or electric company.\n",
    "     * *Class 4:* Includes all other properties not included in class 1,2, and 3, such as offices, factories, warehouses, garage buildings, etc.\n",
    "* **Block: (N)** A Tax Block is a sub-division of the borough on which real properties are located. The Department of Finance uses a Borough-Block-Lot classification to label all real property in the City. “Whereas” addresses describe the street location of a property, the block and lot distinguishes one unit of real property from another, such as the different condominiums in a single building. Also, block and lots are not subject to name changes based on which side of the parcel the building puts its entrance on. \n",
    "* **Lot: (N)** A Tax Lot is a subdivision of a Tax Block and represents the property unique location. The combination of borough, block, and lot forms a unique key for property in New York City. Commonly called a BBL.\n",
    "* **Easement: (S)** An easement is a right, such as a right of way, which allows an entity to make limited use of another’s real property. For example: MTA railroad tracks that run across a portion of another property. \n",
    "* **Building Class at Present: (S)** The Building Classification is used to describe a property’s constructive use. The first position of the Building Class is a letter that is used to describe a general class of properties (for example “A” signifies one-family homes, “O” signifies office buildings. “R” signifies condominiums). The second position, a number, adds more specific information about the property’s use or construction style (using our previous examples “A0” is a Cape Cod style one family home, “O4” is a tower type office building and “R5” is a commercial condominium unit). The term Building Class used by the Department of Finance is interchangeable with the term Building Code used by the Department of Buildings.\n",
    "* **Address: (S)** The street address of the property as listed on the Sales File. Coop sales include the apartment number in the address field. \n",
    "* **Apartement Number (S)**\n",
    "* **Zip Code: (N)** The property’s postal code \n",
    "* **Residential Units: (N)** The number of residential units at the listed property.\n",
    "* **Commercial Units: (N)** The number of commercial units at the listed property.\n",
    "* **Total Units: (N)** The total number of units at the listed property.\n",
    "* **Land Square Feet: (N)** The land area of the property listed in square feet.\n",
    "* **Gross Square Feet: (N)** The total area of all the floors of a building as measured from the exterior surfaces of the outside walls of the building, including the land area and space within any building or structure on the property. \n",
    "* **Year Built: (N)** Year the structure on the property was built. \n",
    "* **Tax Class at Time of Sale (N)**\n",
    "* **Building Class at Time of Sale: (S)** \n",
    "* **Sales Price: (N)** Price paid for the property. A $0$ sale indicates that there was a transfer of ownership without a cash consideration. There can be a number of reasons for a $0$ sale including transfers of ownership from parents to children. \n",
    "* **Sale Date: (D)** Date the property sold.\n",
    "\n",
    "Note: (N): number, (S): string, (D): date\n"
   ]
  },
  {
   "cell_type": "markdown",
   "metadata": {},
   "source": [
    "## Work to do\n",
    "\n",
    "* 1. Read the dataset\n",
    "\n",
    "* 2. Clean the data\n",
    "\n",
    "* 3. Select the target feature (selling price) and eliminate the item with 10 % ower value and the 10 % higher value\n",
    "\n",
    "* 4. Select 3 features\n",
    "\n",
    "* 5. Based on the various elements seen in the course, propose a model to predict the selling price based on three characteristics that you will have selected a priori.\n",
    "\n",
    "* 6. Evaluate your model and comment it."
   ]
  },
  {
   "cell_type": "markdown",
   "metadata": {},
   "source": [
    "# Initial Data Understanding"
   ]
  },
  {
   "cell_type": "code",
   "execution_count": 3,
   "metadata": {},
   "outputs": [
    {
     "name": "stdout",
     "output_type": "stream",
     "text": [
      "C:\\Users\\Borja042\\Desktop\\MASTER2\\PERIODO_2\\DATA MINING\\PROJECT\\REG\n"
     ]
    },
    {
     "data": {
      "text/html": [
       "<div>\n",
       "<style scoped>\n",
       "    .dataframe tbody tr th:only-of-type {\n",
       "        vertical-align: middle;\n",
       "    }\n",
       "\n",
       "    .dataframe tbody tr th {\n",
       "        vertical-align: top;\n",
       "    }\n",
       "\n",
       "    .dataframe thead th {\n",
       "        text-align: right;\n",
       "    }\n",
       "</style>\n",
       "<table border=\"1\" class=\"dataframe\">\n",
       "  <thead>\n",
       "    <tr style=\"text-align: right;\">\n",
       "      <th></th>\n",
       "      <th>Unnamed: 0</th>\n",
       "      <th>BOROUGH</th>\n",
       "      <th>NEIGHBORHOOD</th>\n",
       "      <th>BUILDING CLASS CATEGORY</th>\n",
       "      <th>TAX CLASS AT PRESENT</th>\n",
       "      <th>BLOCK</th>\n",
       "      <th>LOT</th>\n",
       "      <th>EASE-MENT</th>\n",
       "      <th>BUILDING CLASS AT PRESENT</th>\n",
       "      <th>ADDRESS</th>\n",
       "      <th>...</th>\n",
       "      <th>RESIDENTIAL UNITS</th>\n",
       "      <th>COMMERCIAL UNITS</th>\n",
       "      <th>TOTAL UNITS</th>\n",
       "      <th>LAND SQUARE FEET</th>\n",
       "      <th>GROSS SQUARE FEET</th>\n",
       "      <th>YEAR BUILT</th>\n",
       "      <th>TAX CLASS AT TIME OF SALE</th>\n",
       "      <th>BUILDING CLASS AT TIME OF SALE</th>\n",
       "      <th>SALE PRICE</th>\n",
       "      <th>SALE DATE</th>\n",
       "    </tr>\n",
       "  </thead>\n",
       "  <tbody>\n",
       "    <tr>\n",
       "      <th>0</th>\n",
       "      <td>4</td>\n",
       "      <td>1</td>\n",
       "      <td>ALPHABET CITY</td>\n",
       "      <td>07 RENTALS - WALKUP APARTMENTS</td>\n",
       "      <td>2A</td>\n",
       "      <td>392</td>\n",
       "      <td>6</td>\n",
       "      <td></td>\n",
       "      <td>C2</td>\n",
       "      <td>153 AVENUE B</td>\n",
       "      <td>...</td>\n",
       "      <td>5</td>\n",
       "      <td>0</td>\n",
       "      <td>5</td>\n",
       "      <td>1633</td>\n",
       "      <td>6440</td>\n",
       "      <td>1900</td>\n",
       "      <td>2</td>\n",
       "      <td>C2</td>\n",
       "      <td>6625000</td>\n",
       "      <td>2017-07-19 00:00:00</td>\n",
       "    </tr>\n",
       "    <tr>\n",
       "      <th>1</th>\n",
       "      <td>5</td>\n",
       "      <td>1</td>\n",
       "      <td>ALPHABET CITY</td>\n",
       "      <td>07 RENTALS - WALKUP APARTMENTS</td>\n",
       "      <td>2</td>\n",
       "      <td>399</td>\n",
       "      <td>26</td>\n",
       "      <td></td>\n",
       "      <td>C7</td>\n",
       "      <td>234 EAST 4TH   STREET</td>\n",
       "      <td>...</td>\n",
       "      <td>28</td>\n",
       "      <td>3</td>\n",
       "      <td>31</td>\n",
       "      <td>4616</td>\n",
       "      <td>18690</td>\n",
       "      <td>1900</td>\n",
       "      <td>2</td>\n",
       "      <td>C7</td>\n",
       "      <td>-</td>\n",
       "      <td>2016-12-14 00:00:00</td>\n",
       "    </tr>\n",
       "    <tr>\n",
       "      <th>2</th>\n",
       "      <td>6</td>\n",
       "      <td>1</td>\n",
       "      <td>ALPHABET CITY</td>\n",
       "      <td>07 RENTALS - WALKUP APARTMENTS</td>\n",
       "      <td>2</td>\n",
       "      <td>399</td>\n",
       "      <td>39</td>\n",
       "      <td></td>\n",
       "      <td>C7</td>\n",
       "      <td>197 EAST 3RD   STREET</td>\n",
       "      <td>...</td>\n",
       "      <td>16</td>\n",
       "      <td>1</td>\n",
       "      <td>17</td>\n",
       "      <td>2212</td>\n",
       "      <td>7803</td>\n",
       "      <td>1900</td>\n",
       "      <td>2</td>\n",
       "      <td>C7</td>\n",
       "      <td>-</td>\n",
       "      <td>2016-12-09 00:00:00</td>\n",
       "    </tr>\n",
       "    <tr>\n",
       "      <th>3</th>\n",
       "      <td>7</td>\n",
       "      <td>1</td>\n",
       "      <td>ALPHABET CITY</td>\n",
       "      <td>07 RENTALS - WALKUP APARTMENTS</td>\n",
       "      <td>2B</td>\n",
       "      <td>402</td>\n",
       "      <td>21</td>\n",
       "      <td></td>\n",
       "      <td>C4</td>\n",
       "      <td>154 EAST 7TH STREET</td>\n",
       "      <td>...</td>\n",
       "      <td>10</td>\n",
       "      <td>0</td>\n",
       "      <td>10</td>\n",
       "      <td>2272</td>\n",
       "      <td>6794</td>\n",
       "      <td>1913</td>\n",
       "      <td>2</td>\n",
       "      <td>C4</td>\n",
       "      <td>3936272</td>\n",
       "      <td>2016-09-23 00:00:00</td>\n",
       "    </tr>\n",
       "    <tr>\n",
       "      <th>4</th>\n",
       "      <td>8</td>\n",
       "      <td>1</td>\n",
       "      <td>ALPHABET CITY</td>\n",
       "      <td>07 RENTALS - WALKUP APARTMENTS</td>\n",
       "      <td>2A</td>\n",
       "      <td>404</td>\n",
       "      <td>55</td>\n",
       "      <td></td>\n",
       "      <td>C2</td>\n",
       "      <td>301 EAST 10TH   STREET</td>\n",
       "      <td>...</td>\n",
       "      <td>6</td>\n",
       "      <td>0</td>\n",
       "      <td>6</td>\n",
       "      <td>2369</td>\n",
       "      <td>4615</td>\n",
       "      <td>1900</td>\n",
       "      <td>2</td>\n",
       "      <td>C2</td>\n",
       "      <td>8000000</td>\n",
       "      <td>2016-11-17 00:00:00</td>\n",
       "    </tr>\n",
       "  </tbody>\n",
       "</table>\n",
       "<p>5 rows × 22 columns</p>\n",
       "</div>"
      ],
      "text/plain": [
       "   Unnamed: 0  BOROUGH   NEIGHBORHOOD  \\\n",
       "0           4        1  ALPHABET CITY   \n",
       "1           5        1  ALPHABET CITY   \n",
       "2           6        1  ALPHABET CITY   \n",
       "3           7        1  ALPHABET CITY   \n",
       "4           8        1  ALPHABET CITY   \n",
       "\n",
       "                       BUILDING CLASS CATEGORY TAX CLASS AT PRESENT  BLOCK  \\\n",
       "0  07 RENTALS - WALKUP APARTMENTS                                2A    392   \n",
       "1  07 RENTALS - WALKUP APARTMENTS                                 2    399   \n",
       "2  07 RENTALS - WALKUP APARTMENTS                                 2    399   \n",
       "3  07 RENTALS - WALKUP APARTMENTS                                2B    402   \n",
       "4  07 RENTALS - WALKUP APARTMENTS                                2A    404   \n",
       "\n",
       "   LOT EASE-MENT BUILDING CLASS AT PRESENT                 ADDRESS  \\\n",
       "0    6                                  C2            153 AVENUE B   \n",
       "1   26                                  C7   234 EAST 4TH   STREET   \n",
       "2   39                                  C7   197 EAST 3RD   STREET   \n",
       "3   21                                  C4     154 EAST 7TH STREET   \n",
       "4   55                                  C2  301 EAST 10TH   STREET   \n",
       "\n",
       "          ...          RESIDENTIAL UNITS  COMMERCIAL UNITS  TOTAL UNITS  \\\n",
       "0         ...                          5                 0            5   \n",
       "1         ...                         28                 3           31   \n",
       "2         ...                         16                 1           17   \n",
       "3         ...                         10                 0           10   \n",
       "4         ...                          6                 0            6   \n",
       "\n",
       "   LAND SQUARE FEET  GROSS SQUARE FEET YEAR BUILT TAX CLASS AT TIME OF SALE  \\\n",
       "0              1633               6440       1900                         2   \n",
       "1              4616              18690       1900                         2   \n",
       "2              2212               7803       1900                         2   \n",
       "3              2272               6794       1913                         2   \n",
       "4              2369               4615       1900                         2   \n",
       "\n",
       "   BUILDING CLASS AT TIME OF SALE  SALE PRICE            SALE DATE  \n",
       "0                              C2     6625000  2017-07-19 00:00:00  \n",
       "1                              C7         -    2016-12-14 00:00:00  \n",
       "2                              C7         -    2016-12-09 00:00:00  \n",
       "3                              C4     3936272  2016-09-23 00:00:00  \n",
       "4                              C2     8000000  2016-11-17 00:00:00  \n",
       "\n",
       "[5 rows x 22 columns]"
      ]
     },
     "execution_count": 3,
     "metadata": {},
     "output_type": "execute_result"
    }
   ],
   "source": [
    "import os\n",
    "print(os.getcwd())\n",
    "import pandas as pd\n",
    "import matplotlib.pyplot as plt\n",
    "nyc = pd.read_csv('nyc-rolling-sales.csv', delimiter = ',')\n",
    "nyc.head()"
   ]
  },
  {
   "cell_type": "code",
   "execution_count": 2,
   "metadata": {},
   "outputs": [
    {
     "data": {
      "text/html": [
       "<div>\n",
       "<style scoped>\n",
       "    .dataframe tbody tr th:only-of-type {\n",
       "        vertical-align: middle;\n",
       "    }\n",
       "\n",
       "    .dataframe tbody tr th {\n",
       "        vertical-align: top;\n",
       "    }\n",
       "\n",
       "    .dataframe thead th {\n",
       "        text-align: right;\n",
       "    }\n",
       "</style>\n",
       "<table border=\"1\" class=\"dataframe\">\n",
       "  <thead>\n",
       "    <tr style=\"text-align: right;\">\n",
       "      <th></th>\n",
       "      <th>Unnamed: 0</th>\n",
       "      <th>BOROUGH</th>\n",
       "      <th>NEIGHBORHOOD</th>\n",
       "      <th>BUILDING CLASS CATEGORY</th>\n",
       "      <th>TAX CLASS AT PRESENT</th>\n",
       "      <th>BLOCK</th>\n",
       "      <th>LOT</th>\n",
       "      <th>EASE-MENT</th>\n",
       "      <th>BUILDING CLASS AT PRESENT</th>\n",
       "      <th>ADDRESS</th>\n",
       "      <th>...</th>\n",
       "      <th>RESIDENTIAL UNITS</th>\n",
       "      <th>COMMERCIAL UNITS</th>\n",
       "      <th>TOTAL UNITS</th>\n",
       "      <th>LAND SQUARE FEET</th>\n",
       "      <th>GROSS SQUARE FEET</th>\n",
       "      <th>YEAR BUILT</th>\n",
       "      <th>TAX CLASS AT TIME OF SALE</th>\n",
       "      <th>BUILDING CLASS AT TIME OF SALE</th>\n",
       "      <th>SALE PRICE</th>\n",
       "      <th>SALE DATE</th>\n",
       "    </tr>\n",
       "  </thead>\n",
       "  <tbody>\n",
       "    <tr>\n",
       "      <th>count</th>\n",
       "      <td>84548.000000</td>\n",
       "      <td>84548.000000</td>\n",
       "      <td>84548</td>\n",
       "      <td>84548</td>\n",
       "      <td>84548</td>\n",
       "      <td>84548.000000</td>\n",
       "      <td>84548.000000</td>\n",
       "      <td>84548</td>\n",
       "      <td>84548</td>\n",
       "      <td>84548</td>\n",
       "      <td>...</td>\n",
       "      <td>84548.000000</td>\n",
       "      <td>84548.000000</td>\n",
       "      <td>84548.000000</td>\n",
       "      <td>84548</td>\n",
       "      <td>84548</td>\n",
       "      <td>84548.000000</td>\n",
       "      <td>84548.000000</td>\n",
       "      <td>84548</td>\n",
       "      <td>84548</td>\n",
       "      <td>84548</td>\n",
       "    </tr>\n",
       "    <tr>\n",
       "      <th>unique</th>\n",
       "      <td>NaN</td>\n",
       "      <td>NaN</td>\n",
       "      <td>254</td>\n",
       "      <td>47</td>\n",
       "      <td>11</td>\n",
       "      <td>NaN</td>\n",
       "      <td>NaN</td>\n",
       "      <td>1</td>\n",
       "      <td>167</td>\n",
       "      <td>67563</td>\n",
       "      <td>...</td>\n",
       "      <td>NaN</td>\n",
       "      <td>NaN</td>\n",
       "      <td>NaN</td>\n",
       "      <td>6062</td>\n",
       "      <td>5691</td>\n",
       "      <td>NaN</td>\n",
       "      <td>NaN</td>\n",
       "      <td>166</td>\n",
       "      <td>10008</td>\n",
       "      <td>364</td>\n",
       "    </tr>\n",
       "    <tr>\n",
       "      <th>top</th>\n",
       "      <td>NaN</td>\n",
       "      <td>NaN</td>\n",
       "      <td>FLUSHING-NORTH</td>\n",
       "      <td>01 ONE FAMILY DWELLINGS</td>\n",
       "      <td>1</td>\n",
       "      <td>NaN</td>\n",
       "      <td>NaN</td>\n",
       "      <td></td>\n",
       "      <td>D4</td>\n",
       "      <td>131-05 40TH   ROAD</td>\n",
       "      <td>...</td>\n",
       "      <td>NaN</td>\n",
       "      <td>NaN</td>\n",
       "      <td>NaN</td>\n",
       "      <td>-</td>\n",
       "      <td>-</td>\n",
       "      <td>NaN</td>\n",
       "      <td>NaN</td>\n",
       "      <td>R4</td>\n",
       "      <td>-</td>\n",
       "      <td>2017-06-29 00:00:00</td>\n",
       "    </tr>\n",
       "    <tr>\n",
       "      <th>freq</th>\n",
       "      <td>NaN</td>\n",
       "      <td>NaN</td>\n",
       "      <td>3068</td>\n",
       "      <td>18235</td>\n",
       "      <td>38633</td>\n",
       "      <td>NaN</td>\n",
       "      <td>NaN</td>\n",
       "      <td>84548</td>\n",
       "      <td>12663</td>\n",
       "      <td>210</td>\n",
       "      <td>...</td>\n",
       "      <td>NaN</td>\n",
       "      <td>NaN</td>\n",
       "      <td>NaN</td>\n",
       "      <td>26252</td>\n",
       "      <td>27612</td>\n",
       "      <td>NaN</td>\n",
       "      <td>NaN</td>\n",
       "      <td>12989</td>\n",
       "      <td>14561</td>\n",
       "      <td>544</td>\n",
       "    </tr>\n",
       "    <tr>\n",
       "      <th>mean</th>\n",
       "      <td>10344.359878</td>\n",
       "      <td>2.998758</td>\n",
       "      <td>NaN</td>\n",
       "      <td>NaN</td>\n",
       "      <td>NaN</td>\n",
       "      <td>4237.218976</td>\n",
       "      <td>376.224015</td>\n",
       "      <td>NaN</td>\n",
       "      <td>NaN</td>\n",
       "      <td>NaN</td>\n",
       "      <td>...</td>\n",
       "      <td>2.025264</td>\n",
       "      <td>0.193559</td>\n",
       "      <td>2.249184</td>\n",
       "      <td>NaN</td>\n",
       "      <td>NaN</td>\n",
       "      <td>1789.322976</td>\n",
       "      <td>1.657485</td>\n",
       "      <td>NaN</td>\n",
       "      <td>NaN</td>\n",
       "      <td>NaN</td>\n",
       "    </tr>\n",
       "    <tr>\n",
       "      <th>std</th>\n",
       "      <td>7151.779436</td>\n",
       "      <td>1.289790</td>\n",
       "      <td>NaN</td>\n",
       "      <td>NaN</td>\n",
       "      <td>NaN</td>\n",
       "      <td>3568.263407</td>\n",
       "      <td>658.136814</td>\n",
       "      <td>NaN</td>\n",
       "      <td>NaN</td>\n",
       "      <td>NaN</td>\n",
       "      <td>...</td>\n",
       "      <td>16.721037</td>\n",
       "      <td>8.713183</td>\n",
       "      <td>18.972584</td>\n",
       "      <td>NaN</td>\n",
       "      <td>NaN</td>\n",
       "      <td>537.344993</td>\n",
       "      <td>0.819341</td>\n",
       "      <td>NaN</td>\n",
       "      <td>NaN</td>\n",
       "      <td>NaN</td>\n",
       "    </tr>\n",
       "    <tr>\n",
       "      <th>min</th>\n",
       "      <td>4.000000</td>\n",
       "      <td>1.000000</td>\n",
       "      <td>NaN</td>\n",
       "      <td>NaN</td>\n",
       "      <td>NaN</td>\n",
       "      <td>1.000000</td>\n",
       "      <td>1.000000</td>\n",
       "      <td>NaN</td>\n",
       "      <td>NaN</td>\n",
       "      <td>NaN</td>\n",
       "      <td>...</td>\n",
       "      <td>0.000000</td>\n",
       "      <td>0.000000</td>\n",
       "      <td>0.000000</td>\n",
       "      <td>NaN</td>\n",
       "      <td>NaN</td>\n",
       "      <td>0.000000</td>\n",
       "      <td>1.000000</td>\n",
       "      <td>NaN</td>\n",
       "      <td>NaN</td>\n",
       "      <td>NaN</td>\n",
       "    </tr>\n",
       "    <tr>\n",
       "      <th>25%</th>\n",
       "      <td>4231.000000</td>\n",
       "      <td>2.000000</td>\n",
       "      <td>NaN</td>\n",
       "      <td>NaN</td>\n",
       "      <td>NaN</td>\n",
       "      <td>1322.750000</td>\n",
       "      <td>22.000000</td>\n",
       "      <td>NaN</td>\n",
       "      <td>NaN</td>\n",
       "      <td>NaN</td>\n",
       "      <td>...</td>\n",
       "      <td>0.000000</td>\n",
       "      <td>0.000000</td>\n",
       "      <td>1.000000</td>\n",
       "      <td>NaN</td>\n",
       "      <td>NaN</td>\n",
       "      <td>1920.000000</td>\n",
       "      <td>1.000000</td>\n",
       "      <td>NaN</td>\n",
       "      <td>NaN</td>\n",
       "      <td>NaN</td>\n",
       "    </tr>\n",
       "    <tr>\n",
       "      <th>50%</th>\n",
       "      <td>8942.000000</td>\n",
       "      <td>3.000000</td>\n",
       "      <td>NaN</td>\n",
       "      <td>NaN</td>\n",
       "      <td>NaN</td>\n",
       "      <td>3311.000000</td>\n",
       "      <td>50.000000</td>\n",
       "      <td>NaN</td>\n",
       "      <td>NaN</td>\n",
       "      <td>NaN</td>\n",
       "      <td>...</td>\n",
       "      <td>1.000000</td>\n",
       "      <td>0.000000</td>\n",
       "      <td>1.000000</td>\n",
       "      <td>NaN</td>\n",
       "      <td>NaN</td>\n",
       "      <td>1940.000000</td>\n",
       "      <td>2.000000</td>\n",
       "      <td>NaN</td>\n",
       "      <td>NaN</td>\n",
       "      <td>NaN</td>\n",
       "    </tr>\n",
       "    <tr>\n",
       "      <th>75%</th>\n",
       "      <td>15987.250000</td>\n",
       "      <td>4.000000</td>\n",
       "      <td>NaN</td>\n",
       "      <td>NaN</td>\n",
       "      <td>NaN</td>\n",
       "      <td>6281.000000</td>\n",
       "      <td>1001.000000</td>\n",
       "      <td>NaN</td>\n",
       "      <td>NaN</td>\n",
       "      <td>NaN</td>\n",
       "      <td>...</td>\n",
       "      <td>2.000000</td>\n",
       "      <td>0.000000</td>\n",
       "      <td>2.000000</td>\n",
       "      <td>NaN</td>\n",
       "      <td>NaN</td>\n",
       "      <td>1965.000000</td>\n",
       "      <td>2.000000</td>\n",
       "      <td>NaN</td>\n",
       "      <td>NaN</td>\n",
       "      <td>NaN</td>\n",
       "    </tr>\n",
       "    <tr>\n",
       "      <th>max</th>\n",
       "      <td>26739.000000</td>\n",
       "      <td>5.000000</td>\n",
       "      <td>NaN</td>\n",
       "      <td>NaN</td>\n",
       "      <td>NaN</td>\n",
       "      <td>16322.000000</td>\n",
       "      <td>9106.000000</td>\n",
       "      <td>NaN</td>\n",
       "      <td>NaN</td>\n",
       "      <td>NaN</td>\n",
       "      <td>...</td>\n",
       "      <td>1844.000000</td>\n",
       "      <td>2261.000000</td>\n",
       "      <td>2261.000000</td>\n",
       "      <td>NaN</td>\n",
       "      <td>NaN</td>\n",
       "      <td>2017.000000</td>\n",
       "      <td>4.000000</td>\n",
       "      <td>NaN</td>\n",
       "      <td>NaN</td>\n",
       "      <td>NaN</td>\n",
       "    </tr>\n",
       "  </tbody>\n",
       "</table>\n",
       "<p>11 rows × 22 columns</p>\n",
       "</div>"
      ],
      "text/plain": [
       "          Unnamed: 0       BOROUGH    NEIGHBORHOOD  \\\n",
       "count   84548.000000  84548.000000           84548   \n",
       "unique           NaN           NaN             254   \n",
       "top              NaN           NaN  FLUSHING-NORTH   \n",
       "freq             NaN           NaN            3068   \n",
       "mean    10344.359878      2.998758             NaN   \n",
       "std      7151.779436      1.289790             NaN   \n",
       "min         4.000000      1.000000             NaN   \n",
       "25%      4231.000000      2.000000             NaN   \n",
       "50%      8942.000000      3.000000             NaN   \n",
       "75%     15987.250000      4.000000             NaN   \n",
       "max     26739.000000      5.000000             NaN   \n",
       "\n",
       "                            BUILDING CLASS CATEGORY TAX CLASS AT PRESENT  \\\n",
       "count                                         84548                84548   \n",
       "unique                                           47                   11   \n",
       "top     01 ONE FAMILY DWELLINGS                                        1   \n",
       "freq                                          18235                38633   \n",
       "mean                                            NaN                  NaN   \n",
       "std                                             NaN                  NaN   \n",
       "min                                             NaN                  NaN   \n",
       "25%                                             NaN                  NaN   \n",
       "50%                                             NaN                  NaN   \n",
       "75%                                             NaN                  NaN   \n",
       "max                                             NaN                  NaN   \n",
       "\n",
       "               BLOCK           LOT EASE-MENT BUILDING CLASS AT PRESENT  \\\n",
       "count   84548.000000  84548.000000     84548                     84548   \n",
       "unique           NaN           NaN         1                       167   \n",
       "top              NaN           NaN                                  D4   \n",
       "freq             NaN           NaN     84548                     12663   \n",
       "mean     4237.218976    376.224015       NaN                       NaN   \n",
       "std      3568.263407    658.136814       NaN                       NaN   \n",
       "min         1.000000      1.000000       NaN                       NaN   \n",
       "25%      1322.750000     22.000000       NaN                       NaN   \n",
       "50%      3311.000000     50.000000       NaN                       NaN   \n",
       "75%      6281.000000   1001.000000       NaN                       NaN   \n",
       "max     16322.000000   9106.000000       NaN                       NaN   \n",
       "\n",
       "                   ADDRESS         ...          RESIDENTIAL UNITS  \\\n",
       "count                84548         ...               84548.000000   \n",
       "unique               67563         ...                        NaN   \n",
       "top     131-05 40TH   ROAD         ...                        NaN   \n",
       "freq                   210         ...                        NaN   \n",
       "mean                   NaN         ...                   2.025264   \n",
       "std                    NaN         ...                  16.721037   \n",
       "min                    NaN         ...                   0.000000   \n",
       "25%                    NaN         ...                   0.000000   \n",
       "50%                    NaN         ...                   1.000000   \n",
       "75%                    NaN         ...                   2.000000   \n",
       "max                    NaN         ...                1844.000000   \n",
       "\n",
       "        COMMERCIAL UNITS   TOTAL UNITS  LAND SQUARE FEET  GROSS SQUARE FEET  \\\n",
       "count       84548.000000  84548.000000             84548              84548   \n",
       "unique               NaN           NaN              6062               5691   \n",
       "top                  NaN           NaN               -                  -     \n",
       "freq                 NaN           NaN             26252              27612   \n",
       "mean            0.193559      2.249184               NaN                NaN   \n",
       "std             8.713183     18.972584               NaN                NaN   \n",
       "min             0.000000      0.000000               NaN                NaN   \n",
       "25%             0.000000      1.000000               NaN                NaN   \n",
       "50%             0.000000      1.000000               NaN                NaN   \n",
       "75%             0.000000      2.000000               NaN                NaN   \n",
       "max          2261.000000   2261.000000               NaN                NaN   \n",
       "\n",
       "          YEAR BUILT TAX CLASS AT TIME OF SALE  \\\n",
       "count   84548.000000              84548.000000   \n",
       "unique           NaN                       NaN   \n",
       "top              NaN                       NaN   \n",
       "freq             NaN                       NaN   \n",
       "mean     1789.322976                  1.657485   \n",
       "std       537.344993                  0.819341   \n",
       "min         0.000000                  1.000000   \n",
       "25%      1920.000000                  1.000000   \n",
       "50%      1940.000000                  2.000000   \n",
       "75%      1965.000000                  2.000000   \n",
       "max      2017.000000                  4.000000   \n",
       "\n",
       "        BUILDING CLASS AT TIME OF SALE  SALE PRICE            SALE DATE  \n",
       "count                            84548       84548                84548  \n",
       "unique                             166       10008                  364  \n",
       "top                                 R4         -    2017-06-29 00:00:00  \n",
       "freq                             12989       14561                  544  \n",
       "mean                               NaN         NaN                  NaN  \n",
       "std                                NaN         NaN                  NaN  \n",
       "min                                NaN         NaN                  NaN  \n",
       "25%                                NaN         NaN                  NaN  \n",
       "50%                                NaN         NaN                  NaN  \n",
       "75%                                NaN         NaN                  NaN  \n",
       "max                                NaN         NaN                  NaN  \n",
       "\n",
       "[11 rows x 22 columns]"
      ]
     },
     "execution_count": 2,
     "metadata": {},
     "output_type": "execute_result"
    }
   ],
   "source": [
    "nyc.describe(include = 'all')"
   ]
  },
  {
   "cell_type": "code",
   "execution_count": 3,
   "metadata": {},
   "outputs": [
    {
     "data": {
      "text/plain": [
       "Unnamed: 0                         int64\n",
       "BOROUGH                            int64\n",
       "NEIGHBORHOOD                      object\n",
       "BUILDING CLASS CATEGORY           object\n",
       "TAX CLASS AT PRESENT              object\n",
       "BLOCK                              int64\n",
       "LOT                                int64\n",
       "EASE-MENT                         object\n",
       "BUILDING CLASS AT PRESENT         object\n",
       "ADDRESS                           object\n",
       "APARTMENT NUMBER                  object\n",
       "ZIP CODE                           int64\n",
       "RESIDENTIAL UNITS                  int64\n",
       "COMMERCIAL UNITS                   int64\n",
       "TOTAL UNITS                        int64\n",
       "LAND SQUARE FEET                  object\n",
       "GROSS SQUARE FEET                 object\n",
       "YEAR BUILT                         int64\n",
       "TAX CLASS AT TIME OF SALE          int64\n",
       "BUILDING CLASS AT TIME OF SALE    object\n",
       "SALE PRICE                        object\n",
       "SALE DATE                         object\n",
       "dtype: object"
      ]
     },
     "execution_count": 3,
     "metadata": {},
     "output_type": "execute_result"
    }
   ],
   "source": [
    "nyc.dtypes"
   ]
  },
  {
   "cell_type": "code",
   "execution_count": 4,
   "metadata": {},
   "outputs": [
    {
     "data": {
      "text/plain": [
       "array(['6625000', ' -  ', '3936272', ..., '408092', '11693337', '69300'],\n",
       "      dtype=object)"
      ]
     },
     "execution_count": 4,
     "metadata": {},
     "output_type": "execute_result"
    }
   ],
   "source": [
    "# Value study of the target variable.\n",
    "nyc['SALE PRICE'].unique()"
   ]
  },
  {
   "cell_type": "markdown",
   "metadata": {},
   "source": [
    "We will first delete the columns that I do not consider important because that information is gathered in some other columns or the ones that are empty:"
   ]
  },
  {
   "cell_type": "code",
   "execution_count": 5,
   "metadata": {},
   "outputs": [],
   "source": [
    "del nyc['APARTMENT NUMBER'], nyc['EASE-MENT'], nyc['SALE DATE'], nyc['ADDRESS']"
   ]
  },
  {
   "cell_type": "markdown",
   "metadata": {},
   "source": [
    "As we can see, the target feature Sale Price is not considered a numerical columns. Lets fix the types of the columns."
   ]
  },
  {
   "cell_type": "code",
   "execution_count": 6,
   "metadata": {},
   "outputs": [
    {
     "name": "stdout",
     "output_type": "stream",
     "text": [
      "BEFORE --> Unnamed: 0                         int64\n",
      "BOROUGH                            int64\n",
      "NEIGHBORHOOD                      object\n",
      "BUILDING CLASS CATEGORY           object\n",
      "TAX CLASS AT PRESENT              object\n",
      "BLOCK                              int64\n",
      "LOT                                int64\n",
      "BUILDING CLASS AT PRESENT         object\n",
      "ZIP CODE                           int64\n",
      "RESIDENTIAL UNITS                  int64\n",
      "COMMERCIAL UNITS                   int64\n",
      "TOTAL UNITS                        int64\n",
      "LAND SQUARE FEET                  object\n",
      "GROSS SQUARE FEET                 object\n",
      "YEAR BUILT                         int64\n",
      "TAX CLASS AT TIME OF SALE          int64\n",
      "BUILDING CLASS AT TIME OF SALE    object\n",
      "SALE PRICE                        object\n",
      "dtype: object\n",
      "AFTER-->  Unnamed: 0                           int64\n",
      "BOROUGH                           category\n",
      "NEIGHBORHOOD                      category\n",
      "BUILDING CLASS CATEGORY           category\n",
      "TAX CLASS AT PRESENT              category\n",
      "BLOCK                                int64\n",
      "LOT                                  int64\n",
      "BUILDING CLASS AT PRESENT         category\n",
      "ZIP CODE                          category\n",
      "RESIDENTIAL UNITS                    int64\n",
      "COMMERCIAL UNITS                     int64\n",
      "TOTAL UNITS                          int64\n",
      "LAND SQUARE FEET                   float64\n",
      "GROSS SQUARE FEET                  float64\n",
      "YEAR BUILT                           int64\n",
      "TAX CLASS AT TIME OF SALE            int64\n",
      "BUILDING CLASS AT TIME OF SALE    category\n",
      "SALE PRICE                         float64\n",
      "dtype: object\n"
     ]
    }
   ],
   "source": [
    "fix_list_cat = ['BOROUGH','NEIGHBORHOOD','BUILDING CLASS CATEGORY','TAX CLASS AT PRESENT','BUILDING CLASS AT PRESENT',\n",
    "                'ZIP CODE','BUILDING CLASS AT TIME OF SALE']\n",
    "fix_list_num = ['LAND SQUARE FEET','TAX CLASS AT TIME OF SALE','GROSS SQUARE FEET','SALE PRICE']\n",
    "\n",
    "print(\"BEFORE -->\", nyc.dtypes)\n",
    "for i in fix_list_cat:\n",
    "    nyc[i] = nyc[i].astype('category')\n",
    "\n",
    "for i in fix_list_num:\n",
    "    nyc[i] = pd.to_numeric(nyc[i], errors='coerce')\n",
    "    \n",
    "print(\"AFTER--> \", nyc.dtypes)"
   ]
  },
  {
   "cell_type": "code",
   "execution_count": 7,
   "metadata": {},
   "outputs": [
    {
     "data": {
      "text/plain": [
       "array([ 6625000.,       nan,  3936272., ...,   408092., 11693337.,\n",
       "          69300.])"
      ]
     },
     "execution_count": 7,
     "metadata": {},
     "output_type": "execute_result"
    }
   ],
   "source": [
    "nyc['SALE PRICE'].unique()"
   ]
  },
  {
   "cell_type": "markdown",
   "metadata": {},
   "source": [
    "After the transformation the values that had '-' have been turned to nans so let us delete them:"
   ]
  },
  {
   "cell_type": "code",
   "execution_count": 8,
   "metadata": {},
   "outputs": [
    {
     "data": {
      "text/plain": [
       "0"
      ]
     },
     "execution_count": 8,
     "metadata": {},
     "output_type": "execute_result"
    }
   ],
   "source": [
    "sum(nyc.duplicated(nyc.columns))"
   ]
  },
  {
   "cell_type": "code",
   "execution_count": 9,
   "metadata": {},
   "outputs": [
    {
     "data": {
      "text/plain": [
       "Unnamed: 0                            0\n",
       "BOROUGH                               0\n",
       "NEIGHBORHOOD                          0\n",
       "BUILDING CLASS CATEGORY               0\n",
       "TAX CLASS AT PRESENT                  0\n",
       "BLOCK                                 0\n",
       "LOT                                   0\n",
       "BUILDING CLASS AT PRESENT             0\n",
       "ZIP CODE                              0\n",
       "RESIDENTIAL UNITS                     0\n",
       "COMMERCIAL UNITS                      0\n",
       "TOTAL UNITS                           0\n",
       "LAND SQUARE FEET                  26252\n",
       "GROSS SQUARE FEET                 27612\n",
       "YEAR BUILT                            0\n",
       "TAX CLASS AT TIME OF SALE             0\n",
       "BUILDING CLASS AT TIME OF SALE        0\n",
       "SALE PRICE                        14561\n",
       "dtype: int64"
      ]
     },
     "execution_count": 9,
     "metadata": {},
     "output_type": "execute_result"
    }
   ],
   "source": [
    "nyc.isna().sum()"
   ]
  },
  {
   "cell_type": "markdown",
   "metadata": {},
   "source": [
    "We need to clean all the nan values from the column to predict and then delete the values with a 10% lower and higher value:"
   ]
  },
  {
   "cell_type": "code",
   "execution_count": 10,
   "metadata": {},
   "outputs": [],
   "source": [
    "nyc = nyc[nyc['SALE PRICE'].notnull()]"
   ]
  },
  {
   "cell_type": "code",
   "execution_count": 11,
   "metadata": {},
   "outputs": [
    {
     "data": {
      "text/plain": [
       "0"
      ]
     },
     "execution_count": 11,
     "metadata": {},
     "output_type": "execute_result"
    }
   ],
   "source": [
    "nyc['SALE PRICE'].isna().sum()"
   ]
  },
  {
   "cell_type": "code",
   "execution_count": 12,
   "metadata": {},
   "outputs": [
    {
     "name": "stdout",
     "output_type": "stream",
     "text": [
      "Number of rows to remove 13998 Rows before removal 69987\n",
      "Rows After removal 55989\n"
     ]
    }
   ],
   "source": [
    "print(\"Number of rows to remove\", 2*round(nyc.shape[0]/10), \"Rows before removal\", len(nyc))\n",
    "clean = round(nyc.shape[0]/10)\n",
    "nyc = nyc.sort_values('SALE PRICE', ascending = True).iloc[clean:(len(nyc)-clean)]\n",
    "print(\"Rows After removal\", len(nyc))"
   ]
  },
  {
   "cell_type": "markdown",
   "metadata": {},
   "source": [
    "Let us check if the target variable behaves well:"
   ]
  },
  {
   "cell_type": "code",
   "execution_count": 13,
   "metadata": {},
   "outputs": [
    {
     "data": {
      "text/plain": [
       "<matplotlib.axes._subplots.AxesSubplot at 0x13ecc414940>"
      ]
     },
     "execution_count": 13,
     "metadata": {},
     "output_type": "execute_result"
    },
    {
     "data": {
      "image/png": "[encoded data removed]",
      "text/plain": [
       "<Figure size 432x288 with 1 Axes>"
      ]
     },
     "metadata": {},
     "output_type": "display_data"
    }
   ],
   "source": [
    "nyc['SALE PRICE'].hist(bins = 25)"
   ]
  },
  {
   "cell_type": "code",
   "execution_count": 14,
   "metadata": {},
   "outputs": [
    {
     "data": {
      "text/plain": [
       "array([1.950000e+06, 1.948832e+06, 1.945408e+06, ..., 2.000000e+00,\n",
       "       1.000000e+00, 0.000000e+00])"
      ]
     },
     "execution_count": 14,
     "metadata": {},
     "output_type": "execute_result"
    },
    {
     "data": {
      "image/png": "[encoded data removed]",
      "text/plain": [
       "<Figure size 432x288 with 1 Axes>"
      ]
     },
     "metadata": {},
     "output_type": "display_data"
    }
   ],
   "source": [
    "nyc['SALE PRICE'].plot.box()\n",
    "nyc['SALE PRICE'].sort_values( ascending = False).unique()"
   ]
  },
  {
   "cell_type": "markdown",
   "metadata": {},
   "source": [
    "As we have seen before we still have nans on the square feet columns. Since I will use problably for the model the Land Square Feet after looking at both definitions I will treate them because they represent a high percentage of our data so we can not really delete them. "
   ]
  },
  {
   "cell_type": "code",
   "execution_count": 15,
   "metadata": {},
   "outputs": [
    {
     "name": "stdout",
     "output_type": "stream",
     "text": [
      "(55989, 18)\n",
      "Unnamed: 0                            0\n",
      "BOROUGH                               0\n",
      "NEIGHBORHOOD                          0\n",
      "BUILDING CLASS CATEGORY               0\n",
      "TAX CLASS AT PRESENT                  0\n",
      "BLOCK                                 0\n",
      "LOT                                   0\n",
      "BUILDING CLASS AT PRESENT             0\n",
      "ZIP CODE                              0\n",
      "RESIDENTIAL UNITS                     0\n",
      "COMMERCIAL UNITS                      0\n",
      "TOTAL UNITS                           0\n",
      "LAND SQUARE FEET                  17436\n",
      "GROSS SQUARE FEET                 17920\n",
      "YEAR BUILT                            0\n",
      "TAX CLASS AT TIME OF SALE             0\n",
      "BUILDING CLASS AT TIME OF SALE        0\n",
      "SALE PRICE                            0\n",
      "dtype: int64\n"
     ]
    }
   ],
   "source": [
    "print(nyc.shape)\n",
    "print(nyc.isna().sum())"
   ]
  },
  {
   "cell_type": "markdown",
   "metadata": {},
   "source": [
    "When dealing with this kind of problems one could try to infer them with machine using the average, delete them... I will try to assing the mean value after some outlier removal."
   ]
  },
  {
   "cell_type": "code",
   "execution_count": 16,
   "metadata": {},
   "outputs": [
    {
     "name": "stdout",
     "output_type": "stream",
     "text": [
      "Number of values before the cleaning 55989\n",
      "Number of values after the cleaning 29464\n"
     ]
    },
    {
     "data": {
      "text/plain": [
       "<matplotlib.axes._subplots.AxesSubplot at 0x13ecc9a6048>"
      ]
     },
     "execution_count": 16,
     "metadata": {},
     "output_type": "execute_result"
    },
    {
     "data": {
      "image/png": "[encoded data removed]",
      "text/plain": [
       "<Figure size 432x288 with 1 Axes>"
      ]
     },
     "metadata": {},
     "output_type": "display_data"
    }
   ],
   "source": [
    "nyc['LAND SQUARE FEET'].sort_values(ascending = False)\n",
    "values = nyc['LAND SQUARE FEET']\n",
    "#nyc['LAND SQUARE FEET'].sort_values(ascending = False)\n",
    "print(\"Number of values before the cleaning\", len(values))\n",
    "values = values[(values > 50) & (values < 10000)]\n",
    "print(\"Number of values after the cleaning\", len(values))\n",
    "values.hist()"
   ]
  },
  {
   "cell_type": "markdown",
   "metadata": {},
   "source": [
    "Note that with the histogram we can set the threshold and do visual outliers detection to check the most common values. I have set the down limit on 50 feet which is 15 meters and the upper on 10000 which is 3 Km. We neglected just a 28% of the values which is not bad."
   ]
  },
  {
   "cell_type": "code",
   "execution_count": 17,
   "metadata": {},
   "outputs": [
    {
     "name": "stdout",
     "output_type": "stream",
     "text": [
      "Number of values after the cleaning 29464 Average value 2904.0402185718162\n"
     ]
    }
   ],
   "source": [
    "mean_feet = values.mean()\n",
    "print(\"Number of values after the cleaning\", len(values), \"Average value\", mean_feet)"
   ]
  },
  {
   "cell_type": "code",
   "execution_count": 18,
   "metadata": {},
   "outputs": [
    {
     "name": "stdout",
     "output_type": "stream",
     "text": [
      "BEFORE  55989\n",
      "AFTER 46900\n"
     ]
    }
   ],
   "source": [
    "# FILL values AND OUTLier REMOVAL\n",
    "nyc['LAND SQUARE FEET']=nyc['LAND SQUARE FEET'].fillna(mean_feet)\n",
    "print(\"BEFORE \", len(nyc))\n",
    "nyc = nyc.loc[(nyc['LAND SQUARE FEET']> 50) & (nyc['LAND SQUARE FEET'] <10000) ,:]\n",
    "print(\"AFTER\", len(nyc))"
   ]
  },
  {
   "cell_type": "code",
   "execution_count": 19,
   "metadata": {},
   "outputs": [
    {
     "data": {
      "text/plain": [
       "<matplotlib.axes._subplots.AxesSubplot at 0x13ecc406f28>"
      ]
     },
     "execution_count": 19,
     "metadata": {},
     "output_type": "execute_result"
    },
    {
     "data": {
      "image/png": "[encoded data removed]",
      "text/plain": [
       "<Figure size 432x288 with 1 Axes>"
      ]
     },
     "metadata": {},
     "output_type": "display_data"
    }
   ],
   "source": [
    "# Now, same with GROSS\n",
    "values1 = nyc['GROSS SQUARE FEET'].sort_values()\n",
    "values1.hist(bins = 40)"
   ]
  },
  {
   "cell_type": "code",
   "execution_count": 20,
   "metadata": {},
   "outputs": [
    {
     "name": "stdout",
     "output_type": "stream",
     "text": [
      "BEFORE  46900\n",
      "AFTER 46288\n"
     ]
    },
    {
     "data": {
      "image/png": "[encoded data removed]",
      "text/plain": [
       "<Figure size 432x288 with 1 Axes>"
      ]
     },
     "metadata": {},
     "output_type": "display_data"
    }
   ],
   "source": [
    "values1 = values1[(values1 > 50) & (values1 < 20000)]\n",
    "values1.hist(bins = 40)\n",
    "mean_feet1 = values1.mean()\n",
    "nyc['GROSS SQUARE FEET']=nyc['GROSS SQUARE FEET'].fillna(mean_feet1)\n",
    "print(\"BEFORE \", len(nyc))\n",
    "nyc = nyc.loc[(nyc['GROSS SQUARE FEET']> 50) & (nyc['GROSS SQUARE FEET'] <20000) ,:]\n",
    "print(\"AFTER\", len(nyc))"
   ]
  },
  {
   "cell_type": "markdown",
   "metadata": {},
   "source": [
    "Now, let us have a last check at the target variable. WE can see that there is a high amount of values surprinsingly small. They might be wrong or strange values"
   ]
  },
  {
   "cell_type": "code",
   "execution_count": 21,
   "metadata": {},
   "outputs": [
    {
     "data": {
      "text/plain": [
       "<matplotlib.axes._subplots.AxesSubplot at 0x13ecca18a58>"
      ]
     },
     "execution_count": 21,
     "metadata": {},
     "output_type": "execute_result"
    },
    {
     "data": {
      "image/png": "[encoded data removed]",
      "text/plain": [
       "<Figure size 432x288 with 1 Axes>"
      ]
     },
     "metadata": {},
     "output_type": "display_data"
    }
   ],
   "source": [
    "nyc[\"SALE PRICE\"].hist(bins = 30)"
   ]
  },
  {
   "cell_type": "code",
   "execution_count": 22,
   "metadata": {},
   "outputs": [
    {
     "data": {
      "text/plain": [
       "0.0          2182\n",
       "10.0          669\n",
       "450000.0      386\n",
       "550000.0      371\n",
       "600000.0      364\n",
       "650000.0      353\n",
       "700000.0      348\n",
       "400000.0      346\n",
       "750000.0      331\n",
       "500000.0      309\n",
       "800000.0      295\n",
       "300000.0      292\n",
       "350000.0      289\n",
       "900000.0      288\n",
       "850000.0      276\n",
       "950000.0      272\n",
       "1100000.0     266\n",
       "1300000.0     247\n",
       "1200000.0     247\n",
       "250000.0      239\n",
       "475000.0      235\n",
       "425000.0      227\n",
       "525000.0      225\n",
       "325000.0      220\n",
       "480000.0      217\n",
       "460000.0      210\n",
       "625000.0      196\n",
       "530000.0      195\n",
       "420000.0      195\n",
       "1250000.0     194\n",
       "             ... \n",
       "815415.0        1\n",
       "456475.0        1\n",
       "93750.0         1\n",
       "515828.0        1\n",
       "1631000.0       1\n",
       "749950.0        1\n",
       "881020.0        1\n",
       "3774.0          1\n",
       "650824.0        1\n",
       "835090.0        1\n",
       "585292.0        1\n",
       "506029.0        1\n",
       "684363.0        1\n",
       "1106570.0       1\n",
       "618800.0        1\n",
       "309300.0        1\n",
       "489255.0        1\n",
       "522025.0        1\n",
       "70980.0         1\n",
       "941000.0        1\n",
       "374911.0        1\n",
       "342132.0        1\n",
       "456500.0        1\n",
       "1499500.0       1\n",
       "440400.0        1\n",
       "1237296.0       1\n",
       "1031729.0       1\n",
       "1499373.0       1\n",
       "1145989.0       1\n",
       "325500.0        1\n",
       "Name: SALE PRICE, Length: 6227, dtype: int64"
      ]
     },
     "execution_count": 22,
     "metadata": {},
     "output_type": "execute_result"
    }
   ],
   "source": [
    "nyc[\"SALE PRICE\"].value_counts()"
   ]
  },
  {
   "cell_type": "markdown",
   "metadata": {},
   "source": [
    "Let's delete all the 0 and 1000 dollars deals. "
   ]
  },
  {
   "cell_type": "code",
   "execution_count": 23,
   "metadata": {},
   "outputs": [
    {
     "name": "stdout",
     "output_type": "stream",
     "text": [
      "Rows AFTER processing SALE PRICE 46288\n",
      "Rows AFTER processing SALE PRICE 43140\n"
     ]
    }
   ],
   "source": [
    "print(\"Rows AFTER processing SALE PRICE\", len(nyc))\n",
    "nyc = nyc.loc[(nyc['SALE PRICE']> 1000) ,:]\n",
    "print(\"Rows AFTER processing SALE PRICE\", len(nyc))"
   ]
  },
  {
   "cell_type": "code",
   "execution_count": 24,
   "metadata": {},
   "outputs": [
    {
     "name": "stdout",
     "output_type": "stream",
     "text": [
      "Rather Normal, let skewed and possitve courtosis\n"
     ]
    },
    {
     "data": {
      "image/png": "[encoded data removed]",
      "text/plain": [
       "<Figure size 432x288 with 1 Axes>"
      ]
     },
     "metadata": {},
     "output_type": "display_data"
    }
   ],
   "source": [
    "nyc[\"SALE PRICE\"].hist(bins = 30)\n",
    "print(\"Rather Normal, let skewed and possitve courtosis\")"
   ]
  },
  {
   "cell_type": "code",
   "execution_count": 25,
   "metadata": {},
   "outputs": [
    {
     "data": {
      "text/plain": [
       "(0.5737893301633634, 0.9806770350082733)"
      ]
     },
     "execution_count": 25,
     "metadata": {},
     "output_type": "execute_result"
    }
   ],
   "source": [
    "# ASUMPTIONS CHECKED\n",
    "nyc[\"SALE PRICE\"].kurtosis(), nyc[\"SALE PRICE\"].skew()"
   ]
  },
  {
   "cell_type": "code",
   "execution_count": 26,
   "metadata": {},
   "outputs": [
    {
     "data": {
      "text/html": [
       "<div>\n",
       "<style scoped>\n",
       "    .dataframe tbody tr th:only-of-type {\n",
       "        vertical-align: middle;\n",
       "    }\n",
       "\n",
       "    .dataframe tbody tr th {\n",
       "        vertical-align: top;\n",
       "    }\n",
       "\n",
       "    .dataframe thead th {\n",
       "        text-align: right;\n",
       "    }\n",
       "</style>\n",
       "<table border=\"1\" class=\"dataframe\">\n",
       "  <thead>\n",
       "    <tr style=\"text-align: right;\">\n",
       "      <th></th>\n",
       "      <th>Unnamed: 0</th>\n",
       "      <th>BLOCK</th>\n",
       "      <th>LOT</th>\n",
       "      <th>RESIDENTIAL UNITS</th>\n",
       "      <th>COMMERCIAL UNITS</th>\n",
       "      <th>TOTAL UNITS</th>\n",
       "      <th>LAND SQUARE FEET</th>\n",
       "      <th>GROSS SQUARE FEET</th>\n",
       "      <th>YEAR BUILT</th>\n",
       "      <th>TAX CLASS AT TIME OF SALE</th>\n",
       "      <th>SALE PRICE</th>\n",
       "    </tr>\n",
       "  </thead>\n",
       "  <tbody>\n",
       "    <tr>\n",
       "      <th>Unnamed: 0</th>\n",
       "      <td>1.000000</td>\n",
       "      <td>0.337277</td>\n",
       "      <td>-0.060950</td>\n",
       "      <td>-0.041922</td>\n",
       "      <td>0.003825</td>\n",
       "      <td>-0.000563</td>\n",
       "      <td>-0.047802</td>\n",
       "      <td>-0.068991</td>\n",
       "      <td>-0.012916</td>\n",
       "      <td>0.012386</td>\n",
       "      <td>-0.055241</td>\n",
       "    </tr>\n",
       "    <tr>\n",
       "      <th>BLOCK</th>\n",
       "      <td>0.337277</td>\n",
       "      <td>1.000000</td>\n",
       "      <td>-0.215538</td>\n",
       "      <td>0.129120</td>\n",
       "      <td>0.007237</td>\n",
       "      <td>0.020525</td>\n",
       "      <td>0.099547</td>\n",
       "      <td>-0.163527</td>\n",
       "      <td>0.087005</td>\n",
       "      <td>-0.350428</td>\n",
       "      <td>-0.255044</td>\n",
       "    </tr>\n",
       "    <tr>\n",
       "      <th>LOT</th>\n",
       "      <td>-0.060950</td>\n",
       "      <td>-0.215538</td>\n",
       "      <td>1.000000</td>\n",
       "      <td>-0.111010</td>\n",
       "      <td>-0.003477</td>\n",
       "      <td>-0.014120</td>\n",
       "      <td>-0.002414</td>\n",
       "      <td>0.017262</td>\n",
       "      <td>-0.283518</td>\n",
       "      <td>0.311446</td>\n",
       "      <td>0.163705</td>\n",
       "    </tr>\n",
       "    <tr>\n",
       "      <th>RESIDENTIAL UNITS</th>\n",
       "      <td>-0.041922</td>\n",
       "      <td>0.129120</td>\n",
       "      <td>-0.111010</td>\n",
       "      <td>1.000000</td>\n",
       "      <td>-0.003398</td>\n",
       "      <td>0.102368</td>\n",
       "      <td>-0.072124</td>\n",
       "      <td>0.454814</td>\n",
       "      <td>0.086415</td>\n",
       "      <td>-0.363367</td>\n",
       "      <td>0.190424</td>\n",
       "    </tr>\n",
       "    <tr>\n",
       "      <th>COMMERCIAL UNITS</th>\n",
       "      <td>0.003825</td>\n",
       "      <td>0.007237</td>\n",
       "      <td>-0.003477</td>\n",
       "      <td>-0.003398</td>\n",
       "      <td>1.000000</td>\n",
       "      <td>0.994351</td>\n",
       "      <td>0.000380</td>\n",
       "      <td>0.021864</td>\n",
       "      <td>0.001276</td>\n",
       "      <td>0.026568</td>\n",
       "      <td>-0.001813</td>\n",
       "    </tr>\n",
       "    <tr>\n",
       "      <th>TOTAL UNITS</th>\n",
       "      <td>-0.000563</td>\n",
       "      <td>0.020525</td>\n",
       "      <td>-0.014120</td>\n",
       "      <td>0.102368</td>\n",
       "      <td>0.994351</td>\n",
       "      <td>1.000000</td>\n",
       "      <td>-0.007338</td>\n",
       "      <td>0.070242</td>\n",
       "      <td>0.009727</td>\n",
       "      <td>-0.009625</td>\n",
       "      <td>0.018225</td>\n",
       "    </tr>\n",
       "    <tr>\n",
       "      <th>LAND SQUARE FEET</th>\n",
       "      <td>-0.047802</td>\n",
       "      <td>0.099547</td>\n",
       "      <td>-0.002414</td>\n",
       "      <td>-0.072124</td>\n",
       "      <td>0.000380</td>\n",
       "      <td>-0.007338</td>\n",
       "      <td>1.000000</td>\n",
       "      <td>0.106591</td>\n",
       "      <td>-0.015010</td>\n",
       "      <td>0.026091</td>\n",
       "      <td>0.063594</td>\n",
       "    </tr>\n",
       "    <tr>\n",
       "      <th>GROSS SQUARE FEET</th>\n",
       "      <td>-0.068991</td>\n",
       "      <td>-0.163527</td>\n",
       "      <td>0.017262</td>\n",
       "      <td>0.454814</td>\n",
       "      <td>0.021864</td>\n",
       "      <td>0.070242</td>\n",
       "      <td>0.106591</td>\n",
       "      <td>1.000000</td>\n",
       "      <td>-0.013482</td>\n",
       "      <td>0.264794</td>\n",
       "      <td>0.270735</td>\n",
       "    </tr>\n",
       "    <tr>\n",
       "      <th>YEAR BUILT</th>\n",
       "      <td>-0.012916</td>\n",
       "      <td>0.087005</td>\n",
       "      <td>-0.283518</td>\n",
       "      <td>0.086415</td>\n",
       "      <td>0.001276</td>\n",
       "      <td>0.009727</td>\n",
       "      <td>-0.015010</td>\n",
       "      <td>-0.013482</td>\n",
       "      <td>1.000000</td>\n",
       "      <td>-0.156962</td>\n",
       "      <td>-0.048547</td>\n",
       "    </tr>\n",
       "    <tr>\n",
       "      <th>TAX CLASS AT TIME OF SALE</th>\n",
       "      <td>0.012386</td>\n",
       "      <td>-0.350428</td>\n",
       "      <td>0.311446</td>\n",
       "      <td>-0.363367</td>\n",
       "      <td>0.026568</td>\n",
       "      <td>-0.009625</td>\n",
       "      <td>0.026091</td>\n",
       "      <td>0.264794</td>\n",
       "      <td>-0.156962</td>\n",
       "      <td>1.000000</td>\n",
       "      <td>0.082149</td>\n",
       "    </tr>\n",
       "    <tr>\n",
       "      <th>SALE PRICE</th>\n",
       "      <td>-0.055241</td>\n",
       "      <td>-0.255044</td>\n",
       "      <td>0.163705</td>\n",
       "      <td>0.190424</td>\n",
       "      <td>-0.001813</td>\n",
       "      <td>0.018225</td>\n",
       "      <td>0.063594</td>\n",
       "      <td>0.270735</td>\n",
       "      <td>-0.048547</td>\n",
       "      <td>0.082149</td>\n",
       "      <td>1.000000</td>\n",
       "    </tr>\n",
       "  </tbody>\n",
       "</table>\n",
       "</div>"
      ],
      "text/plain": [
       "                           Unnamed: 0     BLOCK       LOT  RESIDENTIAL UNITS  \\\n",
       "Unnamed: 0                   1.000000  0.337277 -0.060950          -0.041922   \n",
       "BLOCK                        0.337277  1.000000 -0.215538           0.129120   \n",
       "LOT                         -0.060950 -0.215538  1.000000          -0.111010   \n",
       "RESIDENTIAL UNITS           -0.041922  0.129120 -0.111010           1.000000   \n",
       "COMMERCIAL UNITS             0.003825  0.007237 -0.003477          -0.003398   \n",
       "TOTAL UNITS                 -0.000563  0.020525 -0.014120           0.102368   \n",
       "LAND SQUARE FEET            -0.047802  0.099547 -0.002414          -0.072124   \n",
       "GROSS SQUARE FEET           -0.068991 -0.163527  0.017262           0.454814   \n",
       "YEAR BUILT                  -0.012916  0.087005 -0.283518           0.086415   \n",
       "TAX CLASS AT TIME OF SALE    0.012386 -0.350428  0.311446          -0.363367   \n",
       "SALE PRICE                  -0.055241 -0.255044  0.163705           0.190424   \n",
       "\n",
       "                           COMMERCIAL UNITS  TOTAL UNITS  LAND SQUARE FEET  \\\n",
       "Unnamed: 0                         0.003825    -0.000563         -0.047802   \n",
       "BLOCK                              0.007237     0.020525          0.099547   \n",
       "LOT                               -0.003477    -0.014120         -0.002414   \n",
       "RESIDENTIAL UNITS                 -0.003398     0.102368         -0.072124   \n",
       "COMMERCIAL UNITS                   1.000000     0.994351          0.000380   \n",
       "TOTAL UNITS                        0.994351     1.000000         -0.007338   \n",
       "LAND SQUARE FEET                   0.000380    -0.007338          1.000000   \n",
       "GROSS SQUARE FEET                  0.021864     0.070242          0.106591   \n",
       "YEAR BUILT                         0.001276     0.009727         -0.015010   \n",
       "TAX CLASS AT TIME OF SALE          0.026568    -0.009625          0.026091   \n",
       "SALE PRICE                        -0.001813     0.018225          0.063594   \n",
       "\n",
       "                           GROSS SQUARE FEET  YEAR BUILT  \\\n",
       "Unnamed: 0                         -0.068991   -0.012916   \n",
       "BLOCK                              -0.163527    0.087005   \n",
       "LOT                                 0.017262   -0.283518   \n",
       "RESIDENTIAL UNITS                   0.454814    0.086415   \n",
       "COMMERCIAL UNITS                    0.021864    0.001276   \n",
       "TOTAL UNITS                         0.070242    0.009727   \n",
       "LAND SQUARE FEET                    0.106591   -0.015010   \n",
       "GROSS SQUARE FEET                   1.000000   -0.013482   \n",
       "YEAR BUILT                         -0.013482    1.000000   \n",
       "TAX CLASS AT TIME OF SALE           0.264794   -0.156962   \n",
       "SALE PRICE                          0.270735   -0.048547   \n",
       "\n",
       "                           TAX CLASS AT TIME OF SALE  SALE PRICE  \n",
       "Unnamed: 0                                  0.012386   -0.055241  \n",
       "BLOCK                                      -0.350428   -0.255044  \n",
       "LOT                                         0.311446    0.163705  \n",
       "RESIDENTIAL UNITS                          -0.363367    0.190424  \n",
       "COMMERCIAL UNITS                            0.026568   -0.001813  \n",
       "TOTAL UNITS                                -0.009625    0.018225  \n",
       "LAND SQUARE FEET                            0.026091    0.063594  \n",
       "GROSS SQUARE FEET                           0.264794    0.270735  \n",
       "YEAR BUILT                                 -0.156962   -0.048547  \n",
       "TAX CLASS AT TIME OF SALE                   1.000000    0.082149  \n",
       "SALE PRICE                                  0.082149    1.000000  "
      ]
     },
     "execution_count": 26,
     "metadata": {},
     "output_type": "execute_result"
    }
   ],
   "source": [
    "nyc.corr()"
   ]
  },
  {
   "cell_type": "raw",
   "metadata": {},
   "source": [
    "As we can see the 2 most correlated numerical variables of the dataset with sale price are Block and GROSS SQUARE FEEt. These two along with either Borough or Neigbourhood which are the most intuitive important of the categorical ones are the ones selected for me. We need to make one_hot encoding of these last 2 before taking care of not introducing any implicit order."
   ]
  },
  {
   "cell_type": "code",
   "execution_count": 27,
   "metadata": {},
   "outputs": [
    {
     "name": "stdout",
     "output_type": "stream",
     "text": [
      "       Unnamed: 0 BOROUGH      NEIGHBORHOOD  \\\n",
      "79948        3814       5     MIDLAND BEACH   \n",
      "7224         7228       1  MANHATTAN VALLEY   \n",
      "83315        7181       5       TOTTENVILLE   \n",
      "42802       17451       3         NAVY YARD   \n",
      "79172        3038       5       GRYMES HILL   \n",
      "\n",
      "                           BUILDING CLASS CATEGORY TAX CLASS AT PRESENT  \\\n",
      "79948  01 ONE FAMILY DWELLINGS                                        1   \n",
      "7224   13 CONDOS - ELEVATOR APARTMENTS                                2   \n",
      "83315  01 ONE FAMILY DWELLINGS                                        1   \n",
      "42802  14 RENTALS - 4-10 UNIT                                        2A   \n",
      "79172  02 TWO FAMILY DWELLINGS                                        1   \n",
      "\n",
      "       BLOCK   LOT BUILDING CLASS AT PRESENT ZIP CODE  RESIDENTIAL UNITS  \\\n",
      "79948   3810    38                        A6    10306                  1   \n",
      "7224    1844  1005                        R4    10025                  1   \n",
      "83315   7899    39                        A5    10307                  1   \n",
      "42802   2031    60                        S3    11205                  3   \n",
      "79172    616    31                        B9    10304                  2   \n",
      "\n",
      "       COMMERCIAL UNITS  TOTAL UNITS  LAND SQUARE FEET  GROSS SQUARE FEET  \\\n",
      "79948                 0            1       2000.000000         850.000000   \n",
      "7224                  0            1       2904.040219        2091.093027   \n",
      "83315                 0            1       2312.000000        1744.000000   \n",
      "42802                 1            4       2010.000000        3760.000000   \n",
      "79172                 0            2       2023.000000        2280.000000   \n",
      "\n",
      "       YEAR BUILT  TAX CLASS AT TIME OF SALE BUILDING CLASS AT TIME OF SALE  \\\n",
      "79948        1935                          1                             A6   \n",
      "7224         1900                          2                             R4   \n",
      "83315        2005                          1                             A5   \n",
      "42802        1960                          2                             S3   \n",
      "79172        2004                          1                             B9   \n",
      "\n",
      "       SALE PRICE  \n",
      "79948      1162.0  \n",
      "7224       1175.0  \n",
      "83315      1500.0  \n",
      "42802      2000.0  \n",
      "79172      2000.0  \n"
     ]
    },
    {
     "data": {
      "text/html": [
       "<div>\n",
       "<style scoped>\n",
       "    .dataframe tbody tr th:only-of-type {\n",
       "        vertical-align: middle;\n",
       "    }\n",
       "\n",
       "    .dataframe tbody tr th {\n",
       "        vertical-align: top;\n",
       "    }\n",
       "\n",
       "    .dataframe thead th {\n",
       "        text-align: right;\n",
       "    }\n",
       "</style>\n",
       "<table border=\"1\" class=\"dataframe\">\n",
       "  <thead>\n",
       "    <tr style=\"text-align: right;\">\n",
       "      <th></th>\n",
       "      <th>AIRPORT LA GUARDIA</th>\n",
       "      <th>ALPHABET CITY</th>\n",
       "      <th>ANNADALE</th>\n",
       "      <th>ARDEN HEIGHTS</th>\n",
       "      <th>ARROCHAR</th>\n",
       "      <th>ARROCHAR-SHORE ACRES</th>\n",
       "      <th>ARVERNE</th>\n",
       "      <th>ASTORIA</th>\n",
       "      <th>BATH BEACH</th>\n",
       "      <th>BATHGATE</th>\n",
       "      <th>...</th>\n",
       "      <th>WILLIAMSBURG-EAST</th>\n",
       "      <th>WILLIAMSBURG-NORTH</th>\n",
       "      <th>WILLIAMSBURG-SOUTH</th>\n",
       "      <th>WILLOWBROOK</th>\n",
       "      <th>WINDSOR TERRACE</th>\n",
       "      <th>WOODHAVEN</th>\n",
       "      <th>WOODLAWN</th>\n",
       "      <th>WOODROW</th>\n",
       "      <th>WOODSIDE</th>\n",
       "      <th>WYCKOFF HEIGHTS</th>\n",
       "    </tr>\n",
       "  </thead>\n",
       "  <tbody>\n",
       "    <tr>\n",
       "      <th>79948</th>\n",
       "      <td>0</td>\n",
       "      <td>0</td>\n",
       "      <td>0</td>\n",
       "      <td>0</td>\n",
       "      <td>0</td>\n",
       "      <td>0</td>\n",
       "      <td>0</td>\n",
       "      <td>0</td>\n",
       "      <td>0</td>\n",
       "      <td>0</td>\n",
       "      <td>...</td>\n",
       "      <td>0</td>\n",
       "      <td>0</td>\n",
       "      <td>0</td>\n",
       "      <td>0</td>\n",
       "      <td>0</td>\n",
       "      <td>0</td>\n",
       "      <td>0</td>\n",
       "      <td>0</td>\n",
       "      <td>0</td>\n",
       "      <td>0</td>\n",
       "    </tr>\n",
       "    <tr>\n",
       "      <th>7224</th>\n",
       "      <td>0</td>\n",
       "      <td>0</td>\n",
       "      <td>0</td>\n",
       "      <td>0</td>\n",
       "      <td>0</td>\n",
       "      <td>0</td>\n",
       "      <td>0</td>\n",
       "      <td>0</td>\n",
       "      <td>0</td>\n",
       "      <td>0</td>\n",
       "      <td>...</td>\n",
       "      <td>0</td>\n",
       "      <td>0</td>\n",
       "      <td>0</td>\n",
       "      <td>0</td>\n",
       "      <td>0</td>\n",
       "      <td>0</td>\n",
       "      <td>0</td>\n",
       "      <td>0</td>\n",
       "      <td>0</td>\n",
       "      <td>0</td>\n",
       "    </tr>\n",
       "    <tr>\n",
       "      <th>83315</th>\n",
       "      <td>0</td>\n",
       "      <td>0</td>\n",
       "      <td>0</td>\n",
       "      <td>0</td>\n",
       "      <td>0</td>\n",
       "      <td>0</td>\n",
       "      <td>0</td>\n",
       "      <td>0</td>\n",
       "      <td>0</td>\n",
       "      <td>0</td>\n",
       "      <td>...</td>\n",
       "      <td>0</td>\n",
       "      <td>0</td>\n",
       "      <td>0</td>\n",
       "      <td>0</td>\n",
       "      <td>0</td>\n",
       "      <td>0</td>\n",
       "      <td>0</td>\n",
       "      <td>0</td>\n",
       "      <td>0</td>\n",
       "      <td>0</td>\n",
       "    </tr>\n",
       "    <tr>\n",
       "      <th>42802</th>\n",
       "      <td>0</td>\n",
       "      <td>0</td>\n",
       "      <td>0</td>\n",
       "      <td>0</td>\n",
       "      <td>0</td>\n",
       "      <td>0</td>\n",
       "      <td>0</td>\n",
       "      <td>0</td>\n",
       "      <td>0</td>\n",
       "      <td>0</td>\n",
       "      <td>...</td>\n",
       "      <td>0</td>\n",
       "      <td>0</td>\n",
       "      <td>0</td>\n",
       "      <td>0</td>\n",
       "      <td>0</td>\n",
       "      <td>0</td>\n",
       "      <td>0</td>\n",
       "      <td>0</td>\n",
       "      <td>0</td>\n",
       "      <td>0</td>\n",
       "    </tr>\n",
       "    <tr>\n",
       "      <th>79172</th>\n",
       "      <td>0</td>\n",
       "      <td>0</td>\n",
       "      <td>0</td>\n",
       "      <td>0</td>\n",
       "      <td>0</td>\n",
       "      <td>0</td>\n",
       "      <td>0</td>\n",
       "      <td>0</td>\n",
       "      <td>0</td>\n",
       "      <td>0</td>\n",
       "      <td>...</td>\n",
       "      <td>0</td>\n",
       "      <td>0</td>\n",
       "      <td>0</td>\n",
       "      <td>0</td>\n",
       "      <td>0</td>\n",
       "      <td>0</td>\n",
       "      <td>0</td>\n",
       "      <td>0</td>\n",
       "      <td>0</td>\n",
       "      <td>0</td>\n",
       "    </tr>\n",
       "  </tbody>\n",
       "</table>\n",
       "<p>5 rows × 254 columns</p>\n",
       "</div>"
      ],
      "text/plain": [
       "       AIRPORT LA GUARDIA  ALPHABET CITY  ANNADALE  ARDEN HEIGHTS  ARROCHAR  \\\n",
       "79948                   0              0         0              0         0   \n",
       "7224                    0              0         0              0         0   \n",
       "83315                   0              0         0              0         0   \n",
       "42802                   0              0         0              0         0   \n",
       "79172                   0              0         0              0         0   \n",
       "\n",
       "       ARROCHAR-SHORE ACRES  ARVERNE  ASTORIA  BATH BEACH  BATHGATE  \\\n",
       "79948                     0        0        0           0         0   \n",
       "7224                      0        0        0           0         0   \n",
       "83315                     0        0        0           0         0   \n",
       "42802                     0        0        0           0         0   \n",
       "79172                     0        0        0           0         0   \n",
       "\n",
       "            ...         WILLIAMSBURG-EAST  WILLIAMSBURG-NORTH  \\\n",
       "79948       ...                         0                   0   \n",
       "7224        ...                         0                   0   \n",
       "83315       ...                         0                   0   \n",
       "42802       ...                         0                   0   \n",
       "79172       ...                         0                   0   \n",
       "\n",
       "       WILLIAMSBURG-SOUTH  WILLOWBROOK  WINDSOR TERRACE  WOODHAVEN  WOODLAWN  \\\n",
       "79948                   0            0                0          0         0   \n",
       "7224                    0            0                0          0         0   \n",
       "83315                   0            0                0          0         0   \n",
       "42802                   0            0                0          0         0   \n",
       "79172                   0            0                0          0         0   \n",
       "\n",
       "       WOODROW  WOODSIDE  WYCKOFF HEIGHTS  \n",
       "79948        0         0                0  \n",
       "7224         0         0                0  \n",
       "83315        0         0                0  \n",
       "42802        0         0                0  \n",
       "79172        0         0                0  \n",
       "\n",
       "[5 rows x 254 columns]"
      ]
     },
     "execution_count": 27,
     "metadata": {},
     "output_type": "execute_result"
    }
   ],
   "source": [
    "boro_hot_encoded = pd.get_dummies(nyc['BOROUGH'])\n",
    "#boro_hot_encoded\n",
    "nb_hot_encoded = pd.get_dummies(nyc['NEIGHBORHOOD'])\n",
    "print(nyc.head())\n",
    "nb_hot_encoded.head()\n"
   ]
  },
  {
   "cell_type": "code",
   "execution_count": 28,
   "metadata": {},
   "outputs": [],
   "source": [
    "nyc_num = nyc.loc[:,[\"BLOCK\",\"GROSS SQUARE FEET\", \"SALE PRICE\"]]"
   ]
  },
  {
   "cell_type": "code",
   "execution_count": 29,
   "metadata": {},
   "outputs": [
    {
     "name": "stdout",
     "output_type": "stream",
     "text": [
      "       BLOCK  GROSS SQUARE FEET  SALE PRICE  1  2  3  4  5\n",
      "79948   3810         850.000000      1162.0  0  0  0  0  1\n",
      "7224    1844        2091.093027      1175.0  1  0  0  0  0\n",
      "83315   7899        1744.000000      1500.0  0  0  0  0  1\n",
      "42802   2031        3760.000000      2000.0  0  0  1  0  0\n",
      "79172    616        2280.000000      2000.0  0  0  0  0  1\n"
     ]
    }
   ],
   "source": [
    "ml1,ml2 = pd.concat([nyc_num, boro_hot_encoded] ,axis=1), pd.concat([nyc_num, nb_hot_encoded] ,axis=1)\n",
    "print(ml1.head())"
   ]
  },
  {
   "cell_type": "markdown",
   "metadata": {},
   "source": [
    "## Dataset splitting.\n",
    "We will perform a typical 75 - 25 splitting for our datasets to be used for both models."
   ]
  },
  {
   "cell_type": "code",
   "execution_count": 30,
   "metadata": {},
   "outputs": [
    {
     "name": "stdout",
     "output_type": "stream",
     "text": [
      "43140 43140\n"
     ]
    }
   ],
   "source": [
    "y1 = ml1['SALE PRICE']\n",
    "x1= ml1.drop('SALE PRICE', axis=1)\n",
    "print(len(x1),len(y1))"
   ]
  },
  {
   "cell_type": "code",
   "execution_count": 31,
   "metadata": {},
   "outputs": [
    {
     "name": "stdout",
     "output_type": "stream",
     "text": [
      "(32355, 7) (10785, 7) (32355,) (10785,)\n"
     ]
    }
   ],
   "source": [
    "from sklearn.model_selection import train_test_split\n",
    "x1_train, x1_test, y1_train, y1_test = train_test_split(x1, y1, test_size=0.25, random_state=101)\n",
    "print(x1_train.shape, x1_test.shape,y1_train.shape, y1_test.shape)"
   ]
  },
  {
   "cell_type": "markdown",
   "metadata": {},
   "source": [
    "## Model train"
   ]
  },
  {
   "cell_type": "code",
   "execution_count": 32,
   "metadata": {},
   "outputs": [
    {
     "name": "stdout",
     "output_type": "stream",
     "text": [
      "Wall time: 72.9 ms\n"
     ]
    }
   ],
   "source": [
    "%%time\n",
    "from sklearn import linear_model\n",
    "lr1 = linear_model.LinearRegression()\n",
    "lr1.fit(x1_train, y1_train)\n"
   ]
  },
  {
   "cell_type": "markdown",
   "metadata": {},
   "source": [
    "## Linear Reg Model"
   ]
  },
  {
   "cell_type": "code",
   "execution_count": 33,
   "metadata": {},
   "outputs": [
    {
     "name": "stdout",
     "output_type": "stream",
     "text": [
      "Train mae: 272689.0811\n",
      "Train rmse: 351644.2896\n",
      "Train R^2: 0.23\n",
      "Wall time: 6.94 ms\n"
     ]
    }
   ],
   "source": [
    "%%time\n",
    "from sklearn.metrics import mean_absolute_error, mean_squared_error, r2_score\n",
    "import numpy as np\n",
    "y_pred = lr1.predict(x1_train)\n",
    "print(\"Train mae: %.4f\"% mean_absolute_error(y1_train, y_pred))\n",
    "print(\"Train rmse: %.4f\" % np.sqrt(mean_squared_error(y1_train, y_pred)))\n",
    "print('Train R^2: %.2f' % r2_score(y1_train, y_pred))"
   ]
  },
  {
   "cell_type": "code",
   "execution_count": 34,
   "metadata": {},
   "outputs": [
    {
     "name": "stdout",
     "output_type": "stream",
     "text": [
      "TEST MAE: 274538.7106\n",
      "TEST RMSE: 355642.2881\n",
      "TEST R^2: 0.23\n",
      "Wall time: 4.96 ms\n"
     ]
    }
   ],
   "source": [
    "%%time\n",
    "from sklearn.metrics import mean_absolute_error, mean_squared_error, r2_score\n",
    "import numpy as np\n",
    "y_pred = lr1.predict(x1_test)\n",
    "print(\"TEST MAE: %.4f\"% mean_absolute_error(y1_test, y_pred))\n",
    "print(\"TEST RMSE: %.4f\" % np.sqrt(mean_squared_error(y1_test, y_pred)))\n",
    "print('TEST R^2: %.2f' % r2_score(y1_test, y_pred))"
   ]
  },
  {
   "cell_type": "markdown",
   "metadata": {},
   "source": [
    "### Linear Model Conclusions\n",
    "As we can see, errors and $R^2$ coefficient are very similar from both train and test so we might be having a little bit of underfitting. This seems normal for me since we the model is quite similar as we are just using 3 features among the many we have. If we would use more features model would be complex and we could infer on overfitting problems. The $R^2$ coefficient tells us that little part of the variance is being explained and that the model is not too good. Also, we can see that the run time is longer for train set which is normal because it is 3 times more data."
   ]
  },
  {
   "cell_type": "markdown",
   "metadata": {},
   "source": [
    "## Deep Learning aproach.\n",
    "Now that we have done the preprocessing and the linear model part, let's compare it with deep learning modelling. Since we are on a regression problem I will use  MLPRegressor. A multilayer perceptron (MLP) is a class of feedforward artificial neural network. A MLP consists of, at least, three layers of nodes: an input layer, a hidden layer and an output layer. MLPs are universal function approximators as showed by Cybenko's theorem, so they can be used to create mathematical models by regression analysis. It is highly recommendable to standardize the data before using this model."
   ]
  },
  {
   "cell_type": "code",
   "execution_count": 35,
   "metadata": {},
   "outputs": [
    {
     "name": "stdout",
     "output_type": "stream",
     "text": [
      "BEFORE-->  \n",
      "        BLOCK  GROSS SQUARE FEET  1  2  3  4  5\n",
      "74719    177        2091.093027  0  0  0  1  0\n",
      "67394   2983        2560.000000  0  0  0  1  0\n",
      "69474   2086        2091.093027  0  0  0  1  0\n",
      "74622    200        2482.000000  0  0  0  1  0\n",
      "21347   2683        2340.000000  0  1  0  0  0 \n",
      "\n",
      "AFTER--> \n",
      " [[-1.17858684  0.064587   -0.54077933 -0.279986   -0.44609354  1.21252813\n",
      "  -0.38697018]\n",
      " [-0.42801401  0.6365544  -0.54077933 -0.279986   -0.44609354  1.21252813\n",
      "  -0.38697018]\n",
      " [-0.66795122  0.064587   -0.54077933 -0.279986   -0.44609354  1.21252813\n",
      "  -0.38697018]\n",
      " [-1.1724346   0.54141089 -0.54077933 -0.279986   -0.44609354  1.21252813\n",
      "  -0.38697018]\n",
      " [-0.50826057  0.3682009  -0.54077933  3.57160714 -0.44609354 -0.82472314\n",
      "  -0.38697018]]\n"
     ]
    },
    {
     "name": "stderr",
     "output_type": "stream",
     "text": [
      "C:\\Users\\Borja042\\Anaconda3\\lib\\site-packages\\sklearn\\preprocessing\\data.py:625: DataConversionWarning: Data with input dtype uint8, int64, float64 were all converted to float64 by StandardScaler.\n",
      "  return self.partial_fit(X, y)\n",
      "C:\\Users\\Borja042\\Anaconda3\\lib\\site-packages\\ipykernel_launcher.py:5: DataConversionWarning: Data with input dtype uint8, int64, float64 were all converted to float64 by StandardScaler.\n",
      "  \"\"\"\n",
      "C:\\Users\\Borja042\\Anaconda3\\lib\\site-packages\\ipykernel_launcher.py:6: DataConversionWarning: Data with input dtype uint8, int64, float64 were all converted to float64 by StandardScaler.\n",
      "  \n"
     ]
    }
   ],
   "source": [
    "from sklearn.preprocessing import StandardScaler\n",
    "transformer = StandardScaler()\n",
    "transformer.fit(x1_train)\n",
    "print(\"BEFORE--> \", \"\\n\", x1_train[0:5], \"\\n\")\n",
    "Xd_train = transformer.transform(x1_train)\n",
    "Xd_test = transformer.transform(x1_test)\n",
    "print(\"AFTER-->\", \"\\n\", Xd_train[0:5])"
   ]
  },
  {
   "cell_type": "markdown",
   "metadata": {},
   "source": [
    "Since Neural Networks use many different parameters I am going to define some different architectures to check what happens. Eventhough some people define DNN as blackboxes it is possible to have some intuition on which parameters should be used but I am not that experienced yet despite the 2 little courses on DNN taken. \n",
    "\n",
    "As activation function I am going to use relu, since we are on a regresion problem so we should forget about tanh or sigmoid that are better suited for classification tasks. And for the solvers I will try both, The default solver ‘adam’ works pretty well on relatively large datasets (with thousands of training samples or more) in terms of both training time and validation score. For small datasets, however, ‘lbfgs’ can converge faster and perform better. For the L2 parameter (alpha : float, optional, default 0.0001 L2 penalty (regularization term) parameter) we will use the default value. We will also try some different parameters for max_iters and different hidden layers architectures always using a power of in case we would use a GPU for faster training."
   ]
  },
  {
   "cell_type": "code",
   "execution_count": 36,
   "metadata": {},
   "outputs": [
    {
     "name": "stdout",
     "output_type": "stream",
     "text": [
      "Wall time: 15.2 s\n"
     ]
    },
    {
     "name": "stderr",
     "output_type": "stream",
     "text": [
      "C:\\Users\\Borja042\\Anaconda3\\lib\\site-packages\\sklearn\\neural_network\\multilayer_perceptron.py:562: ConvergenceWarning: Stochastic Optimizer: Maximum iterations (100) reached and the optimization hasn't converged yet.\n",
      "  % self.max_iter, ConvergenceWarning)\n"
     ]
    }
   ],
   "source": [
    "%%time\n",
    "from sklearn.neural_network import MLPRegressor\n",
    "mlp11 = MLPRegressor(activation = 'relu', solver='adam', alpha=0.0001, hidden_layer_sizes=(32,32,32), max_iter=100)\n",
    "mlp11.fit(Xd_train, y1_train)"
   ]
  },
  {
   "cell_type": "code",
   "execution_count": 37,
   "metadata": {},
   "outputs": [
    {
     "name": "stdout",
     "output_type": "stream",
     "text": [
      "Wall time: 10.3 s\n"
     ]
    }
   ],
   "source": [
    "%%time\n",
    "mlp12 = MLPRegressor(activation = 'relu', solver='lbfgs', alpha=0.0001, hidden_layer_sizes=(32,32,32), max_iter=100)\n",
    "mlp12.fit(Xd_train, y1_train)"
   ]
  },
  {
   "cell_type": "code",
   "execution_count": 38,
   "metadata": {},
   "outputs": [
    {
     "name": "stdout",
     "output_type": "stream",
     "text": [
      "mae: 269082.3646\n",
      "rmse: 350988.6847\n",
      "TEST R^2: 0.25\n",
      "Wall time: 23.8 ms\n"
     ]
    }
   ],
   "source": [
    "%%time\n",
    "y_pred = mlp11.predict(Xd_test)\n",
    "print(\"mae: %.4f\"% mean_absolute_error(y1_test, y_pred))\n",
    "print(\"rmse: %.4f\" % np.sqrt(mean_squared_error(y1_test, y_pred)))\n",
    "print('TEST R^2: %.2f' % r2_score(y1_test, y_pred))"
   ]
  },
  {
   "cell_type": "code",
   "execution_count": 39,
   "metadata": {},
   "outputs": [
    {
     "name": "stdout",
     "output_type": "stream",
     "text": [
      "mae: 256668.8086\n",
      "rmse: 338375.6292\n",
      "TEST R^2: 0.30\n",
      "Wall time: 14.4 ms\n"
     ]
    }
   ],
   "source": [
    "%%time\n",
    "y_pred = mlp12.predict(Xd_test)\n",
    "print(\"mae: %.4f\"% mean_absolute_error(y1_test, y_pred))\n",
    "print(\"rmse: %.4f\" % np.sqrt(mean_squared_error(y1_test, y_pred)))\n",
    "print('TEST R^2: %.2f' % r2_score(y1_test, y_pred))"
   ]
  },
  {
   "cell_type": "markdown",
   "metadata": {},
   "source": [
    "As we can see lbfgs seems to perform better and it works faster than adam method, since it is a stochastic method. Let us try somer complicated models now."
   ]
  },
  {
   "cell_type": "code",
   "execution_count": 40,
   "metadata": {},
   "outputs": [],
   "source": [
    "mlpf1 = MLPRegressor(activation = 'relu', solver='adam', alpha=0.0001, hidden_layer_sizes=(32,64,32), max_iter=100)\n",
    "mlpf2 = MLPRegressor(activation = 'relu', solver='adam', alpha=0.0001, hidden_layer_sizes=(32,64,128,64,32), max_iter=200)\n",
    "mlpf3 = MLPRegressor(activation = 'relu', solver='adam', alpha=0.0001, hidden_layer_sizes=(64,128,256,128,64), max_iter=400)\n",
    "mlpf4 = MLPRegressor(activation = 'relu', solver='adam', alpha=0.0001, hidden_layer_sizes=(64,128,256,512,256,128,64), max_iter=700)\n",
    "models = [mlpf1, mlpf2, mlpf3, mlpf4]"
   ]
  },
  {
   "cell_type": "code",
   "execution_count": 41,
   "metadata": {},
   "outputs": [
    {
     "name": "stdout",
     "output_type": "stream",
     "text": [
      "------\n",
      "New model --> \n"
     ]
    },
    {
     "name": "stderr",
     "output_type": "stream",
     "text": [
      "C:\\Users\\Borja042\\Anaconda3\\lib\\site-packages\\sklearn\\neural_network\\multilayer_perceptron.py:562: ConvergenceWarning: Stochastic Optimizer: Maximum iterations (100) reached and the optimization hasn't converged yet.\n",
      "  % self.max_iter, ConvergenceWarning)\n"
     ]
    },
    {
     "name": "stdout",
     "output_type": "stream",
     "text": [
      "mae: 267883.4971\n",
      "rmse: 349871.7868\n",
      "TEST R^2: 0.26\n",
      "Elapsed time for  MLPRegressor(activation='relu', alpha=0.0001, batch_size='auto', beta_1=0.9,\n",
      "       beta_2=0.999, early_stopping=False, epsilon=1e-08,\n",
      "       hidden_layer_sizes=(32, 64, 32), learning_rate='constant',\n",
      "       learning_rate_init=0.001, max_iter=100, momentum=0.9,\n",
      "       n_iter_no_change=10, nesterovs_momentum=True, power_t=0.5,\n",
      "       random_state=None, shuffle=True, solver='adam', tol=0.0001,\n",
      "       validation_fraction=0.1, verbose=False, warm_start=False)  ==>  16.914088487625122\n",
      "------\n",
      "New model --> \n"
     ]
    },
    {
     "name": "stderr",
     "output_type": "stream",
     "text": [
      "C:\\Users\\Borja042\\Anaconda3\\lib\\site-packages\\sklearn\\neural_network\\multilayer_perceptron.py:562: ConvergenceWarning: Stochastic Optimizer: Maximum iterations (200) reached and the optimization hasn't converged yet.\n",
      "  % self.max_iter, ConvergenceWarning)\n"
     ]
    },
    {
     "name": "stdout",
     "output_type": "stream",
     "text": [
      "mae: 245326.3303\n",
      "rmse: 330060.2343\n",
      "TEST R^2: 0.34\n",
      "Elapsed time for  MLPRegressor(activation='relu', alpha=0.0001, batch_size='auto', beta_1=0.9,\n",
      "       beta_2=0.999, early_stopping=False, epsilon=1e-08,\n",
      "       hidden_layer_sizes=(32, 64, 128, 64, 32), learning_rate='constant',\n",
      "       learning_rate_init=0.001, max_iter=200, momentum=0.9,\n",
      "       n_iter_no_change=10, nesterovs_momentum=True, power_t=0.5,\n",
      "       random_state=None, shuffle=True, solver='adam', tol=0.0001,\n",
      "       validation_fraction=0.1, verbose=False, warm_start=False)  ==>  185.95676493644714\n",
      "------\n",
      "New model --> \n",
      "mae: 224998.9930\n",
      "rmse: 311964.9818\n",
      "TEST R^2: 0.41\n",
      "Elapsed time for  MLPRegressor(activation='relu', alpha=0.0001, batch_size='auto', beta_1=0.9,\n",
      "       beta_2=0.999, early_stopping=False, epsilon=1e-08,\n",
      "       hidden_layer_sizes=(64, 128, 256, 128, 64),\n",
      "       learning_rate='constant', learning_rate_init=0.001, max_iter=400,\n",
      "       momentum=0.9, n_iter_no_change=10, nesterovs_momentum=True,\n",
      "       power_t=0.5, random_state=None, shuffle=True, solver='adam',\n",
      "       tol=0.0001, validation_fraction=0.1, verbose=False,\n",
      "       warm_start=False)  ==>  592.6984088420868\n",
      "------\n",
      "New model --> \n",
      "mae: 221085.3858\n",
      "rmse: 309852.9409\n",
      "TEST R^2: 0.42\n",
      "Elapsed time for  MLPRegressor(activation='relu', alpha=0.0001, batch_size='auto', beta_1=0.9,\n",
      "       beta_2=0.999, early_stopping=False, epsilon=1e-08,\n",
      "       hidden_layer_sizes=(64, 128, 256, 512, 256, 128, 64),\n",
      "       learning_rate='constant', learning_rate_init=0.001, max_iter=700,\n",
      "       momentum=0.9, n_iter_no_change=10, nesterovs_momentum=True,\n",
      "       power_t=0.5, random_state=None, shuffle=True, solver='adam',\n",
      "       tol=0.0001, validation_fraction=0.1, verbose=False,\n",
      "       warm_start=False)  ==>  1726.555392742157\n"
     ]
    }
   ],
   "source": [
    "import time\n",
    "for arch in models:\n",
    "    print(\"------\")\n",
    "    print(\"New model --> \")\n",
    "    t0 = time.time()\n",
    "    arch.fit(Xd_train, y1_train)\n",
    "    y_pred = arch.predict(Xd_test)\n",
    "    print(\"mae: %.4f\"% mean_absolute_error(y1_test, y_pred))\n",
    "    print(\"rmse: %.4f\" % np.sqrt(mean_squared_error(y1_test, y_pred)))\n",
    "    print('TEST R^2: %.2f' % r2_score(y1_test, y_pred))  \n",
    "    t1 = time.time()\n",
    "    total = t1-t0\n",
    "    print(\"Elapsed time for \", arch, \" ==> \", total)\n",
    "    "
   ]
  },
  {
   "cell_type": "markdown",
   "metadata": {},
   "source": [
    "### Deep Learning Conclusions\n",
    "\n",
    "We can see that we have built 4 differents architectures and that the results are better when we increment the complexity of the model, as so it increases the execution time. It is possible to infer that looking at the two best models the performance may saturate so it is not worth it to make more complicate architectures because the gain on the error will not be that high considering the execution time. I think that if I would be able to run them on a GPU the execution time would be super decreased and by that way it would be worth to test and use more different and complex architectures. When performing deep learning models to need to control the overfitting as they tend to overfit, which is a common and known issue of deep learning.\n"
   ]
  },
  {
   "cell_type": "markdown",
   "metadata": {},
   "source": [
    "## Final Results and conclussions.\n",
    "\n",
    "Looking at the results, we have improved A LOT the performance with just those 3 variables using Deep Learning with the MLPRegressor compared with the Linear Model.  If we look at the best DL model we have built we can see that we have reduced the Mean Absolute Error by a 20 % and that we almost have a two times better $R^2$ coefficient so the deep learning model explains two times better the total variance of the dataset. Also, we need to take into account the execution times, from a few miliseconds the linear regression to 15 minutes for the best DL model and that is a humoungous difference. But still, the gaining on the error is worth to try deep learning techniques although they are way more complex. \n",
    "\n",
    "Also it is clear that the hyperparameters of the Deep Learning approach are harder to understand and to control that the ones on Linear Regression models but I believe that if we could use all the features even with a Linear Regression we could build a better and more accurate model so it is important to understand well and to try both approaches.\n"
   ]
  }
 ],
 "metadata": {
  "kernelspec": {
   "display_name": "Python 3",
   "language": "python",
   "name": "python3"
  },
  "language_info": {
   "codemirror_mode": {
    "name": "ipython",
    "version": 3
   },
   "file_extension": ".py",
   "mimetype": "text/x-python",
   "name": "python",
   "nbconvert_exporter": "python",
   "pygments_lexer": "ipython3",
   "version": "3.6.5"
  }
 },
 "nbformat": 4,
 "nbformat_minor": 2
}
